{
  "nbformat": 4,
  "nbformat_minor": 0,
  "metadata": {
    "colab": {
      "name": "recsys.ipynb",
      "provenance": [],
      "collapsed_sections": []
    },
    "kernelspec": {
      "display_name": "Python 3",
      "language": "python",
      "name": "python3"
    },
    "language_info": {
      "codemirror_mode": {
        "name": "ipython",
        "version": 3
      },
      "file_extension": ".py",
      "mimetype": "text/x-python",
      "name": "python",
      "nbconvert_exporter": "python",
      "pygments_lexer": "ipython3",
      "version": "3.7.5"
    },
    "widgets": {
      "application/vnd.jupyter.widget-state+json": {
        "0ea562801d454094ab5ca8411ece4b2d": {
          "model_module": "@jupyter-widgets/controls",
          "model_name": "HBoxModel",
          "model_module_version": "1.5.0",
          "state": {
            "_view_name": "HBoxView",
            "_dom_classes": [],
            "_model_name": "HBoxModel",
            "_view_module": "@jupyter-widgets/controls",
            "_model_module_version": "1.5.0",
            "_view_count": null,
            "_view_module_version": "1.5.0",
            "box_style": "",
            "layout": "IPY_MODEL_35ff299ece3148e68911d6edbe0738f4",
            "_model_module": "@jupyter-widgets/controls",
            "children": [
              "IPY_MODEL_4100bc8057a0454884ba9c3c0b1841b4",
              "IPY_MODEL_b01aa5bca5db4b1db1e9e2b934e4d176",
              "IPY_MODEL_8bf50a3d292e4f1caa24b1babc98106e"
            ]
          }
        },
        "35ff299ece3148e68911d6edbe0738f4": {
          "model_module": "@jupyter-widgets/base",
          "model_name": "LayoutModel",
          "model_module_version": "1.2.0",
          "state": {
            "_view_name": "LayoutView",
            "grid_template_rows": null,
            "right": null,
            "justify_content": null,
            "_view_module": "@jupyter-widgets/base",
            "overflow": null,
            "_model_module_version": "1.2.0",
            "_view_count": null,
            "flex_flow": null,
            "width": null,
            "min_width": null,
            "border": null,
            "align_items": null,
            "bottom": null,
            "_model_module": "@jupyter-widgets/base",
            "top": null,
            "grid_column": null,
            "overflow_y": null,
            "overflow_x": null,
            "grid_auto_flow": null,
            "grid_area": null,
            "grid_template_columns": null,
            "flex": null,
            "_model_name": "LayoutModel",
            "justify_items": null,
            "grid_row": null,
            "max_height": null,
            "align_content": null,
            "visibility": null,
            "align_self": null,
            "height": null,
            "min_height": null,
            "padding": null,
            "grid_auto_rows": null,
            "grid_gap": null,
            "max_width": null,
            "order": null,
            "_view_module_version": "1.2.0",
            "grid_template_areas": null,
            "object_position": null,
            "object_fit": null,
            "grid_auto_columns": null,
            "margin": null,
            "display": null,
            "left": null
          }
        },
        "4100bc8057a0454884ba9c3c0b1841b4": {
          "model_module": "@jupyter-widgets/controls",
          "model_name": "HTMLModel",
          "model_module_version": "1.5.0",
          "state": {
            "_view_name": "HTMLView",
            "style": "IPY_MODEL_af6e620fe86b4196b169599717160f5e",
            "_dom_classes": [],
            "description": "",
            "_model_name": "HTMLModel",
            "placeholder": "​",
            "_view_module": "@jupyter-widgets/controls",
            "_model_module_version": "1.5.0",
            "value": "100%",
            "_view_count": null,
            "_view_module_version": "1.5.0",
            "description_tooltip": null,
            "_model_module": "@jupyter-widgets/controls",
            "layout": "IPY_MODEL_265f0b93bb594abb9067985bda68da7b"
          }
        },
        "b01aa5bca5db4b1db1e9e2b934e4d176": {
          "model_module": "@jupyter-widgets/controls",
          "model_name": "FloatProgressModel",
          "model_module_version": "1.5.0",
          "state": {
            "_view_name": "ProgressView",
            "style": "IPY_MODEL_8e617bf6c29e44569aca231f4914dfd5",
            "_dom_classes": [],
            "description": "",
            "_model_name": "FloatProgressModel",
            "bar_style": "success",
            "max": 1111,
            "_view_module": "@jupyter-widgets/controls",
            "_model_module_version": "1.5.0",
            "value": 1111,
            "_view_count": null,
            "_view_module_version": "1.5.0",
            "orientation": "horizontal",
            "min": 0,
            "description_tooltip": null,
            "_model_module": "@jupyter-widgets/controls",
            "layout": "IPY_MODEL_6c01f618e3bc4111ba5ae59ee0fe5234"
          }
        },
        "8bf50a3d292e4f1caa24b1babc98106e": {
          "model_module": "@jupyter-widgets/controls",
          "model_name": "HTMLModel",
          "model_module_version": "1.5.0",
          "state": {
            "_view_name": "HTMLView",
            "style": "IPY_MODEL_3bd3bba9e1104daf86ce2daa9ff7b8cf",
            "_dom_classes": [],
            "description": "",
            "_model_name": "HTMLModel",
            "placeholder": "​",
            "_view_module": "@jupyter-widgets/controls",
            "_model_module_version": "1.5.0",
            "value": " 1111/1111 [00:37&lt;00:00, 182.78it/s]",
            "_view_count": null,
            "_view_module_version": "1.5.0",
            "description_tooltip": null,
            "_model_module": "@jupyter-widgets/controls",
            "layout": "IPY_MODEL_58cd14ca7f1b4847bcf9b39a492a6789"
          }
        },
        "af6e620fe86b4196b169599717160f5e": {
          "model_module": "@jupyter-widgets/controls",
          "model_name": "DescriptionStyleModel",
          "model_module_version": "1.5.0",
          "state": {
            "_view_name": "StyleView",
            "_model_name": "DescriptionStyleModel",
            "description_width": "",
            "_view_module": "@jupyter-widgets/base",
            "_model_module_version": "1.5.0",
            "_view_count": null,
            "_view_module_version": "1.2.0",
            "_model_module": "@jupyter-widgets/controls"
          }
        },
        "265f0b93bb594abb9067985bda68da7b": {
          "model_module": "@jupyter-widgets/base",
          "model_name": "LayoutModel",
          "model_module_version": "1.2.0",
          "state": {
            "_view_name": "LayoutView",
            "grid_template_rows": null,
            "right": null,
            "justify_content": null,
            "_view_module": "@jupyter-widgets/base",
            "overflow": null,
            "_model_module_version": "1.2.0",
            "_view_count": null,
            "flex_flow": null,
            "width": null,
            "min_width": null,
            "border": null,
            "align_items": null,
            "bottom": null,
            "_model_module": "@jupyter-widgets/base",
            "top": null,
            "grid_column": null,
            "overflow_y": null,
            "overflow_x": null,
            "grid_auto_flow": null,
            "grid_area": null,
            "grid_template_columns": null,
            "flex": null,
            "_model_name": "LayoutModel",
            "justify_items": null,
            "grid_row": null,
            "max_height": null,
            "align_content": null,
            "visibility": null,
            "align_self": null,
            "height": null,
            "min_height": null,
            "padding": null,
            "grid_auto_rows": null,
            "grid_gap": null,
            "max_width": null,
            "order": null,
            "_view_module_version": "1.2.0",
            "grid_template_areas": null,
            "object_position": null,
            "object_fit": null,
            "grid_auto_columns": null,
            "margin": null,
            "display": null,
            "left": null
          }
        },
        "8e617bf6c29e44569aca231f4914dfd5": {
          "model_module": "@jupyter-widgets/controls",
          "model_name": "ProgressStyleModel",
          "model_module_version": "1.5.0",
          "state": {
            "_view_name": "StyleView",
            "_model_name": "ProgressStyleModel",
            "description_width": "",
            "_view_module": "@jupyter-widgets/base",
            "_model_module_version": "1.5.0",
            "_view_count": null,
            "_view_module_version": "1.2.0",
            "bar_color": null,
            "_model_module": "@jupyter-widgets/controls"
          }
        },
        "6c01f618e3bc4111ba5ae59ee0fe5234": {
          "model_module": "@jupyter-widgets/base",
          "model_name": "LayoutModel",
          "model_module_version": "1.2.0",
          "state": {
            "_view_name": "LayoutView",
            "grid_template_rows": null,
            "right": null,
            "justify_content": null,
            "_view_module": "@jupyter-widgets/base",
            "overflow": null,
            "_model_module_version": "1.2.0",
            "_view_count": null,
            "flex_flow": null,
            "width": null,
            "min_width": null,
            "border": null,
            "align_items": null,
            "bottom": null,
            "_model_module": "@jupyter-widgets/base",
            "top": null,
            "grid_column": null,
            "overflow_y": null,
            "overflow_x": null,
            "grid_auto_flow": null,
            "grid_area": null,
            "grid_template_columns": null,
            "flex": null,
            "_model_name": "LayoutModel",
            "justify_items": null,
            "grid_row": null,
            "max_height": null,
            "align_content": null,
            "visibility": null,
            "align_self": null,
            "height": null,
            "min_height": null,
            "padding": null,
            "grid_auto_rows": null,
            "grid_gap": null,
            "max_width": null,
            "order": null,
            "_view_module_version": "1.2.0",
            "grid_template_areas": null,
            "object_position": null,
            "object_fit": null,
            "grid_auto_columns": null,
            "margin": null,
            "display": null,
            "left": null
          }
        },
        "3bd3bba9e1104daf86ce2daa9ff7b8cf": {
          "model_module": "@jupyter-widgets/controls",
          "model_name": "DescriptionStyleModel",
          "model_module_version": "1.5.0",
          "state": {
            "_view_name": "StyleView",
            "_model_name": "DescriptionStyleModel",
            "description_width": "",
            "_view_module": "@jupyter-widgets/base",
            "_model_module_version": "1.5.0",
            "_view_count": null,
            "_view_module_version": "1.2.0",
            "_model_module": "@jupyter-widgets/controls"
          }
        },
        "58cd14ca7f1b4847bcf9b39a492a6789": {
          "model_module": "@jupyter-widgets/base",
          "model_name": "LayoutModel",
          "model_module_version": "1.2.0",
          "state": {
            "_view_name": "LayoutView",
            "grid_template_rows": null,
            "right": null,
            "justify_content": null,
            "_view_module": "@jupyter-widgets/base",
            "overflow": null,
            "_model_module_version": "1.2.0",
            "_view_count": null,
            "flex_flow": null,
            "width": null,
            "min_width": null,
            "border": null,
            "align_items": null,
            "bottom": null,
            "_model_module": "@jupyter-widgets/base",
            "top": null,
            "grid_column": null,
            "overflow_y": null,
            "overflow_x": null,
            "grid_auto_flow": null,
            "grid_area": null,
            "grid_template_columns": null,
            "flex": null,
            "_model_name": "LayoutModel",
            "justify_items": null,
            "grid_row": null,
            "max_height": null,
            "align_content": null,
            "visibility": null,
            "align_self": null,
            "height": null,
            "min_height": null,
            "padding": null,
            "grid_auto_rows": null,
            "grid_gap": null,
            "max_width": null,
            "order": null,
            "_view_module_version": "1.2.0",
            "grid_template_areas": null,
            "object_position": null,
            "object_fit": null,
            "grid_auto_columns": null,
            "margin": null,
            "display": null,
            "left": null
          }
        },
        "e6e459dae870476e87f73af6999b48c0": {
          "model_module": "@jupyter-widgets/controls",
          "model_name": "HBoxModel",
          "model_module_version": "1.5.0",
          "state": {
            "_view_name": "HBoxView",
            "_dom_classes": [],
            "_model_name": "HBoxModel",
            "_view_module": "@jupyter-widgets/controls",
            "_model_module_version": "1.5.0",
            "_view_count": null,
            "_view_module_version": "1.5.0",
            "box_style": "",
            "layout": "IPY_MODEL_082ed11f084742faa81a97a53834df19",
            "_model_module": "@jupyter-widgets/controls",
            "children": [
              "IPY_MODEL_f513452bb5394e778b1487b3410f619c",
              "IPY_MODEL_9daed56d0c2d4fd9a8fe2a6e399bd0e8",
              "IPY_MODEL_aea3bcdcef0440b1b0bfaa58acb60da1"
            ]
          }
        },
        "082ed11f084742faa81a97a53834df19": {
          "model_module": "@jupyter-widgets/base",
          "model_name": "LayoutModel",
          "model_module_version": "1.2.0",
          "state": {
            "_view_name": "LayoutView",
            "grid_template_rows": null,
            "right": null,
            "justify_content": null,
            "_view_module": "@jupyter-widgets/base",
            "overflow": null,
            "_model_module_version": "1.2.0",
            "_view_count": null,
            "flex_flow": null,
            "width": null,
            "min_width": null,
            "border": null,
            "align_items": null,
            "bottom": null,
            "_model_module": "@jupyter-widgets/base",
            "top": null,
            "grid_column": null,
            "overflow_y": null,
            "overflow_x": null,
            "grid_auto_flow": null,
            "grid_area": null,
            "grid_template_columns": null,
            "flex": null,
            "_model_name": "LayoutModel",
            "justify_items": null,
            "grid_row": null,
            "max_height": null,
            "align_content": null,
            "visibility": null,
            "align_self": null,
            "height": null,
            "min_height": null,
            "padding": null,
            "grid_auto_rows": null,
            "grid_gap": null,
            "max_width": null,
            "order": null,
            "_view_module_version": "1.2.0",
            "grid_template_areas": null,
            "object_position": null,
            "object_fit": null,
            "grid_auto_columns": null,
            "margin": null,
            "display": null,
            "left": null
          }
        },
        "f513452bb5394e778b1487b3410f619c": {
          "model_module": "@jupyter-widgets/controls",
          "model_name": "HTMLModel",
          "model_module_version": "1.5.0",
          "state": {
            "_view_name": "HTMLView",
            "style": "IPY_MODEL_a17412c0a2674c68b663e44949105fa1",
            "_dom_classes": [],
            "description": "",
            "_model_name": "HTMLModel",
            "placeholder": "​",
            "_view_module": "@jupyter-widgets/controls",
            "_model_module_version": "1.5.0",
            "value": "100%",
            "_view_count": null,
            "_view_module_version": "1.5.0",
            "description_tooltip": null,
            "_model_module": "@jupyter-widgets/controls",
            "layout": "IPY_MODEL_defd38d080a84d6a983f3a5af875f2a3"
          }
        },
        "9daed56d0c2d4fd9a8fe2a6e399bd0e8": {
          "model_module": "@jupyter-widgets/controls",
          "model_name": "FloatProgressModel",
          "model_module_version": "1.5.0",
          "state": {
            "_view_name": "ProgressView",
            "style": "IPY_MODEL_737dffc19ca84e5a930c99dcd1acb8e9",
            "_dom_classes": [],
            "description": "",
            "_model_name": "FloatProgressModel",
            "bar_style": "success",
            "max": 1112,
            "_view_module": "@jupyter-widgets/controls",
            "_model_module_version": "1.5.0",
            "value": 1112,
            "_view_count": null,
            "_view_module_version": "1.5.0",
            "orientation": "horizontal",
            "min": 0,
            "description_tooltip": null,
            "_model_module": "@jupyter-widgets/controls",
            "layout": "IPY_MODEL_97b5c9d4f6fb44debb7aa50a477de88c"
          }
        },
        "aea3bcdcef0440b1b0bfaa58acb60da1": {
          "model_module": "@jupyter-widgets/controls",
          "model_name": "HTMLModel",
          "model_module_version": "1.5.0",
          "state": {
            "_view_name": "HTMLView",
            "style": "IPY_MODEL_a94fa8269d6b47d7ac9a91bc7c72a8ec",
            "_dom_classes": [],
            "description": "",
            "_model_name": "HTMLModel",
            "placeholder": "​",
            "_view_module": "@jupyter-widgets/controls",
            "_model_module_version": "1.5.0",
            "value": " 1112/1112 [00:02&lt;00:00, 401.68it/s]",
            "_view_count": null,
            "_view_module_version": "1.5.0",
            "description_tooltip": null,
            "_model_module": "@jupyter-widgets/controls",
            "layout": "IPY_MODEL_4a50b669fb5d4b53998224de4f2794f4"
          }
        },
        "a17412c0a2674c68b663e44949105fa1": {
          "model_module": "@jupyter-widgets/controls",
          "model_name": "DescriptionStyleModel",
          "model_module_version": "1.5.0",
          "state": {
            "_view_name": "StyleView",
            "_model_name": "DescriptionStyleModel",
            "description_width": "",
            "_view_module": "@jupyter-widgets/base",
            "_model_module_version": "1.5.0",
            "_view_count": null,
            "_view_module_version": "1.2.0",
            "_model_module": "@jupyter-widgets/controls"
          }
        },
        "defd38d080a84d6a983f3a5af875f2a3": {
          "model_module": "@jupyter-widgets/base",
          "model_name": "LayoutModel",
          "model_module_version": "1.2.0",
          "state": {
            "_view_name": "LayoutView",
            "grid_template_rows": null,
            "right": null,
            "justify_content": null,
            "_view_module": "@jupyter-widgets/base",
            "overflow": null,
            "_model_module_version": "1.2.0",
            "_view_count": null,
            "flex_flow": null,
            "width": null,
            "min_width": null,
            "border": null,
            "align_items": null,
            "bottom": null,
            "_model_module": "@jupyter-widgets/base",
            "top": null,
            "grid_column": null,
            "overflow_y": null,
            "overflow_x": null,
            "grid_auto_flow": null,
            "grid_area": null,
            "grid_template_columns": null,
            "flex": null,
            "_model_name": "LayoutModel",
            "justify_items": null,
            "grid_row": null,
            "max_height": null,
            "align_content": null,
            "visibility": null,
            "align_self": null,
            "height": null,
            "min_height": null,
            "padding": null,
            "grid_auto_rows": null,
            "grid_gap": null,
            "max_width": null,
            "order": null,
            "_view_module_version": "1.2.0",
            "grid_template_areas": null,
            "object_position": null,
            "object_fit": null,
            "grid_auto_columns": null,
            "margin": null,
            "display": null,
            "left": null
          }
        },
        "737dffc19ca84e5a930c99dcd1acb8e9": {
          "model_module": "@jupyter-widgets/controls",
          "model_name": "ProgressStyleModel",
          "model_module_version": "1.5.0",
          "state": {
            "_view_name": "StyleView",
            "_model_name": "ProgressStyleModel",
            "description_width": "",
            "_view_module": "@jupyter-widgets/base",
            "_model_module_version": "1.5.0",
            "_view_count": null,
            "_view_module_version": "1.2.0",
            "bar_color": null,
            "_model_module": "@jupyter-widgets/controls"
          }
        },
        "97b5c9d4f6fb44debb7aa50a477de88c": {
          "model_module": "@jupyter-widgets/base",
          "model_name": "LayoutModel",
          "model_module_version": "1.2.0",
          "state": {
            "_view_name": "LayoutView",
            "grid_template_rows": null,
            "right": null,
            "justify_content": null,
            "_view_module": "@jupyter-widgets/base",
            "overflow": null,
            "_model_module_version": "1.2.0",
            "_view_count": null,
            "flex_flow": null,
            "width": null,
            "min_width": null,
            "border": null,
            "align_items": null,
            "bottom": null,
            "_model_module": "@jupyter-widgets/base",
            "top": null,
            "grid_column": null,
            "overflow_y": null,
            "overflow_x": null,
            "grid_auto_flow": null,
            "grid_area": null,
            "grid_template_columns": null,
            "flex": null,
            "_model_name": "LayoutModel",
            "justify_items": null,
            "grid_row": null,
            "max_height": null,
            "align_content": null,
            "visibility": null,
            "align_self": null,
            "height": null,
            "min_height": null,
            "padding": null,
            "grid_auto_rows": null,
            "grid_gap": null,
            "max_width": null,
            "order": null,
            "_view_module_version": "1.2.0",
            "grid_template_areas": null,
            "object_position": null,
            "object_fit": null,
            "grid_auto_columns": null,
            "margin": null,
            "display": null,
            "left": null
          }
        },
        "a94fa8269d6b47d7ac9a91bc7c72a8ec": {
          "model_module": "@jupyter-widgets/controls",
          "model_name": "DescriptionStyleModel",
          "model_module_version": "1.5.0",
          "state": {
            "_view_name": "StyleView",
            "_model_name": "DescriptionStyleModel",
            "description_width": "",
            "_view_module": "@jupyter-widgets/base",
            "_model_module_version": "1.5.0",
            "_view_count": null,
            "_view_module_version": "1.2.0",
            "_model_module": "@jupyter-widgets/controls"
          }
        },
        "4a50b669fb5d4b53998224de4f2794f4": {
          "model_module": "@jupyter-widgets/base",
          "model_name": "LayoutModel",
          "model_module_version": "1.2.0",
          "state": {
            "_view_name": "LayoutView",
            "grid_template_rows": null,
            "right": null,
            "justify_content": null,
            "_view_module": "@jupyter-widgets/base",
            "overflow": null,
            "_model_module_version": "1.2.0",
            "_view_count": null,
            "flex_flow": null,
            "width": null,
            "min_width": null,
            "border": null,
            "align_items": null,
            "bottom": null,
            "_model_module": "@jupyter-widgets/base",
            "top": null,
            "grid_column": null,
            "overflow_y": null,
            "overflow_x": null,
            "grid_auto_flow": null,
            "grid_area": null,
            "grid_template_columns": null,
            "flex": null,
            "_model_name": "LayoutModel",
            "justify_items": null,
            "grid_row": null,
            "max_height": null,
            "align_content": null,
            "visibility": null,
            "align_self": null,
            "height": null,
            "min_height": null,
            "padding": null,
            "grid_auto_rows": null,
            "grid_gap": null,
            "max_width": null,
            "order": null,
            "_view_module_version": "1.2.0",
            "grid_template_areas": null,
            "object_position": null,
            "object_fit": null,
            "grid_auto_columns": null,
            "margin": null,
            "display": null,
            "left": null
          }
        },
        "309aa8687a0447a49410d4999f6e398a": {
          "model_module": "@jupyter-widgets/controls",
          "model_name": "HBoxModel",
          "model_module_version": "1.5.0",
          "state": {
            "_view_name": "HBoxView",
            "_dom_classes": [],
            "_model_name": "HBoxModel",
            "_view_module": "@jupyter-widgets/controls",
            "_model_module_version": "1.5.0",
            "_view_count": null,
            "_view_module_version": "1.5.0",
            "box_style": "",
            "layout": "IPY_MODEL_3d891f9a4d024fd2ab2b4880f3d001cc",
            "_model_module": "@jupyter-widgets/controls",
            "children": [
              "IPY_MODEL_ef5b837cbba247f8bd27216062dd03cd",
              "IPY_MODEL_f804dfbd05ba489bb36c83af4849829e",
              "IPY_MODEL_ade24d70e84140d59067d2b774d9b6c0"
            ]
          }
        },
        "3d891f9a4d024fd2ab2b4880f3d001cc": {
          "model_module": "@jupyter-widgets/base",
          "model_name": "LayoutModel",
          "model_module_version": "1.2.0",
          "state": {
            "_view_name": "LayoutView",
            "grid_template_rows": null,
            "right": null,
            "justify_content": null,
            "_view_module": "@jupyter-widgets/base",
            "overflow": null,
            "_model_module_version": "1.2.0",
            "_view_count": null,
            "flex_flow": null,
            "width": null,
            "min_width": null,
            "border": null,
            "align_items": null,
            "bottom": null,
            "_model_module": "@jupyter-widgets/base",
            "top": null,
            "grid_column": null,
            "overflow_y": null,
            "overflow_x": null,
            "grid_auto_flow": null,
            "grid_area": null,
            "grid_template_columns": null,
            "flex": null,
            "_model_name": "LayoutModel",
            "justify_items": null,
            "grid_row": null,
            "max_height": null,
            "align_content": null,
            "visibility": null,
            "align_self": null,
            "height": null,
            "min_height": null,
            "padding": null,
            "grid_auto_rows": null,
            "grid_gap": null,
            "max_width": null,
            "order": null,
            "_view_module_version": "1.2.0",
            "grid_template_areas": null,
            "object_position": null,
            "object_fit": null,
            "grid_auto_columns": null,
            "margin": null,
            "display": null,
            "left": null
          }
        },
        "ef5b837cbba247f8bd27216062dd03cd": {
          "model_module": "@jupyter-widgets/controls",
          "model_name": "HTMLModel",
          "model_module_version": "1.5.0",
          "state": {
            "_view_name": "HTMLView",
            "style": "IPY_MODEL_7b751019db4e4af2afc6ecc098850ca2",
            "_dom_classes": [],
            "description": "",
            "_model_name": "HTMLModel",
            "placeholder": "​",
            "_view_module": "@jupyter-widgets/controls",
            "_model_module_version": "1.5.0",
            "value": "100%",
            "_view_count": null,
            "_view_module_version": "1.5.0",
            "description_tooltip": null,
            "_model_module": "@jupyter-widgets/controls",
            "layout": "IPY_MODEL_05f2252cf19b4f8b844f8bd2032007a1"
          }
        },
        "f804dfbd05ba489bb36c83af4849829e": {
          "model_module": "@jupyter-widgets/controls",
          "model_name": "FloatProgressModel",
          "model_module_version": "1.5.0",
          "state": {
            "_view_name": "ProgressView",
            "style": "IPY_MODEL_c55c15ab38a447e1987d0d2cb98bcdae",
            "_dom_classes": [],
            "description": "",
            "_model_name": "FloatProgressModel",
            "bar_style": "success",
            "max": 1112,
            "_view_module": "@jupyter-widgets/controls",
            "_model_module_version": "1.5.0",
            "value": 1112,
            "_view_count": null,
            "_view_module_version": "1.5.0",
            "orientation": "horizontal",
            "min": 0,
            "description_tooltip": null,
            "_model_module": "@jupyter-widgets/controls",
            "layout": "IPY_MODEL_5c5355981c9f4c2fb2d09cb8128df3c3"
          }
        },
        "ade24d70e84140d59067d2b774d9b6c0": {
          "model_module": "@jupyter-widgets/controls",
          "model_name": "HTMLModel",
          "model_module_version": "1.5.0",
          "state": {
            "_view_name": "HTMLView",
            "style": "IPY_MODEL_59a8f04519d04842b2c5fcbee802f754",
            "_dom_classes": [],
            "description": "",
            "_model_name": "HTMLModel",
            "placeholder": "​",
            "_view_module": "@jupyter-widgets/controls",
            "_model_module_version": "1.5.0",
            "value": " 1112/1112 [00:04&lt;00:00, 271.69it/s]",
            "_view_count": null,
            "_view_module_version": "1.5.0",
            "description_tooltip": null,
            "_model_module": "@jupyter-widgets/controls",
            "layout": "IPY_MODEL_90ebfa6bfe59463681496aed9fcc4120"
          }
        },
        "7b751019db4e4af2afc6ecc098850ca2": {
          "model_module": "@jupyter-widgets/controls",
          "model_name": "DescriptionStyleModel",
          "model_module_version": "1.5.0",
          "state": {
            "_view_name": "StyleView",
            "_model_name": "DescriptionStyleModel",
            "description_width": "",
            "_view_module": "@jupyter-widgets/base",
            "_model_module_version": "1.5.0",
            "_view_count": null,
            "_view_module_version": "1.2.0",
            "_model_module": "@jupyter-widgets/controls"
          }
        },
        "05f2252cf19b4f8b844f8bd2032007a1": {
          "model_module": "@jupyter-widgets/base",
          "model_name": "LayoutModel",
          "model_module_version": "1.2.0",
          "state": {
            "_view_name": "LayoutView",
            "grid_template_rows": null,
            "right": null,
            "justify_content": null,
            "_view_module": "@jupyter-widgets/base",
            "overflow": null,
            "_model_module_version": "1.2.0",
            "_view_count": null,
            "flex_flow": null,
            "width": null,
            "min_width": null,
            "border": null,
            "align_items": null,
            "bottom": null,
            "_model_module": "@jupyter-widgets/base",
            "top": null,
            "grid_column": null,
            "overflow_y": null,
            "overflow_x": null,
            "grid_auto_flow": null,
            "grid_area": null,
            "grid_template_columns": null,
            "flex": null,
            "_model_name": "LayoutModel",
            "justify_items": null,
            "grid_row": null,
            "max_height": null,
            "align_content": null,
            "visibility": null,
            "align_self": null,
            "height": null,
            "min_height": null,
            "padding": null,
            "grid_auto_rows": null,
            "grid_gap": null,
            "max_width": null,
            "order": null,
            "_view_module_version": "1.2.0",
            "grid_template_areas": null,
            "object_position": null,
            "object_fit": null,
            "grid_auto_columns": null,
            "margin": null,
            "display": null,
            "left": null
          }
        },
        "c55c15ab38a447e1987d0d2cb98bcdae": {
          "model_module": "@jupyter-widgets/controls",
          "model_name": "ProgressStyleModel",
          "model_module_version": "1.5.0",
          "state": {
            "_view_name": "StyleView",
            "_model_name": "ProgressStyleModel",
            "description_width": "",
            "_view_module": "@jupyter-widgets/base",
            "_model_module_version": "1.5.0",
            "_view_count": null,
            "_view_module_version": "1.2.0",
            "bar_color": null,
            "_model_module": "@jupyter-widgets/controls"
          }
        },
        "5c5355981c9f4c2fb2d09cb8128df3c3": {
          "model_module": "@jupyter-widgets/base",
          "model_name": "LayoutModel",
          "model_module_version": "1.2.0",
          "state": {
            "_view_name": "LayoutView",
            "grid_template_rows": null,
            "right": null,
            "justify_content": null,
            "_view_module": "@jupyter-widgets/base",
            "overflow": null,
            "_model_module_version": "1.2.0",
            "_view_count": null,
            "flex_flow": null,
            "width": null,
            "min_width": null,
            "border": null,
            "align_items": null,
            "bottom": null,
            "_model_module": "@jupyter-widgets/base",
            "top": null,
            "grid_column": null,
            "overflow_y": null,
            "overflow_x": null,
            "grid_auto_flow": null,
            "grid_area": null,
            "grid_template_columns": null,
            "flex": null,
            "_model_name": "LayoutModel",
            "justify_items": null,
            "grid_row": null,
            "max_height": null,
            "align_content": null,
            "visibility": null,
            "align_self": null,
            "height": null,
            "min_height": null,
            "padding": null,
            "grid_auto_rows": null,
            "grid_gap": null,
            "max_width": null,
            "order": null,
            "_view_module_version": "1.2.0",
            "grid_template_areas": null,
            "object_position": null,
            "object_fit": null,
            "grid_auto_columns": null,
            "margin": null,
            "display": null,
            "left": null
          }
        },
        "59a8f04519d04842b2c5fcbee802f754": {
          "model_module": "@jupyter-widgets/controls",
          "model_name": "DescriptionStyleModel",
          "model_module_version": "1.5.0",
          "state": {
            "_view_name": "StyleView",
            "_model_name": "DescriptionStyleModel",
            "description_width": "",
            "_view_module": "@jupyter-widgets/base",
            "_model_module_version": "1.5.0",
            "_view_count": null,
            "_view_module_version": "1.2.0",
            "_model_module": "@jupyter-widgets/controls"
          }
        },
        "90ebfa6bfe59463681496aed9fcc4120": {
          "model_module": "@jupyter-widgets/base",
          "model_name": "LayoutModel",
          "model_module_version": "1.2.0",
          "state": {
            "_view_name": "LayoutView",
            "grid_template_rows": null,
            "right": null,
            "justify_content": null,
            "_view_module": "@jupyter-widgets/base",
            "overflow": null,
            "_model_module_version": "1.2.0",
            "_view_count": null,
            "flex_flow": null,
            "width": null,
            "min_width": null,
            "border": null,
            "align_items": null,
            "bottom": null,
            "_model_module": "@jupyter-widgets/base",
            "top": null,
            "grid_column": null,
            "overflow_y": null,
            "overflow_x": null,
            "grid_auto_flow": null,
            "grid_area": null,
            "grid_template_columns": null,
            "flex": null,
            "_model_name": "LayoutModel",
            "justify_items": null,
            "grid_row": null,
            "max_height": null,
            "align_content": null,
            "visibility": null,
            "align_self": null,
            "height": null,
            "min_height": null,
            "padding": null,
            "grid_auto_rows": null,
            "grid_gap": null,
            "max_width": null,
            "order": null,
            "_view_module_version": "1.2.0",
            "grid_template_areas": null,
            "object_position": null,
            "object_fit": null,
            "grid_auto_columns": null,
            "margin": null,
            "display": null,
            "left": null
          }
        },
        "24afedde6c8043b59d3b69b3731788f2": {
          "model_module": "@jupyter-widgets/controls",
          "model_name": "HBoxModel",
          "model_module_version": "1.5.0",
          "state": {
            "_view_name": "HBoxView",
            "_dom_classes": [],
            "_model_name": "HBoxModel",
            "_view_module": "@jupyter-widgets/controls",
            "_model_module_version": "1.5.0",
            "_view_count": null,
            "_view_module_version": "1.5.0",
            "box_style": "",
            "layout": "IPY_MODEL_1a7e8206a8164659b69e399d9f5d6191",
            "_model_module": "@jupyter-widgets/controls",
            "children": [
              "IPY_MODEL_3ff015065a0d4ce294f0d36d073b0150",
              "IPY_MODEL_90e8395ff0ad40d7b213c4cdfd0216bc",
              "IPY_MODEL_9cbacf903c08402fa3029758c28257f9"
            ]
          }
        },
        "1a7e8206a8164659b69e399d9f5d6191": {
          "model_module": "@jupyter-widgets/base",
          "model_name": "LayoutModel",
          "model_module_version": "1.2.0",
          "state": {
            "_view_name": "LayoutView",
            "grid_template_rows": null,
            "right": null,
            "justify_content": null,
            "_view_module": "@jupyter-widgets/base",
            "overflow": null,
            "_model_module_version": "1.2.0",
            "_view_count": null,
            "flex_flow": null,
            "width": null,
            "min_width": null,
            "border": null,
            "align_items": null,
            "bottom": null,
            "_model_module": "@jupyter-widgets/base",
            "top": null,
            "grid_column": null,
            "overflow_y": null,
            "overflow_x": null,
            "grid_auto_flow": null,
            "grid_area": null,
            "grid_template_columns": null,
            "flex": null,
            "_model_name": "LayoutModel",
            "justify_items": null,
            "grid_row": null,
            "max_height": null,
            "align_content": null,
            "visibility": null,
            "align_self": null,
            "height": null,
            "min_height": null,
            "padding": null,
            "grid_auto_rows": null,
            "grid_gap": null,
            "max_width": null,
            "order": null,
            "_view_module_version": "1.2.0",
            "grid_template_areas": null,
            "object_position": null,
            "object_fit": null,
            "grid_auto_columns": null,
            "margin": null,
            "display": null,
            "left": null
          }
        },
        "3ff015065a0d4ce294f0d36d073b0150": {
          "model_module": "@jupyter-widgets/controls",
          "model_name": "HTMLModel",
          "model_module_version": "1.5.0",
          "state": {
            "_view_name": "HTMLView",
            "style": "IPY_MODEL_753c5f20871c4ef39adfe55b4bb3a94f",
            "_dom_classes": [],
            "description": "",
            "_model_name": "HTMLModel",
            "placeholder": "​",
            "_view_module": "@jupyter-widgets/controls",
            "_model_module_version": "1.5.0",
            "value": "100%",
            "_view_count": null,
            "_view_module_version": "1.5.0",
            "description_tooltip": null,
            "_model_module": "@jupyter-widgets/controls",
            "layout": "IPY_MODEL_f59475e419c24c24a6ccae77de4997fa"
          }
        },
        "90e8395ff0ad40d7b213c4cdfd0216bc": {
          "model_module": "@jupyter-widgets/controls",
          "model_name": "FloatProgressModel",
          "model_module_version": "1.5.0",
          "state": {
            "_view_name": "ProgressView",
            "style": "IPY_MODEL_2599fffeaa484d368d69769359b9ad0a",
            "_dom_classes": [],
            "description": "",
            "_model_name": "FloatProgressModel",
            "bar_style": "success",
            "max": 1112,
            "_view_module": "@jupyter-widgets/controls",
            "_model_module_version": "1.5.0",
            "value": 1112,
            "_view_count": null,
            "_view_module_version": "1.5.0",
            "orientation": "horizontal",
            "min": 0,
            "description_tooltip": null,
            "_model_module": "@jupyter-widgets/controls",
            "layout": "IPY_MODEL_4707eccb7ec64713b7d7db55e1d13038"
          }
        },
        "9cbacf903c08402fa3029758c28257f9": {
          "model_module": "@jupyter-widgets/controls",
          "model_name": "HTMLModel",
          "model_module_version": "1.5.0",
          "state": {
            "_view_name": "HTMLView",
            "style": "IPY_MODEL_f7bad4902df04eed9b9d49e9bcd6b20d",
            "_dom_classes": [],
            "description": "",
            "_model_name": "HTMLModel",
            "placeholder": "​",
            "_view_module": "@jupyter-widgets/controls",
            "_model_module_version": "1.5.0",
            "value": " 1112/1112 [00:03&lt;00:00, 349.79it/s]",
            "_view_count": null,
            "_view_module_version": "1.5.0",
            "description_tooltip": null,
            "_model_module": "@jupyter-widgets/controls",
            "layout": "IPY_MODEL_e25e893c7c5041a387db661d9cd9428a"
          }
        },
        "753c5f20871c4ef39adfe55b4bb3a94f": {
          "model_module": "@jupyter-widgets/controls",
          "model_name": "DescriptionStyleModel",
          "model_module_version": "1.5.0",
          "state": {
            "_view_name": "StyleView",
            "_model_name": "DescriptionStyleModel",
            "description_width": "",
            "_view_module": "@jupyter-widgets/base",
            "_model_module_version": "1.5.0",
            "_view_count": null,
            "_view_module_version": "1.2.0",
            "_model_module": "@jupyter-widgets/controls"
          }
        },
        "f59475e419c24c24a6ccae77de4997fa": {
          "model_module": "@jupyter-widgets/base",
          "model_name": "LayoutModel",
          "model_module_version": "1.2.0",
          "state": {
            "_view_name": "LayoutView",
            "grid_template_rows": null,
            "right": null,
            "justify_content": null,
            "_view_module": "@jupyter-widgets/base",
            "overflow": null,
            "_model_module_version": "1.2.0",
            "_view_count": null,
            "flex_flow": null,
            "width": null,
            "min_width": null,
            "border": null,
            "align_items": null,
            "bottom": null,
            "_model_module": "@jupyter-widgets/base",
            "top": null,
            "grid_column": null,
            "overflow_y": null,
            "overflow_x": null,
            "grid_auto_flow": null,
            "grid_area": null,
            "grid_template_columns": null,
            "flex": null,
            "_model_name": "LayoutModel",
            "justify_items": null,
            "grid_row": null,
            "max_height": null,
            "align_content": null,
            "visibility": null,
            "align_self": null,
            "height": null,
            "min_height": null,
            "padding": null,
            "grid_auto_rows": null,
            "grid_gap": null,
            "max_width": null,
            "order": null,
            "_view_module_version": "1.2.0",
            "grid_template_areas": null,
            "object_position": null,
            "object_fit": null,
            "grid_auto_columns": null,
            "margin": null,
            "display": null,
            "left": null
          }
        },
        "2599fffeaa484d368d69769359b9ad0a": {
          "model_module": "@jupyter-widgets/controls",
          "model_name": "ProgressStyleModel",
          "model_module_version": "1.5.0",
          "state": {
            "_view_name": "StyleView",
            "_model_name": "ProgressStyleModel",
            "description_width": "",
            "_view_module": "@jupyter-widgets/base",
            "_model_module_version": "1.5.0",
            "_view_count": null,
            "_view_module_version": "1.2.0",
            "bar_color": null,
            "_model_module": "@jupyter-widgets/controls"
          }
        },
        "4707eccb7ec64713b7d7db55e1d13038": {
          "model_module": "@jupyter-widgets/base",
          "model_name": "LayoutModel",
          "model_module_version": "1.2.0",
          "state": {
            "_view_name": "LayoutView",
            "grid_template_rows": null,
            "right": null,
            "justify_content": null,
            "_view_module": "@jupyter-widgets/base",
            "overflow": null,
            "_model_module_version": "1.2.0",
            "_view_count": null,
            "flex_flow": null,
            "width": null,
            "min_width": null,
            "border": null,
            "align_items": null,
            "bottom": null,
            "_model_module": "@jupyter-widgets/base",
            "top": null,
            "grid_column": null,
            "overflow_y": null,
            "overflow_x": null,
            "grid_auto_flow": null,
            "grid_area": null,
            "grid_template_columns": null,
            "flex": null,
            "_model_name": "LayoutModel",
            "justify_items": null,
            "grid_row": null,
            "max_height": null,
            "align_content": null,
            "visibility": null,
            "align_self": null,
            "height": null,
            "min_height": null,
            "padding": null,
            "grid_auto_rows": null,
            "grid_gap": null,
            "max_width": null,
            "order": null,
            "_view_module_version": "1.2.0",
            "grid_template_areas": null,
            "object_position": null,
            "object_fit": null,
            "grid_auto_columns": null,
            "margin": null,
            "display": null,
            "left": null
          }
        },
        "f7bad4902df04eed9b9d49e9bcd6b20d": {
          "model_module": "@jupyter-widgets/controls",
          "model_name": "DescriptionStyleModel",
          "model_module_version": "1.5.0",
          "state": {
            "_view_name": "StyleView",
            "_model_name": "DescriptionStyleModel",
            "description_width": "",
            "_view_module": "@jupyter-widgets/base",
            "_model_module_version": "1.5.0",
            "_view_count": null,
            "_view_module_version": "1.2.0",
            "_model_module": "@jupyter-widgets/controls"
          }
        },
        "e25e893c7c5041a387db661d9cd9428a": {
          "model_module": "@jupyter-widgets/base",
          "model_name": "LayoutModel",
          "model_module_version": "1.2.0",
          "state": {
            "_view_name": "LayoutView",
            "grid_template_rows": null,
            "right": null,
            "justify_content": null,
            "_view_module": "@jupyter-widgets/base",
            "overflow": null,
            "_model_module_version": "1.2.0",
            "_view_count": null,
            "flex_flow": null,
            "width": null,
            "min_width": null,
            "border": null,
            "align_items": null,
            "bottom": null,
            "_model_module": "@jupyter-widgets/base",
            "top": null,
            "grid_column": null,
            "overflow_y": null,
            "overflow_x": null,
            "grid_auto_flow": null,
            "grid_area": null,
            "grid_template_columns": null,
            "flex": null,
            "_model_name": "LayoutModel",
            "justify_items": null,
            "grid_row": null,
            "max_height": null,
            "align_content": null,
            "visibility": null,
            "align_self": null,
            "height": null,
            "min_height": null,
            "padding": null,
            "grid_auto_rows": null,
            "grid_gap": null,
            "max_width": null,
            "order": null,
            "_view_module_version": "1.2.0",
            "grid_template_areas": null,
            "object_position": null,
            "object_fit": null,
            "grid_auto_columns": null,
            "margin": null,
            "display": null,
            "left": null
          }
        },
        "5e47369ce1e049deb0aac8be79ce31e8": {
          "model_module": "@jupyter-widgets/controls",
          "model_name": "HBoxModel",
          "model_module_version": "1.5.0",
          "state": {
            "_view_name": "HBoxView",
            "_dom_classes": [],
            "_model_name": "HBoxModel",
            "_view_module": "@jupyter-widgets/controls",
            "_model_module_version": "1.5.0",
            "_view_count": null,
            "_view_module_version": "1.5.0",
            "box_style": "",
            "layout": "IPY_MODEL_98053b77ba4a4d4b8ae6fffde882e65d",
            "_model_module": "@jupyter-widgets/controls",
            "children": [
              "IPY_MODEL_338b82ceb79148b6a774a51e3cfaf68f",
              "IPY_MODEL_95e5821ea5264674bf7257a5529b7234",
              "IPY_MODEL_daadcd9262e94a54af6252a04184ca41"
            ]
          }
        },
        "98053b77ba4a4d4b8ae6fffde882e65d": {
          "model_module": "@jupyter-widgets/base",
          "model_name": "LayoutModel",
          "model_module_version": "1.2.0",
          "state": {
            "_view_name": "LayoutView",
            "grid_template_rows": null,
            "right": null,
            "justify_content": null,
            "_view_module": "@jupyter-widgets/base",
            "overflow": null,
            "_model_module_version": "1.2.0",
            "_view_count": null,
            "flex_flow": null,
            "width": null,
            "min_width": null,
            "border": null,
            "align_items": null,
            "bottom": null,
            "_model_module": "@jupyter-widgets/base",
            "top": null,
            "grid_column": null,
            "overflow_y": null,
            "overflow_x": null,
            "grid_auto_flow": null,
            "grid_area": null,
            "grid_template_columns": null,
            "flex": null,
            "_model_name": "LayoutModel",
            "justify_items": null,
            "grid_row": null,
            "max_height": null,
            "align_content": null,
            "visibility": null,
            "align_self": null,
            "height": null,
            "min_height": null,
            "padding": null,
            "grid_auto_rows": null,
            "grid_gap": null,
            "max_width": null,
            "order": null,
            "_view_module_version": "1.2.0",
            "grid_template_areas": null,
            "object_position": null,
            "object_fit": null,
            "grid_auto_columns": null,
            "margin": null,
            "display": null,
            "left": null
          }
        },
        "338b82ceb79148b6a774a51e3cfaf68f": {
          "model_module": "@jupyter-widgets/controls",
          "model_name": "HTMLModel",
          "model_module_version": "1.5.0",
          "state": {
            "_view_name": "HTMLView",
            "style": "IPY_MODEL_86fe861ddb7b4e75a38b374b29cffa76",
            "_dom_classes": [],
            "description": "",
            "_model_name": "HTMLModel",
            "placeholder": "​",
            "_view_module": "@jupyter-widgets/controls",
            "_model_module_version": "1.5.0",
            "value": " 58%",
            "_view_count": null,
            "_view_module_version": "1.5.0",
            "description_tooltip": null,
            "_model_module": "@jupyter-widgets/controls",
            "layout": "IPY_MODEL_3e4973da3f224e53a81d766ae59bcb93"
          }
        },
        "95e5821ea5264674bf7257a5529b7234": {
          "model_module": "@jupyter-widgets/controls",
          "model_name": "FloatProgressModel",
          "model_module_version": "1.5.0",
          "state": {
            "_view_name": "ProgressView",
            "style": "IPY_MODEL_13a02709ca4843a39fb8c15d8a087321",
            "_dom_classes": [],
            "description": "",
            "_model_name": "FloatProgressModel",
            "bar_style": "",
            "max": 146645,
            "_view_module": "@jupyter-widgets/controls",
            "_model_module_version": "1.5.0",
            "value": 84621,
            "_view_count": null,
            "_view_module_version": "1.5.0",
            "orientation": "horizontal",
            "min": 0,
            "description_tooltip": null,
            "_model_module": "@jupyter-widgets/controls",
            "layout": "IPY_MODEL_691d7c39c9af4c93af0a3fb4e0587f8f"
          }
        },
        "daadcd9262e94a54af6252a04184ca41": {
          "model_module": "@jupyter-widgets/controls",
          "model_name": "HTMLModel",
          "model_module_version": "1.5.0",
          "state": {
            "_view_name": "HTMLView",
            "style": "IPY_MODEL_1bb3e1137c244926b00e2f3e20209602",
            "_dom_classes": [],
            "description": "",
            "_model_name": "HTMLModel",
            "placeholder": "​",
            "_view_module": "@jupyter-widgets/controls",
            "_model_module_version": "1.5.0",
            "value": " 84621/146645 [00:33&lt;00:25, 2441.33it/s]",
            "_view_count": null,
            "_view_module_version": "1.5.0",
            "description_tooltip": null,
            "_model_module": "@jupyter-widgets/controls",
            "layout": "IPY_MODEL_fb031278e6e04c6a95fe78c9d81fb317"
          }
        },
        "86fe861ddb7b4e75a38b374b29cffa76": {
          "model_module": "@jupyter-widgets/controls",
          "model_name": "DescriptionStyleModel",
          "model_module_version": "1.5.0",
          "state": {
            "_view_name": "StyleView",
            "_model_name": "DescriptionStyleModel",
            "description_width": "",
            "_view_module": "@jupyter-widgets/base",
            "_model_module_version": "1.5.0",
            "_view_count": null,
            "_view_module_version": "1.2.0",
            "_model_module": "@jupyter-widgets/controls"
          }
        },
        "3e4973da3f224e53a81d766ae59bcb93": {
          "model_module": "@jupyter-widgets/base",
          "model_name": "LayoutModel",
          "model_module_version": "1.2.0",
          "state": {
            "_view_name": "LayoutView",
            "grid_template_rows": null,
            "right": null,
            "justify_content": null,
            "_view_module": "@jupyter-widgets/base",
            "overflow": null,
            "_model_module_version": "1.2.0",
            "_view_count": null,
            "flex_flow": null,
            "width": null,
            "min_width": null,
            "border": null,
            "align_items": null,
            "bottom": null,
            "_model_module": "@jupyter-widgets/base",
            "top": null,
            "grid_column": null,
            "overflow_y": null,
            "overflow_x": null,
            "grid_auto_flow": null,
            "grid_area": null,
            "grid_template_columns": null,
            "flex": null,
            "_model_name": "LayoutModel",
            "justify_items": null,
            "grid_row": null,
            "max_height": null,
            "align_content": null,
            "visibility": null,
            "align_self": null,
            "height": null,
            "min_height": null,
            "padding": null,
            "grid_auto_rows": null,
            "grid_gap": null,
            "max_width": null,
            "order": null,
            "_view_module_version": "1.2.0",
            "grid_template_areas": null,
            "object_position": null,
            "object_fit": null,
            "grid_auto_columns": null,
            "margin": null,
            "display": null,
            "left": null
          }
        },
        "13a02709ca4843a39fb8c15d8a087321": {
          "model_module": "@jupyter-widgets/controls",
          "model_name": "ProgressStyleModel",
          "model_module_version": "1.5.0",
          "state": {
            "_view_name": "StyleView",
            "_model_name": "ProgressStyleModel",
            "description_width": "",
            "_view_module": "@jupyter-widgets/base",
            "_model_module_version": "1.5.0",
            "_view_count": null,
            "_view_module_version": "1.2.0",
            "bar_color": null,
            "_model_module": "@jupyter-widgets/controls"
          }
        },
        "691d7c39c9af4c93af0a3fb4e0587f8f": {
          "model_module": "@jupyter-widgets/base",
          "model_name": "LayoutModel",
          "model_module_version": "1.2.0",
          "state": {
            "_view_name": "LayoutView",
            "grid_template_rows": null,
            "right": null,
            "justify_content": null,
            "_view_module": "@jupyter-widgets/base",
            "overflow": null,
            "_model_module_version": "1.2.0",
            "_view_count": null,
            "flex_flow": null,
            "width": null,
            "min_width": null,
            "border": null,
            "align_items": null,
            "bottom": null,
            "_model_module": "@jupyter-widgets/base",
            "top": null,
            "grid_column": null,
            "overflow_y": null,
            "overflow_x": null,
            "grid_auto_flow": null,
            "grid_area": null,
            "grid_template_columns": null,
            "flex": null,
            "_model_name": "LayoutModel",
            "justify_items": null,
            "grid_row": null,
            "max_height": null,
            "align_content": null,
            "visibility": null,
            "align_self": null,
            "height": null,
            "min_height": null,
            "padding": null,
            "grid_auto_rows": null,
            "grid_gap": null,
            "max_width": null,
            "order": null,
            "_view_module_version": "1.2.0",
            "grid_template_areas": null,
            "object_position": null,
            "object_fit": null,
            "grid_auto_columns": null,
            "margin": null,
            "display": null,
            "left": null
          }
        },
        "1bb3e1137c244926b00e2f3e20209602": {
          "model_module": "@jupyter-widgets/controls",
          "model_name": "DescriptionStyleModel",
          "model_module_version": "1.5.0",
          "state": {
            "_view_name": "StyleView",
            "_model_name": "DescriptionStyleModel",
            "description_width": "",
            "_view_module": "@jupyter-widgets/base",
            "_model_module_version": "1.5.0",
            "_view_count": null,
            "_view_module_version": "1.2.0",
            "_model_module": "@jupyter-widgets/controls"
          }
        },
        "fb031278e6e04c6a95fe78c9d81fb317": {
          "model_module": "@jupyter-widgets/base",
          "model_name": "LayoutModel",
          "model_module_version": "1.2.0",
          "state": {
            "_view_name": "LayoutView",
            "grid_template_rows": null,
            "right": null,
            "justify_content": null,
            "_view_module": "@jupyter-widgets/base",
            "overflow": null,
            "_model_module_version": "1.2.0",
            "_view_count": null,
            "flex_flow": null,
            "width": null,
            "min_width": null,
            "border": null,
            "align_items": null,
            "bottom": null,
            "_model_module": "@jupyter-widgets/base",
            "top": null,
            "grid_column": null,
            "overflow_y": null,
            "overflow_x": null,
            "grid_auto_flow": null,
            "grid_area": null,
            "grid_template_columns": null,
            "flex": null,
            "_model_name": "LayoutModel",
            "justify_items": null,
            "grid_row": null,
            "max_height": null,
            "align_content": null,
            "visibility": null,
            "align_self": null,
            "height": null,
            "min_height": null,
            "padding": null,
            "grid_auto_rows": null,
            "grid_gap": null,
            "max_width": null,
            "order": null,
            "_view_module_version": "1.2.0",
            "grid_template_areas": null,
            "object_position": null,
            "object_fit": null,
            "grid_auto_columns": null,
            "margin": null,
            "display": null,
            "left": null
          }
        }
      }
    }
  },
  "cells": [
    {
      "cell_type": "markdown",
      "metadata": {
        "id": "rdcG8vCC7NT-"
      },
      "source": [
        "## Рекомендательные системы"
      ]
    },
    {
      "cell_type": "markdown",
      "metadata": {
        "id": "9x8hyRrh7NUD"
      },
      "source": [
        "В этом задании будем практиковаться в реализации рекомендательных систем.\n",
        "\n",
        "Воспользуемся небольшим датасетом с Kaggle: [Articles Sharing and Reading from CI&T Deskdrop](https://www.kaggle.com/gspmoreira/articles-sharing-reading-from-cit-deskdrop)."
      ]
    },
    {
      "cell_type": "code",
      "metadata": {
        "colab": {
          "base_uri": "https://localhost:8080/"
        },
        "id": "iio1_Ru07NUE",
        "outputId": "42a4ed50-6ca9-420f-ead7-8ceb76294284"
      },
      "source": [
        "%pylab inline\n",
        "\n",
        "import pandas as pd\n",
        "\n",
        "from tqdm import tqdm_notebook"
      ],
      "execution_count": 1,
      "outputs": [
        {
          "output_type": "stream",
          "name": "stdout",
          "text": [
            "Populating the interactive namespace from numpy and matplotlib\n"
          ]
        }
      ]
    },
    {
      "cell_type": "markdown",
      "metadata": {
        "id": "TZm2RA1z7NUF"
      },
      "source": [
        "## Часть 0. Загрузка данных"
      ]
    },
    {
      "cell_type": "markdown",
      "metadata": {
        "id": "xLkQJwKV7NUF"
      },
      "source": [
        "Загрузим Deskdrop dataset, включающийся в себе логи за 1 год платформы, где пользователи читают статьи.\n",
        "\n",
        "Данные включают в себя 2 файла:  \n",
        "- **shared_articles.csv**\n",
        "- **users_interactions.csv**\n",
        "\n",
        "Как можно догадаться, в одном описания самих статей (нам понадобятся в контентных моделях), а в другом логи пользователей."
      ]
    },
    {
      "cell_type": "code",
      "metadata": {
        "id": "EympksqQ7NUF"
      },
      "source": [
        "# загружаем и разархивируем данные\n",
        "!pip3 -q install cython\n",
        "!pip3 -q install git+https://github.com/coreylynch/pyFM\n",
        "!pip3 -q install catboost\n",
        "!wget -q -N https://www.dropbox.com/s/5jia9admtfobu8n/articles.zip?dl=0 -O articles.zip\n",
        "!unzip -o -q articles.zip"
      ],
      "execution_count": 4,
      "outputs": []
    },
    {
      "cell_type": "markdown",
      "metadata": {
        "id": "nWFKbw3a7NUG"
      },
      "source": [
        "#### shared_articles.csv"
      ]
    },
    {
      "cell_type": "markdown",
      "metadata": {
        "id": "6VKC0fE97NUG"
      },
      "source": [
        "Так как в файле перечислены даже удалённые статьи, то мы их сразу удалим (на самом деле они могли бы быть нам полезны для подсчёта различных величин, хоть мы и не можем их рекомендовать)."
      ]
    },
    {
      "cell_type": "code",
      "metadata": {
        "colab": {
          "base_uri": "https://localhost:8080/",
          "height": 392
        },
        "id": "BArQeGip7NUG",
        "outputId": "e8bbb0a3-a72e-4f01-fc0d-81282ae053ee"
      },
      "source": [
        "articles_df = pd.read_csv('./articles/shared_articles.csv')\n",
        "articles_df = articles_df[articles_df['eventType'] == 'CONTENT SHARED']\n",
        "articles_df.head(2)"
      ],
      "execution_count": 5,
      "outputs": [
        {
          "output_type": "execute_result",
          "data": {
            "text/html": [
              "<div>\n",
              "<style scoped>\n",
              "    .dataframe tbody tr th:only-of-type {\n",
              "        vertical-align: middle;\n",
              "    }\n",
              "\n",
              "    .dataframe tbody tr th {\n",
              "        vertical-align: top;\n",
              "    }\n",
              "\n",
              "    .dataframe thead th {\n",
              "        text-align: right;\n",
              "    }\n",
              "</style>\n",
              "<table border=\"1\" class=\"dataframe\">\n",
              "  <thead>\n",
              "    <tr style=\"text-align: right;\">\n",
              "      <th></th>\n",
              "      <th>timestamp</th>\n",
              "      <th>eventType</th>\n",
              "      <th>contentId</th>\n",
              "      <th>authorPersonId</th>\n",
              "      <th>authorSessionId</th>\n",
              "      <th>authorUserAgent</th>\n",
              "      <th>authorRegion</th>\n",
              "      <th>authorCountry</th>\n",
              "      <th>contentType</th>\n",
              "      <th>url</th>\n",
              "      <th>title</th>\n",
              "      <th>text</th>\n",
              "      <th>lang</th>\n",
              "    </tr>\n",
              "  </thead>\n",
              "  <tbody>\n",
              "    <tr>\n",
              "      <th>1</th>\n",
              "      <td>1459193988</td>\n",
              "      <td>CONTENT SHARED</td>\n",
              "      <td>-4110354420726924665</td>\n",
              "      <td>4340306774493623681</td>\n",
              "      <td>8940341205206233829</td>\n",
              "      <td>NaN</td>\n",
              "      <td>NaN</td>\n",
              "      <td>NaN</td>\n",
              "      <td>HTML</td>\n",
              "      <td>http://www.nytimes.com/2016/03/28/business/dea...</td>\n",
              "      <td>Ethereum, a Virtual Currency, Enables Transact...</td>\n",
              "      <td>All of this work is still very early. The firs...</td>\n",
              "      <td>en</td>\n",
              "    </tr>\n",
              "    <tr>\n",
              "      <th>2</th>\n",
              "      <td>1459194146</td>\n",
              "      <td>CONTENT SHARED</td>\n",
              "      <td>-7292285110016212249</td>\n",
              "      <td>4340306774493623681</td>\n",
              "      <td>8940341205206233829</td>\n",
              "      <td>NaN</td>\n",
              "      <td>NaN</td>\n",
              "      <td>NaN</td>\n",
              "      <td>HTML</td>\n",
              "      <td>http://cointelegraph.com/news/bitcoin-future-w...</td>\n",
              "      <td>Bitcoin Future: When GBPcoin of Branson Wins O...</td>\n",
              "      <td>The alarm clock wakes me at 8:00 with stream o...</td>\n",
              "      <td>en</td>\n",
              "    </tr>\n",
              "  </tbody>\n",
              "</table>\n",
              "</div>"
            ],
            "text/plain": [
              "    timestamp  ... lang\n",
              "1  1459193988  ...   en\n",
              "2  1459194146  ...   en\n",
              "\n",
              "[2 rows x 13 columns]"
            ]
          },
          "metadata": {},
          "execution_count": 5
        }
      ]
    },
    {
      "cell_type": "markdown",
      "metadata": {
        "id": "9U9bXogy7NUG"
      },
      "source": [
        "#### users_interactions.csv"
      ]
    },
    {
      "cell_type": "markdown",
      "metadata": {
        "id": "3JdRT3Fp7NUH"
      },
      "source": [
        "В колонке eventType описаны действия, которые могли совершать пользователи над статьёй:  \n",
        "- VIEW\n",
        "- LIKE\n",
        "- COMMENT CREATED\n",
        "- FOLLOW\n",
        "- BOOKMARK"
      ]
    },
    {
      "cell_type": "code",
      "metadata": {
        "colab": {
          "base_uri": "https://localhost:8080/",
          "height": 415
        },
        "id": "Ou_s98f37NUH",
        "outputId": "bb502ea3-e826-4d6d-f7e4-c082828f7b68"
      },
      "source": [
        "interactions_df = pd.read_csv('./articles/users_interactions.csv')\n",
        "interactions_df.head(10)"
      ],
      "execution_count": 6,
      "outputs": [
        {
          "output_type": "execute_result",
          "data": {
            "text/html": [
              "<div>\n",
              "<style scoped>\n",
              "    .dataframe tbody tr th:only-of-type {\n",
              "        vertical-align: middle;\n",
              "    }\n",
              "\n",
              "    .dataframe tbody tr th {\n",
              "        vertical-align: top;\n",
              "    }\n",
              "\n",
              "    .dataframe thead th {\n",
              "        text-align: right;\n",
              "    }\n",
              "</style>\n",
              "<table border=\"1\" class=\"dataframe\">\n",
              "  <thead>\n",
              "    <tr style=\"text-align: right;\">\n",
              "      <th></th>\n",
              "      <th>timestamp</th>\n",
              "      <th>eventType</th>\n",
              "      <th>contentId</th>\n",
              "      <th>personId</th>\n",
              "      <th>sessionId</th>\n",
              "      <th>userAgent</th>\n",
              "      <th>userRegion</th>\n",
              "      <th>userCountry</th>\n",
              "    </tr>\n",
              "  </thead>\n",
              "  <tbody>\n",
              "    <tr>\n",
              "      <th>0</th>\n",
              "      <td>1465413032</td>\n",
              "      <td>VIEW</td>\n",
              "      <td>-3499919498720038879</td>\n",
              "      <td>-8845298781299428018</td>\n",
              "      <td>1264196770339959068</td>\n",
              "      <td>NaN</td>\n",
              "      <td>NaN</td>\n",
              "      <td>NaN</td>\n",
              "    </tr>\n",
              "    <tr>\n",
              "      <th>1</th>\n",
              "      <td>1465412560</td>\n",
              "      <td>VIEW</td>\n",
              "      <td>8890720798209849691</td>\n",
              "      <td>-1032019229384696495</td>\n",
              "      <td>3621737643587579081</td>\n",
              "      <td>Mozilla/5.0 (Macintosh; Intel Mac OS X 10_11_2...</td>\n",
              "      <td>NY</td>\n",
              "      <td>US</td>\n",
              "    </tr>\n",
              "    <tr>\n",
              "      <th>2</th>\n",
              "      <td>1465416190</td>\n",
              "      <td>VIEW</td>\n",
              "      <td>310515487419366995</td>\n",
              "      <td>-1130272294246983140</td>\n",
              "      <td>2631864456530402479</td>\n",
              "      <td>NaN</td>\n",
              "      <td>NaN</td>\n",
              "      <td>NaN</td>\n",
              "    </tr>\n",
              "    <tr>\n",
              "      <th>3</th>\n",
              "      <td>1465413895</td>\n",
              "      <td>FOLLOW</td>\n",
              "      <td>310515487419366995</td>\n",
              "      <td>344280948527967603</td>\n",
              "      <td>-3167637573980064150</td>\n",
              "      <td>NaN</td>\n",
              "      <td>NaN</td>\n",
              "      <td>NaN</td>\n",
              "    </tr>\n",
              "    <tr>\n",
              "      <th>4</th>\n",
              "      <td>1465412290</td>\n",
              "      <td>VIEW</td>\n",
              "      <td>-7820640624231356730</td>\n",
              "      <td>-445337111692715325</td>\n",
              "      <td>5611481178424124714</td>\n",
              "      <td>NaN</td>\n",
              "      <td>NaN</td>\n",
              "      <td>NaN</td>\n",
              "    </tr>\n",
              "    <tr>\n",
              "      <th>5</th>\n",
              "      <td>1465413742</td>\n",
              "      <td>VIEW</td>\n",
              "      <td>310515487419366995</td>\n",
              "      <td>-8763398617720485024</td>\n",
              "      <td>1395789369402380392</td>\n",
              "      <td>Mozilla/5.0 (Windows NT 10.0; WOW64) AppleWebK...</td>\n",
              "      <td>MG</td>\n",
              "      <td>BR</td>\n",
              "    </tr>\n",
              "    <tr>\n",
              "      <th>6</th>\n",
              "      <td>1465415950</td>\n",
              "      <td>VIEW</td>\n",
              "      <td>-8864073373672512525</td>\n",
              "      <td>3609194402293569455</td>\n",
              "      <td>1143207167886864524</td>\n",
              "      <td>NaN</td>\n",
              "      <td>NaN</td>\n",
              "      <td>NaN</td>\n",
              "    </tr>\n",
              "    <tr>\n",
              "      <th>7</th>\n",
              "      <td>1465415066</td>\n",
              "      <td>VIEW</td>\n",
              "      <td>-1492913151930215984</td>\n",
              "      <td>4254153380739593270</td>\n",
              "      <td>8743229464706506141</td>\n",
              "      <td>Mozilla/5.0 (X11; Linux x86_64) AppleWebKit/53...</td>\n",
              "      <td>SP</td>\n",
              "      <td>BR</td>\n",
              "    </tr>\n",
              "    <tr>\n",
              "      <th>8</th>\n",
              "      <td>1465413762</td>\n",
              "      <td>VIEW</td>\n",
              "      <td>310515487419366995</td>\n",
              "      <td>344280948527967603</td>\n",
              "      <td>-3167637573980064150</td>\n",
              "      <td>NaN</td>\n",
              "      <td>NaN</td>\n",
              "      <td>NaN</td>\n",
              "    </tr>\n",
              "    <tr>\n",
              "      <th>9</th>\n",
              "      <td>1465413771</td>\n",
              "      <td>VIEW</td>\n",
              "      <td>3064370296170038610</td>\n",
              "      <td>3609194402293569455</td>\n",
              "      <td>1143207167886864524</td>\n",
              "      <td>NaN</td>\n",
              "      <td>NaN</td>\n",
              "      <td>NaN</td>\n",
              "    </tr>\n",
              "  </tbody>\n",
              "</table>\n",
              "</div>"
            ],
            "text/plain": [
              "    timestamp eventType  ...  userRegion  userCountry\n",
              "0  1465413032      VIEW  ...         NaN          NaN\n",
              "1  1465412560      VIEW  ...          NY           US\n",
              "2  1465416190      VIEW  ...         NaN          NaN\n",
              "3  1465413895    FOLLOW  ...         NaN          NaN\n",
              "4  1465412290      VIEW  ...         NaN          NaN\n",
              "5  1465413742      VIEW  ...          MG           BR\n",
              "6  1465415950      VIEW  ...         NaN          NaN\n",
              "7  1465415066      VIEW  ...          SP           BR\n",
              "8  1465413762      VIEW  ...         NaN          NaN\n",
              "9  1465413771      VIEW  ...         NaN          NaN\n",
              "\n",
              "[10 rows x 8 columns]"
            ]
          },
          "metadata": {},
          "execution_count": 6
        }
      ]
    },
    {
      "cell_type": "code",
      "metadata": {
        "id": "CL9lEVCX7NUH"
      },
      "source": [
        "interactions_df.personId = interactions_df.personId.astype(str)\n",
        "interactions_df.contentId = interactions_df.contentId.astype(str)\n",
        "articles_df.contentId = articles_df.contentId.astype(str)"
      ],
      "execution_count": 7,
      "outputs": []
    },
    {
      "cell_type": "markdown",
      "metadata": {
        "id": "WBuwRpLT7NUH"
      },
      "source": [
        "### Предобработка данных"
      ]
    },
    {
      "cell_type": "markdown",
      "metadata": {
        "id": "TJR_6LkW7NUH"
      },
      "source": [
        "В логах встречаются различные действия пользователей. Однако мы хотим работать лишь с одной величиной, характеризующей всё взаимодействие пользователя со статьёй. Предлагается задать действиям следующие веса:"
      ]
    },
    {
      "cell_type": "code",
      "metadata": {
        "id": "_7ils2bV7NUI"
      },
      "source": [
        "event_type_strength = {\n",
        "   'VIEW': 1.0,\n",
        "   'LIKE': 2.0, \n",
        "   'BOOKMARK': 2.5, \n",
        "   'FOLLOW': 3.0,\n",
        "   'COMMENT CREATED': 4.0,  \n",
        "}"
      ],
      "execution_count": 8,
      "outputs": []
    },
    {
      "cell_type": "markdown",
      "metadata": {
        "id": "XNQQ0ZiP7NUI"
      },
      "source": [
        "Посчитаем числовую величину \"оценки\" пользователем статьи с указанными выше весами."
      ]
    },
    {
      "cell_type": "code",
      "metadata": {
        "colab": {
          "base_uri": "https://localhost:8080/"
        },
        "id": "Ze3VeqBt7NUI",
        "outputId": "8fe8a7e2-5692-46c3-f999-0a5f23e8ae53"
      },
      "source": [
        "# interactions_df['eventStrength'] =\n",
        "####### Здесь ваш код ##########\n",
        "interactions_df['eventStrength'] = interactions_df.eventType.apply(lambda x: event_type_strength[x])\n",
        "################################\n",
        "interactions_df['eventStrength']"
      ],
      "execution_count": 9,
      "outputs": [
        {
          "output_type": "execute_result",
          "data": {
            "text/plain": [
              "0        1.0\n",
              "1        1.0\n",
              "2        1.0\n",
              "3        3.0\n",
              "4        1.0\n",
              "        ... \n",
              "72307    2.0\n",
              "72308    1.0\n",
              "72309    1.0\n",
              "72310    1.0\n",
              "72311    1.0\n",
              "Name: eventStrength, Length: 72312, dtype: float64"
            ]
          },
          "metadata": {},
          "execution_count": 9
        }
      ]
    },
    {
      "cell_type": "markdown",
      "metadata": {
        "id": "PCq8b_uW7NUI"
      },
      "source": [
        "Ремендательные системы подвержены проблеме холодного старта. Будем работать только с теми пользователями, которые взаимодействовали хотя бы с 5-ю материалами.\n",
        "\n",
        "Оставим только таких пользователей."
      ]
    },
    {
      "cell_type": "code",
      "metadata": {
        "colab": {
          "base_uri": "https://localhost:8080/"
        },
        "id": "5Pl5RgXO7NUI",
        "outputId": "15757754-2ec6-404b-a006-3753a071101c"
      },
      "source": [
        "users_interactions_count_df = (\n",
        "    interactions_df\n",
        "    .groupby(['personId', 'contentId'])\n",
        "    .first()\n",
        "    .reset_index()\n",
        "    .groupby('personId').size())\n",
        "print('# users:', len(users_interactions_count_df))\n",
        "\n",
        "users_with_enough_interactions_df = \\\n",
        "    users_interactions_count_df[users_interactions_count_df >= 5].reset_index()[['personId']]\n",
        "print('# users with at least 5 interactions:',len(users_with_enough_interactions_df))"
      ],
      "execution_count": 10,
      "outputs": [
        {
          "output_type": "stream",
          "name": "stdout",
          "text": [
            "# users: 1895\n",
            "# users with at least 5 interactions: 1140\n"
          ]
        }
      ]
    },
    {
      "cell_type": "code",
      "metadata": {
        "colab": {
          "base_uri": "https://localhost:8080/",
          "height": 283
        },
        "id": "w-5mU7u57NUJ",
        "outputId": "1a704c95-1acf-4f91-b8a3-ac11a5796dc9"
      },
      "source": [
        "users_interactions_count_df.hist(bins=30)"
      ],
      "execution_count": 11,
      "outputs": [
        {
          "output_type": "execute_result",
          "data": {
            "text/plain": [
              "<matplotlib.axes._subplots.AxesSubplot at 0x7f787b5bff10>"
            ]
          },
          "metadata": {},
          "execution_count": 11
        },
        {
          "output_type": "display_data",
          "data": {
            "image/png": "[encoded data removed]",
            "text/plain": [
              "<Figure size 432x288 with 1 Axes>"
            ]
          },
          "metadata": {
            "needs_background": "light"
          }
        }
      ]
    },
    {
      "cell_type": "markdown",
      "metadata": {
        "id": "x3ZW29Im7NUJ"
      },
      "source": [
        "Оставим только те взаимодействия, которые касаются только отфильтрованных пользователей."
      ]
    },
    {
      "cell_type": "code",
      "metadata": {
        "id": "mR2-emAt7NUJ"
      },
      "source": [
        "# interactions_from_selected_users_df =\n",
        "####### Здесь ваш код ##########\n",
        "interactions_from_selected_users_df = interactions_df.loc[np.in1d(interactions_df.personId,\n",
        "            users_with_enough_interactions_df)]\n",
        "################################"
      ],
      "execution_count": 12,
      "outputs": []
    },
    {
      "cell_type": "code",
      "metadata": {
        "colab": {
          "base_uri": "https://localhost:8080/"
        },
        "id": "uFOf9qgX7NUJ",
        "outputId": "d014bacf-7ebd-4414-cee8-1478417862bf"
      },
      "source": [
        "print('# interactions before:', interactions_df.shape)\n",
        "print('# interactions after:', interactions_from_selected_users_df.shape)"
      ],
      "execution_count": 13,
      "outputs": [
        {
          "output_type": "stream",
          "name": "stdout",
          "text": [
            "# interactions before: (72312, 9)\n",
            "# interactions after: (69868, 9)\n"
          ]
        }
      ]
    },
    {
      "cell_type": "markdown",
      "metadata": {
        "id": "TutcpN9Y7NUJ"
      },
      "source": [
        "В данной постановке каждый пользователей мог взаимодействовать с каждой статьёй более 1 раза (как минимум совершая различные действия). Предлагается \"схлопнуть\" все действия в одно взаимодействие с весом, равным сумме весов. \n",
        "\n",
        "Однако полученное число будет в том числе тем больше, чем больше действий произвёл человек. Чтобы уменьшить разброс предлагается взять логарифм от полученного числа (можно придумывать другие веса действиям и по-другому обрабатывать значения).\n",
        "\n",
        "Также сохраним последнее значение времени взаимодействия для разделениея выборки на обучение и контроль."
      ]
    },
    {
      "cell_type": "code",
      "metadata": {
        "colab": {
          "base_uri": "https://localhost:8080/",
          "height": 676
        },
        "id": "815M8D_C7NUK",
        "outputId": "45e0edec-9707-4452-c8a4-1842709c6a53"
      },
      "source": [
        "def smooth_user_preference(x):\n",
        "    return math.log(1+x, 2)\n",
        "    \n",
        "interactions_full_df = (\n",
        "    interactions_from_selected_users_df\n",
        "    .groupby(['personId', 'contentId']).eventStrength.sum()\n",
        "    .apply(smooth_user_preference)\n",
        "    .reset_index().set_index(['personId', 'contentId'])\n",
        ")\n",
        "interactions_full_df['last_timestamp'] = (\n",
        "    interactions_from_selected_users_df\n",
        "    .groupby(['personId', 'contentId'])['timestamp'].last()\n",
        ")\n",
        "        \n",
        "interactions_full_df = interactions_full_df.reset_index()\n",
        "interactions_full_df.head(20)"
      ],
      "execution_count": 14,
      "outputs": [
        {
          "output_type": "execute_result",
          "data": {
            "text/html": [
              "<div>\n",
              "<style scoped>\n",
              "    .dataframe tbody tr th:only-of-type {\n",
              "        vertical-align: middle;\n",
              "    }\n",
              "\n",
              "    .dataframe tbody tr th {\n",
              "        vertical-align: top;\n",
              "    }\n",
              "\n",
              "    .dataframe thead th {\n",
              "        text-align: right;\n",
              "    }\n",
              "</style>\n",
              "<table border=\"1\" class=\"dataframe\">\n",
              "  <thead>\n",
              "    <tr style=\"text-align: right;\">\n",
              "      <th></th>\n",
              "      <th>personId</th>\n",
              "      <th>contentId</th>\n",
              "      <th>eventStrength</th>\n",
              "      <th>last_timestamp</th>\n",
              "    </tr>\n",
              "  </thead>\n",
              "  <tbody>\n",
              "    <tr>\n",
              "      <th>0</th>\n",
              "      <td>-1007001694607905623</td>\n",
              "      <td>-5065077552540450930</td>\n",
              "      <td>1.000000</td>\n",
              "      <td>1470395911</td>\n",
              "    </tr>\n",
              "    <tr>\n",
              "      <th>1</th>\n",
              "      <td>-1007001694607905623</td>\n",
              "      <td>-6623581327558800021</td>\n",
              "      <td>1.000000</td>\n",
              "      <td>1487240080</td>\n",
              "    </tr>\n",
              "    <tr>\n",
              "      <th>2</th>\n",
              "      <td>-1007001694607905623</td>\n",
              "      <td>-793729620925729327</td>\n",
              "      <td>1.000000</td>\n",
              "      <td>1472834892</td>\n",
              "    </tr>\n",
              "    <tr>\n",
              "      <th>3</th>\n",
              "      <td>-1007001694607905623</td>\n",
              "      <td>1469580151036142903</td>\n",
              "      <td>1.000000</td>\n",
              "      <td>1487240062</td>\n",
              "    </tr>\n",
              "    <tr>\n",
              "      <th>4</th>\n",
              "      <td>-1007001694607905623</td>\n",
              "      <td>7270966256391553686</td>\n",
              "      <td>1.584963</td>\n",
              "      <td>1485994324</td>\n",
              "    </tr>\n",
              "    <tr>\n",
              "      <th>5</th>\n",
              "      <td>-1007001694607905623</td>\n",
              "      <td>8729086959762650511</td>\n",
              "      <td>1.000000</td>\n",
              "      <td>1487240086</td>\n",
              "    </tr>\n",
              "    <tr>\n",
              "      <th>6</th>\n",
              "      <td>-1032019229384696495</td>\n",
              "      <td>-1006791494035379303</td>\n",
              "      <td>1.000000</td>\n",
              "      <td>1469129122</td>\n",
              "    </tr>\n",
              "    <tr>\n",
              "      <th>7</th>\n",
              "      <td>-1032019229384696495</td>\n",
              "      <td>-1039912738963181810</td>\n",
              "      <td>1.000000</td>\n",
              "      <td>1459376415</td>\n",
              "    </tr>\n",
              "    <tr>\n",
              "      <th>8</th>\n",
              "      <td>-1032019229384696495</td>\n",
              "      <td>-1081723567492738167</td>\n",
              "      <td>2.000000</td>\n",
              "      <td>1464054093</td>\n",
              "    </tr>\n",
              "    <tr>\n",
              "      <th>9</th>\n",
              "      <td>-1032019229384696495</td>\n",
              "      <td>-1111518890369033396</td>\n",
              "      <td>1.000000</td>\n",
              "      <td>1470109122</td>\n",
              "    </tr>\n",
              "    <tr>\n",
              "      <th>10</th>\n",
              "      <td>-1032019229384696495</td>\n",
              "      <td>-1114438937697017987</td>\n",
              "      <td>3.584963</td>\n",
              "      <td>1463954865</td>\n",
              "    </tr>\n",
              "    <tr>\n",
              "      <th>11</th>\n",
              "      <td>-1032019229384696495</td>\n",
              "      <td>-1137602700803601559</td>\n",
              "      <td>2.700440</td>\n",
              "      <td>1472077982</td>\n",
              "    </tr>\n",
              "    <tr>\n",
              "      <th>12</th>\n",
              "      <td>-1032019229384696495</td>\n",
              "      <td>-1151034582628982912</td>\n",
              "      <td>2.000000</td>\n",
              "      <td>1463259775</td>\n",
              "    </tr>\n",
              "    <tr>\n",
              "      <th>13</th>\n",
              "      <td>-1032019229384696495</td>\n",
              "      <td>-1249582672736761858</td>\n",
              "      <td>1.000000</td>\n",
              "      <td>1472566466</td>\n",
              "    </tr>\n",
              "    <tr>\n",
              "      <th>14</th>\n",
              "      <td>-1032019229384696495</td>\n",
              "      <td>-1254906787526072320</td>\n",
              "      <td>2.321928</td>\n",
              "      <td>1464885644</td>\n",
              "    </tr>\n",
              "    <tr>\n",
              "      <th>15</th>\n",
              "      <td>-1032019229384696495</td>\n",
              "      <td>-1313614305945895108</td>\n",
              "      <td>2.584963</td>\n",
              "      <td>1462025352</td>\n",
              "    </tr>\n",
              "    <tr>\n",
              "      <th>16</th>\n",
              "      <td>-1032019229384696495</td>\n",
              "      <td>-1415040208471067980</td>\n",
              "      <td>2.700440</td>\n",
              "      <td>1482413824</td>\n",
              "    </tr>\n",
              "    <tr>\n",
              "      <th>17</th>\n",
              "      <td>-1032019229384696495</td>\n",
              "      <td>-1453783314552286835</td>\n",
              "      <td>5.247928</td>\n",
              "      <td>1464202274</td>\n",
              "    </tr>\n",
              "    <tr>\n",
              "      <th>18</th>\n",
              "      <td>-1032019229384696495</td>\n",
              "      <td>-1470592927114056630</td>\n",
              "      <td>1.000000</td>\n",
              "      <td>1460149910</td>\n",
              "    </tr>\n",
              "    <tr>\n",
              "      <th>19</th>\n",
              "      <td>-1032019229384696495</td>\n",
              "      <td>-1556169727291354289</td>\n",
              "      <td>3.807355</td>\n",
              "      <td>1466029013</td>\n",
              "    </tr>\n",
              "  </tbody>\n",
              "</table>\n",
              "</div>"
            ],
            "text/plain": [
              "                personId             contentId  eventStrength  last_timestamp\n",
              "0   -1007001694607905623  -5065077552540450930       1.000000      1470395911\n",
              "1   -1007001694607905623  -6623581327558800021       1.000000      1487240080\n",
              "2   -1007001694607905623   -793729620925729327       1.000000      1472834892\n",
              "3   -1007001694607905623   1469580151036142903       1.000000      1487240062\n",
              "4   -1007001694607905623   7270966256391553686       1.584963      1485994324\n",
              "5   -1007001694607905623   8729086959762650511       1.000000      1487240086\n",
              "6   -1032019229384696495  -1006791494035379303       1.000000      1469129122\n",
              "7   -1032019229384696495  -1039912738963181810       1.000000      1459376415\n",
              "8   -1032019229384696495  -1081723567492738167       2.000000      1464054093\n",
              "9   -1032019229384696495  -1111518890369033396       1.000000      1470109122\n",
              "10  -1032019229384696495  -1114438937697017987       3.584963      1463954865\n",
              "11  -1032019229384696495  -1137602700803601559       2.700440      1472077982\n",
              "12  -1032019229384696495  -1151034582628982912       2.000000      1463259775\n",
              "13  -1032019229384696495  -1249582672736761858       1.000000      1472566466\n",
              "14  -1032019229384696495  -1254906787526072320       2.321928      1464885644\n",
              "15  -1032019229384696495  -1313614305945895108       2.584963      1462025352\n",
              "16  -1032019229384696495  -1415040208471067980       2.700440      1482413824\n",
              "17  -1032019229384696495  -1453783314552286835       5.247928      1464202274\n",
              "18  -1032019229384696495  -1470592927114056630       1.000000      1460149910\n",
              "19  -1032019229384696495  -1556169727291354289       3.807355      1466029013"
            ]
          },
          "metadata": {},
          "execution_count": 14
        }
      ]
    },
    {
      "cell_type": "markdown",
      "metadata": {
        "id": "MxI6btUS7NUK"
      },
      "source": [
        "Разобьём выборку на обучение и контроль по времени."
      ]
    },
    {
      "cell_type": "code",
      "metadata": {
        "colab": {
          "base_uri": "https://localhost:8080/",
          "height": 458
        },
        "id": "bXiUzchy7NUK",
        "outputId": "393e4aad-b6ed-4b1b-bbec-bcf50f616a73"
      },
      "source": [
        "from sklearn.model_selection import train_test_split\n",
        "\n",
        "split_ts = 1475519530\n",
        "interactions_train_df = interactions_full_df.loc[interactions_full_df.last_timestamp < split_ts].copy()\n",
        "interactions_test_df = interactions_full_df.loc[interactions_full_df.last_timestamp >= split_ts].copy()\n",
        "\n",
        "print('# interactions on Train set: %d' % len(interactions_train_df))\n",
        "print('# interactions on Test set: %d' % len(interactions_test_df))\n",
        "\n",
        "interactions_train_df"
      ],
      "execution_count": 15,
      "outputs": [
        {
          "output_type": "stream",
          "name": "stdout",
          "text": [
            "# interactions on Train set: 29329\n",
            "# interactions on Test set: 9777\n"
          ]
        },
        {
          "output_type": "execute_result",
          "data": {
            "text/html": [
              "<div>\n",
              "<style scoped>\n",
              "    .dataframe tbody tr th:only-of-type {\n",
              "        vertical-align: middle;\n",
              "    }\n",
              "\n",
              "    .dataframe tbody tr th {\n",
              "        vertical-align: top;\n",
              "    }\n",
              "\n",
              "    .dataframe thead th {\n",
              "        text-align: right;\n",
              "    }\n",
              "</style>\n",
              "<table border=\"1\" class=\"dataframe\">\n",
              "  <thead>\n",
              "    <tr style=\"text-align: right;\">\n",
              "      <th></th>\n",
              "      <th>personId</th>\n",
              "      <th>contentId</th>\n",
              "      <th>eventStrength</th>\n",
              "      <th>last_timestamp</th>\n",
              "    </tr>\n",
              "  </thead>\n",
              "  <tbody>\n",
              "    <tr>\n",
              "      <th>0</th>\n",
              "      <td>-1007001694607905623</td>\n",
              "      <td>-5065077552540450930</td>\n",
              "      <td>1.0</td>\n",
              "      <td>1470395911</td>\n",
              "    </tr>\n",
              "    <tr>\n",
              "      <th>2</th>\n",
              "      <td>-1007001694607905623</td>\n",
              "      <td>-793729620925729327</td>\n",
              "      <td>1.0</td>\n",
              "      <td>1472834892</td>\n",
              "    </tr>\n",
              "    <tr>\n",
              "      <th>6</th>\n",
              "      <td>-1032019229384696495</td>\n",
              "      <td>-1006791494035379303</td>\n",
              "      <td>1.0</td>\n",
              "      <td>1469129122</td>\n",
              "    </tr>\n",
              "    <tr>\n",
              "      <th>7</th>\n",
              "      <td>-1032019229384696495</td>\n",
              "      <td>-1039912738963181810</td>\n",
              "      <td>1.0</td>\n",
              "      <td>1459376415</td>\n",
              "    </tr>\n",
              "    <tr>\n",
              "      <th>8</th>\n",
              "      <td>-1032019229384696495</td>\n",
              "      <td>-1081723567492738167</td>\n",
              "      <td>2.0</td>\n",
              "      <td>1464054093</td>\n",
              "    </tr>\n",
              "    <tr>\n",
              "      <th>...</th>\n",
              "      <td>...</td>\n",
              "      <td>...</td>\n",
              "      <td>...</td>\n",
              "      <td>...</td>\n",
              "    </tr>\n",
              "    <tr>\n",
              "      <th>39099</th>\n",
              "      <td>997469202936578234</td>\n",
              "      <td>9112765177685685246</td>\n",
              "      <td>2.0</td>\n",
              "      <td>1472479493</td>\n",
              "    </tr>\n",
              "    <tr>\n",
              "      <th>39100</th>\n",
              "      <td>998688566268269815</td>\n",
              "      <td>-1255189867397298842</td>\n",
              "      <td>1.0</td>\n",
              "      <td>1474567164</td>\n",
              "    </tr>\n",
              "    <tr>\n",
              "      <th>39101</th>\n",
              "      <td>998688566268269815</td>\n",
              "      <td>-401664538366009049</td>\n",
              "      <td>1.0</td>\n",
              "      <td>1474567449</td>\n",
              "    </tr>\n",
              "    <tr>\n",
              "      <th>39103</th>\n",
              "      <td>998688566268269815</td>\n",
              "      <td>6881796783400625893</td>\n",
              "      <td>1.0</td>\n",
              "      <td>1474567675</td>\n",
              "    </tr>\n",
              "    <tr>\n",
              "      <th>39105</th>\n",
              "      <td>998688566268269815</td>\n",
              "      <td>739747367187387064</td>\n",
              "      <td>1.0</td>\n",
              "      <td>1474567514</td>\n",
              "    </tr>\n",
              "  </tbody>\n",
              "</table>\n",
              "<p>29329 rows × 4 columns</p>\n",
              "</div>"
            ],
            "text/plain": [
              "                   personId  ... last_timestamp\n",
              "0      -1007001694607905623  ...     1470395911\n",
              "2      -1007001694607905623  ...     1472834892\n",
              "6      -1032019229384696495  ...     1469129122\n",
              "7      -1032019229384696495  ...     1459376415\n",
              "8      -1032019229384696495  ...     1464054093\n",
              "...                     ...  ...            ...\n",
              "39099    997469202936578234  ...     1472479493\n",
              "39100    998688566268269815  ...     1474567164\n",
              "39101    998688566268269815  ...     1474567449\n",
              "39103    998688566268269815  ...     1474567675\n",
              "39105    998688566268269815  ...     1474567514\n",
              "\n",
              "[29329 rows x 4 columns]"
            ]
          },
          "metadata": {},
          "execution_count": 15
        }
      ]
    },
    {
      "cell_type": "markdown",
      "metadata": {
        "id": "aiGTY4Q77NUK"
      },
      "source": [
        "Также разбить данные можно не опираясь на временной фактор:\n",
        "```python\n",
        "interactions_train_df, interactions_test_df = train_test_split(interactions_full_df,\n",
        "                                   stratify=interactions_full_df['personId'], \n",
        "                                   test_size=0.25,\n",
        "                                   random_state=42)\n",
        "\n",
        "```\n",
        "Как повлият такое разбиение на итоговый результат?"
      ]
    },
    {
      "cell_type": "markdown",
      "metadata": {
        "id": "h1Z2axYX7NUK"
      },
      "source": [
        "Для удобства подсчёта качества запишем данные в формате, где строка соответствует пользователю, а столбцы будут истинными метками и предсказаниями в виде списков."
      ]
    },
    {
      "cell_type": "code",
      "metadata": {
        "colab": {
          "base_uri": "https://localhost:8080/",
          "height": 112
        },
        "id": "InUCtDB17NUL",
        "outputId": "865e3699-74e1-40fb-d69f-1f286eec6d34"
      },
      "source": [
        "interactions = (\n",
        "    interactions_train_df\n",
        "    .groupby('personId')['contentId'].agg(lambda x: list(x))\n",
        "    .reset_index()\n",
        "    .rename(columns={'contentId': 'true_train'})\n",
        "    .set_index('personId')\n",
        ")\n",
        "\n",
        "interactions['true_test'] = (\n",
        "    interactions_test_df\n",
        "    .groupby('personId')['contentId'].agg(lambda x: list(x))\n",
        ")\n",
        "\n",
        "# заполнение пропусков пустыми списками\n",
        "interactions.loc[pd.isnull(interactions.true_test), 'true_test'] = [\n",
        "    list() for x in range(len(interactions.loc[pd.isnull(interactions.true_test), 'true_test']))]\n",
        "\n",
        "interactions.head(1)"
      ],
      "execution_count": 16,
      "outputs": [
        {
          "output_type": "execute_result",
          "data": {
            "text/html": [
              "<div>\n",
              "<style scoped>\n",
              "    .dataframe tbody tr th:only-of-type {\n",
              "        vertical-align: middle;\n",
              "    }\n",
              "\n",
              "    .dataframe tbody tr th {\n",
              "        vertical-align: top;\n",
              "    }\n",
              "\n",
              "    .dataframe thead th {\n",
              "        text-align: right;\n",
              "    }\n",
              "</style>\n",
              "<table border=\"1\" class=\"dataframe\">\n",
              "  <thead>\n",
              "    <tr style=\"text-align: right;\">\n",
              "      <th></th>\n",
              "      <th>true_train</th>\n",
              "      <th>true_test</th>\n",
              "    </tr>\n",
              "    <tr>\n",
              "      <th>personId</th>\n",
              "      <th></th>\n",
              "      <th></th>\n",
              "    </tr>\n",
              "  </thead>\n",
              "  <tbody>\n",
              "    <tr>\n",
              "      <th>-1007001694607905623</th>\n",
              "      <td>[-5065077552540450930, -793729620925729327]</td>\n",
              "      <td>[-6623581327558800021, 1469580151036142903, 72...</td>\n",
              "    </tr>\n",
              "  </tbody>\n",
              "</table>\n",
              "</div>"
            ],
            "text/plain": [
              "                                                       true_train                                          true_test\n",
              "personId                                                                                                            \n",
              "-1007001694607905623  [-5065077552540450930, -793729620925729327]  [-6623581327558800021, 1469580151036142903, 72..."
            ]
          },
          "metadata": {},
          "execution_count": 16
        }
      ]
    },
    {
      "cell_type": "markdown",
      "metadata": {
        "id": "J72sxcSc7NUL"
      },
      "source": [
        "## Часть 1: Baseline (модель по популярности)"
      ]
    },
    {
      "cell_type": "markdown",
      "metadata": {
        "id": "J4ZlOCua7NUM"
      },
      "source": [
        "Самой простой моделью рекомендаций (при этом достаточно сильной!) является модель, которая рекомендует наиболее популярные предметы. \n",
        "\n",
        "Реализуем её. Давайте считать, что рекомендуем мы по 10 материалов (такое ограничение на размер блока на сайте).\n",
        "\n",
        "Посчитаем популярность каждой статьи, как сумму всех \"оценок\" взаимодействий с ней. Отсортируем материалы по их популярности."
      ]
    },
    {
      "cell_type": "code",
      "metadata": {
        "id": "6yaE1pGh7NUM"
      },
      "source": [
        "# popular_content = \n",
        "####### Здесь ваш код ##########\n",
        "popular_content = (\n",
        "    interactions_train_df\n",
        "    .groupby('contentId')\n",
        "    .eventStrength.sum().reset_index()\n",
        "    .sort_values('eventStrength', ascending=False)\n",
        "    .contentId.values\n",
        ")\n",
        "################################"
      ],
      "execution_count": 17,
      "outputs": []
    },
    {
      "cell_type": "code",
      "metadata": {
        "colab": {
          "base_uri": "https://localhost:8080/"
        },
        "id": "DhKLmkaE7NUM",
        "outputId": "3346ea38-80cd-48ec-e478-f954b91025e0"
      },
      "source": [
        "print(articles_df.loc[articles_df.contentId == popular_content[1]]['title'].values)"
      ],
      "execution_count": 18,
      "outputs": [
        {
          "output_type": "stream",
          "name": "stdout",
          "text": [
            "['Novo workaholic trabalha, pratica esportes e tem tempo para a família. Conheça']\n"
          ]
        }
      ]
    },
    {
      "cell_type": "code",
      "metadata": {
        "colab": {
          "base_uri": "https://localhost:8080/"
        },
        "id": "OsP9Qvv07NUM",
        "outputId": "d04d4a37-6d0c-4035-ee3e-c69797dd5e9b"
      },
      "source": [
        "print(articles_df.loc[articles_df.contentId == popular_content[2363]]['title'].values)"
      ],
      "execution_count": 19,
      "outputs": [
        {
          "output_type": "stream",
          "name": "stdout",
          "text": [
            "['Sunset Blvd. (1950)']\n"
          ]
        }
      ]
    },
    {
      "cell_type": "markdown",
      "metadata": {
        "id": "ecBQ_knc7NUM"
      },
      "source": [
        "Теперь необходимо сделать предсказания для каждого пользователя. Не забываем, что надо рекомендовать то, что пользователь ещё не читал (для этого нужно проверить, что материал не встречался в true_train)."
      ]
    },
    {
      "cell_type": "code",
      "metadata": {
        "colab": {
          "base_uri": "https://localhost:8080/"
        },
        "id": "wNwZ4i4c7NUM",
        "outputId": "0b0e4990-fd1d-4e72-b1a1-9247cbe3edba"
      },
      "source": [
        "top_k = 10\n",
        "\n",
        "# interactions['prediction_popular'] =\n",
        "####### Здесь ваш код ##########\n",
        "interactions['prediction_popular'] = (\n",
        "    interactions.true_train\n",
        "    .apply(\n",
        "        lambda x:\n",
        "        popular_content[~np.in1d(popular_content, x)][:top_k]\n",
        "    )\n",
        ")\n",
        "################################\n",
        "interactions['prediction_popular'][0]"
      ],
      "execution_count": 20,
      "outputs": [
        {
          "output_type": "execute_result",
          "data": {
            "text/plain": [
              "array(['-6783772548752091658', '-133139342397538859',\n",
              "       '-8208801367848627943', '8224860111193157980',\n",
              "       '7507067965574797372', '-2358756719610361882',\n",
              "       '-6843047699859121724', '-1297580205670251233',\n",
              "       '8657408509986329668', '3367026768872537336'], dtype=object)"
            ]
          },
          "metadata": {},
          "execution_count": 20
        }
      ]
    },
    {
      "cell_type": "code",
      "metadata": {
        "colab": {
          "base_uri": "https://localhost:8080/"
        },
        "id": "zUCyvs75OtEh",
        "outputId": "fa698ec0-e587-46e6-b6c5-2c9f55ece38d"
      },
      "source": [
        "interactions['prediction_popular'][1]"
      ],
      "execution_count": 21,
      "outputs": [
        {
          "output_type": "execute_result",
          "data": {
            "text/plain": [
              "array(['-6783772548752091658', '-133139342397538859',\n",
              "       '-8208801367848627943', '7507067965574797372',\n",
              "       '-2358756719610361882', '-1297580205670251233',\n",
              "       '8657408509986329668', '3367026768872537336',\n",
              "       '2581138407738454418', '-1633984990770981161'], dtype=object)"
            ]
          },
          "metadata": {},
          "execution_count": 21
        }
      ]
    },
    {
      "cell_type": "markdown",
      "metadata": {
        "id": "6MWC2ctS7NUN"
      },
      "source": [
        "Настало время оценить качество. Посчитаем precision@10 для каждого пользователя (доля угаданных рекомендаций). Усредним по всем пользователям. Везде далее будем считать эту же метрику."
      ]
    },
    {
      "cell_type": "code",
      "metadata": {
        "id": "VV6hIjxF7NUN"
      },
      "source": [
        "def calc_precision(column):\n",
        "    ####### Здесь ваш код ##########\n",
        "    return (\n",
        "        interactions\n",
        "        .apply(\n",
        "            lambda row:\n",
        "            len(set(row['true_test']).intersection(\n",
        "                set(row[column]))) /\n",
        "            min(len(row['true_test']) + 0.001, 10.0),\n",
        "            axis=1)).mean()\n",
        "\n",
        "    ################################"
      ],
      "execution_count": 22,
      "outputs": []
    },
    {
      "cell_type": "code",
      "metadata": {
        "colab": {
          "base_uri": "https://localhost:8080/"
        },
        "id": "pKmSSmZN7NUN",
        "outputId": "87de9020-30e2-44ad-ba16-00919ba89d10"
      },
      "source": [
        "calc_precision('prediction_popular')"
      ],
      "execution_count": 23,
      "outputs": [
        {
          "output_type": "execute_result",
          "data": {
            "text/plain": [
              "0.006454207722621084"
            ]
          },
          "metadata": {},
          "execution_count": 23
        }
      ]
    },
    {
      "cell_type": "markdown",
      "metadata": {
        "id": "fO4DZi6g7NUN"
      },
      "source": [
        "## Часть 2. Коллаборативная фильтрация."
      ]
    },
    {
      "cell_type": "markdown",
      "metadata": {
        "id": "fHu7xtX97NUO"
      },
      "source": [
        "Перейдём к более сложному механизму рекомендаций, а именно коллаборативной фильтрации. Суть коллаборативной фильтрации в том, что учитывается схожесть пользователей и товаров между собой, а не факторы, которые их описывают. \n",
        "\n",
        "Для начала для удобства составим матрицу \"оценок\" пользователей. Нули будут обозначать отсутствие взаимодействия."
      ]
    },
    {
      "cell_type": "code",
      "metadata": {
        "id": "QG7azMEM7NUO"
      },
      "source": [
        "ratings = pd.pivot_table(\n",
        "    interactions_train_df,\n",
        "    values='eventStrength',\n",
        "    index='personId',\n",
        "    columns='contentId').fillna(0)"
      ],
      "execution_count": 24,
      "outputs": []
    },
    {
      "cell_type": "markdown",
      "metadata": {
        "id": "bqdQD19J7NUO"
      },
      "source": [
        "### Memory-based"
      ]
    },
    {
      "cell_type": "markdown",
      "metadata": {
        "id": "WZiWouN47NUO"
      },
      "source": [
        "Посчитаем схожести пользователей с помощью корреляции Пирсона. Для каждой пары учитываем только ненулевые значения.\n",
        "\n",
        "Для скорости работы лучше переходить от pandas к numpy."
      ]
    },
    {
      "cell_type": "code",
      "metadata": {
        "id": "aG8Pi_qR7NUO"
      },
      "source": [
        "ratings_m = ratings.values"
      ],
      "execution_count": 25,
      "outputs": []
    },
    {
      "cell_type": "code",
      "metadata": {
        "colab": {
          "base_uri": "https://localhost:8080/",
          "height": 101,
          "referenced_widgets": [
            "0ea562801d454094ab5ca8411ece4b2d",
            "35ff299ece3148e68911d6edbe0738f4",
            "4100bc8057a0454884ba9c3c0b1841b4",
            "b01aa5bca5db4b1db1e9e2b934e4d176",
            "8bf50a3d292e4f1caa24b1babc98106e",
            "af6e620fe86b4196b169599717160f5e",
            "265f0b93bb594abb9067985bda68da7b",
            "8e617bf6c29e44569aca231f4914dfd5",
            "6c01f618e3bc4111ba5ae59ee0fe5234",
            "3bd3bba9e1104daf86ce2daa9ff7b8cf",
            "58cd14ca7f1b4847bcf9b39a492a6789"
          ]
        },
        "id": "lZanlVow7NUP",
        "outputId": "c30738e9-9780-49f0-d7d3-b819ed796f14"
      },
      "source": [
        "similarity_users = np.zeros((len(ratings_m), len(ratings_m)))\n",
        "\n",
        "for i in tqdm_notebook(range(len(ratings_m)-1)):\n",
        "    for j in range(i+1, len(ratings_m)):\n",
        "        \n",
        "        # nonzero elements of two users\n",
        "        mask_uv = (ratings_m[i] != 0) & (ratings_m[j] != 0)\n",
        "        \n",
        "        # continue if no intersection\n",
        "        if np.sum(mask_uv) == 0:\n",
        "            continue\n",
        "            \n",
        "        # get nonzero elements\n",
        "        ratings_v = ratings_m[i, mask_uv]\n",
        "        ratings_u = ratings_m[j, mask_uv]\n",
        "        \n",
        "        # for nonzero std\n",
        "        if len(np.unique(ratings_v)) < 2 or len(np.unique(ratings_u)) < 2:\n",
        "            continue\n",
        "        # similarity_users[i,j] = \n",
        "        # similarity_users[j,i] = \n",
        "        ####### Здесь ваш код ##########\n",
        "        similarity_users[i,j] = np.corrcoef(ratings_v, ratings_u)[0, 1]\n",
        "        similarity_users[j,i] = similarity_users[i,j]\n",
        "        ################################"
      ],
      "execution_count": 26,
      "outputs": [
        {
          "output_type": "stream",
          "name": "stderr",
          "text": [
            "/usr/local/lib/python3.7/dist-packages/ipykernel_launcher.py:3: TqdmDeprecationWarning: This function will be removed in tqdm==5.0.0\n",
            "Please use `tqdm.notebook.tqdm` instead of `tqdm.tqdm_notebook`\n",
            "  This is separate from the ipykernel package so we can avoid doing imports until\n"
          ]
        },
        {
          "output_type": "display_data",
          "data": {
            "application/vnd.jupyter.widget-view+json": {
              "model_id": "0ea562801d454094ab5ca8411ece4b2d",
              "version_minor": 0,
              "version_major": 2
            },
            "text/plain": [
              "  0%|          | 0/1111 [00:00<?, ?it/s]"
            ]
          },
          "metadata": {}
        }
      ]
    },
    {
      "cell_type": "markdown",
      "metadata": {
        "id": "FanD_G5p7NUP"
      },
      "source": [
        "Теперь у нас есть матрицы схожести пользователей. Их можно использовать для рекомендаций.\n",
        "\n",
        "Для каждого пользователя:\n",
        "\n",
        "1. Найдём пользователей с похожестью больше $\\alpha$ на нашего пользователя.\n",
        "2. Посчитаем для каждой статьи долю пользователей (среди выделенных на первом шаге), которые взаимодействовали со статьёй.\n",
        "3. Порекомендуем статьи с наибольшими долями со второго шага (среди тех, которые пользователь ещё не видел).\n",
        "\n",
        "В нашем примере данных не очень много, поэтому возьмём $\\alpha = 0$.\n",
        "\n",
        "После того, как будут сделаны предсказания (новый столбец в interactions), посчитаем качество по той же метрике."
      ]
    },
    {
      "cell_type": "code",
      "metadata": {
        "colab": {
          "base_uri": "https://localhost:8080/",
          "height": 156,
          "referenced_widgets": [
            "e6e459dae870476e87f73af6999b48c0",
            "082ed11f084742faa81a97a53834df19",
            "f513452bb5394e778b1487b3410f619c",
            "9daed56d0c2d4fd9a8fe2a6e399bd0e8",
            "aea3bcdcef0440b1b0bfaa58acb60da1",
            "a17412c0a2674c68b663e44949105fa1",
            "defd38d080a84d6a983f3a5af875f2a3",
            "737dffc19ca84e5a930c99dcd1acb8e9",
            "97b5c9d4f6fb44debb7aa50a477de88c",
            "a94fa8269d6b47d7ac9a91bc7c72a8ec",
            "4a50b669fb5d4b53998224de4f2794f4"
          ]
        },
        "id": "V1q95s9a7NUP",
        "outputId": "5c9e3820-8885-476a-cae7-315fc0febd4b"
      },
      "source": [
        "prediction_user_based = []\n",
        "####### Здесь ваш код ##########\n",
        "for i in tqdm_notebook(range(len(similarity_users))):\n",
        "    users_sim = similarity_users[i] > 0\n",
        "    if len(users_sim) == 0:\n",
        "        prediction_user_based.append([])\n",
        "    else:\n",
        "        tmp_recommend = np.argsort(ratings_m[users_sim].sum(axis=0))[::-1]\n",
        "        tmp_recommend = ratings.columns[tmp_recommend]\n",
        "        recommend = np.array(tmp_recommend)[~np.in1d(tmp_recommend, interactions.iloc[i])][:10]\n",
        "        prediction_user_based.append(list(recommend))\n",
        "################################\n",
        "interactions['prediction_user_based'] = prediction_user_based"
      ],
      "execution_count": 27,
      "outputs": [
        {
          "output_type": "stream",
          "name": "stderr",
          "text": [
            "/usr/local/lib/python3.7/dist-packages/ipykernel_launcher.py:3: TqdmDeprecationWarning: This function will be removed in tqdm==5.0.0\n",
            "Please use `tqdm.notebook.tqdm` instead of `tqdm.tqdm_notebook`\n",
            "  This is separate from the ipykernel package so we can avoid doing imports until\n"
          ]
        },
        {
          "output_type": "display_data",
          "data": {
            "application/vnd.jupyter.widget-view+json": {
              "model_id": "e6e459dae870476e87f73af6999b48c0",
              "version_minor": 0,
              "version_major": 2
            },
            "text/plain": [
              "  0%|          | 0/1112 [00:00<?, ?it/s]"
            ]
          },
          "metadata": {}
        },
        {
          "output_type": "stream",
          "name": "stderr",
          "text": [
            "/usr/local/lib/python3.7/dist-packages/numpy/lib/arraysetops.py:580: FutureWarning: elementwise comparison failed; returning scalar instead, but in the future will perform elementwise comparison\n",
            "  mask |= (ar1 == a)\n"
          ]
        }
      ]
    },
    {
      "cell_type": "code",
      "metadata": {
        "colab": {
          "base_uri": "https://localhost:8080/"
        },
        "id": "bGCsKsdH7NUP",
        "outputId": "41b05569-ab26-4259-85fa-6993f12ce363"
      },
      "source": [
        "calc_precision('prediction_user_based')"
      ],
      "execution_count": 28,
      "outputs": [
        {
          "output_type": "execute_result",
          "data": {
            "text/plain": [
              "0.003541692918885617"
            ]
          },
          "metadata": {},
          "execution_count": 28
        }
      ]
    },
    {
      "cell_type": "markdown",
      "metadata": {
        "id": "44S6wHKw7NUP"
      },
      "source": [
        "### Модель со скрытыми переменными"
      ]
    },
    {
      "cell_type": "markdown",
      "metadata": {
        "id": "NLxQug7T7NUP"
      },
      "source": [
        "Реализуем подход с разложением матрицы оценок. Для этого сделаем сингулярное разложение (svd в scipy.linalg), на выходе вы получите три матрицы.\n",
        "\n",
        "Заметим, что мы используем матрицу с нулями, будто отсутствующие взаимодействия негативные, что странно.\n",
        "\n",
        "Если бы мы учили модель со скрытыми переменными с помощью стохастического градиентного спуска, то неизвестные взаимодействия могли бы не использовать."
      ]
    },
    {
      "cell_type": "code",
      "metadata": {
        "id": "Wt0wdgF67NUQ"
      },
      "source": [
        "from scipy.linalg import svd"
      ],
      "execution_count": 29,
      "outputs": []
    },
    {
      "cell_type": "code",
      "metadata": {
        "colab": {
          "base_uri": "https://localhost:8080/"
        },
        "id": "Nrc4L1oK7NUQ",
        "outputId": "cddc1824-6b00-4b1f-f139-a20c701fae3d"
      },
      "source": [
        "####### Здесь ваш код ##########\n",
        "U, sigma, V = svd(ratings)\n",
        "print(ratings.shape, U.shape, sigma.shape, V.shape)\n",
        "################################"
      ],
      "execution_count": 30,
      "outputs": [
        {
          "output_type": "stream",
          "name": "stdout",
          "text": [
            "(1112, 2366) (1112, 1112) (1112,) (2366, 2366)\n"
          ]
        }
      ]
    },
    {
      "cell_type": "code",
      "metadata": {
        "colab": {
          "base_uri": "https://localhost:8080/"
        },
        "id": "L-qvuwS_7NUQ",
        "outputId": "c8de6bf9-f3b9-4ece-e1d7-c417947d48ba"
      },
      "source": [
        "####### Здесь ваш код ##########\n",
        "Sigma = np.zeros((1112, 2366))\n",
        "Sigma[:1112, :1112] = np.diag(sigma)\n",
        "\n",
        "new_ratings = U.dot(Sigma).dot(V)\n",
        "\n",
        "print(sum(sum((new_ratings - ratings.values) ** 2)))\n",
        "################################"
      ],
      "execution_count": 31,
      "outputs": [
        {
          "output_type": "stream",
          "name": "stdout",
          "text": [
            "1.0049074409063946e-24\n"
          ]
        }
      ]
    },
    {
      "cell_type": "markdown",
      "metadata": {
        "id": "UdXQAsbT7NUQ"
      },
      "source": [
        "Значения у матрицы с сингулярными числами отсортированы по убыванию. Допустим мы хотим оставить только первые 100 компонент (и получить скрытые представления размерности 100). Для этого необходимо оставить 100 столбцов в матрице U, оставить из sigma только первые 100 значений (и сделать из них диагональную матрицу) и 100 столбцов в матрице V. Перемножим преобразованные матрицы ($\\hat{U}, \\hat{sigma}, \\hat{V^T}$), чтобы получить восстановленную матрицу оценок."
      ]
    },
    {
      "cell_type": "code",
      "metadata": {
        "id": "Y4d-FgC67NUQ"
      },
      "source": [
        "K = 100\n",
        "####### Здесь ваш код ##########\n",
        "sigma[K:] = 0\n",
        "Sigma = np.zeros((1112, 2366))\n",
        "Sigma[:1112, :1112] = np.diag(sigma)\n",
        "################################"
      ],
      "execution_count": 32,
      "outputs": []
    },
    {
      "cell_type": "markdown",
      "metadata": {
        "id": "vfHCpcpk7NUQ"
      },
      "source": [
        "Посчитаем качество аппроксимации матрицы по норме Фробениуса (среднеквадратичную ошибку между всеми элементами соответствующими элементами двух матриц). Сравним его с простым бейзлайном с константным значением, равным среднему значению исходной матрицы. У аппроксимации ошибка должна получиться ниже."
      ]
    },
    {
      "cell_type": "code",
      "metadata": {
        "colab": {
          "base_uri": "https://localhost:8080/"
        },
        "id": "0eJ04SyR7NUQ",
        "outputId": "a726d36b-db42-4804-cf1b-4f503bd9fc25"
      },
      "source": [
        "####### Здесь ваш код ##########\n",
        "new_ratings = U.dot(Sigma).dot(V)\n",
        "print(sum(sum((new_ratings - ratings.values) ** 2)))\n",
        "print(sum(sum((ratings.values.mean() - ratings.values) ** 2)))\n",
        "################################"
      ],
      "execution_count": 33,
      "outputs": [
        {
          "output_type": "stream",
          "name": "stdout",
          "text": [
            "25843.424898912766\n",
            "78622.13000466056\n"
          ]
        }
      ]
    },
    {
      "cell_type": "markdown",
      "metadata": {
        "id": "La65ws_s7NUR"
      },
      "source": [
        "Теперь можно делать предсказания по матрице. Сделаем их (не забываем про то, что уже было просмотрено пользователем), оценим качество. Для этого необходимо для каждого пользователя найти предметы с наибольшими оценками в восстановленной матрице."
      ]
    },
    {
      "cell_type": "code",
      "metadata": {
        "colab": {
          "base_uri": "https://localhost:8080/",
          "height": 101,
          "referenced_widgets": [
            "309aa8687a0447a49410d4999f6e398a",
            "3d891f9a4d024fd2ab2b4880f3d001cc",
            "ef5b837cbba247f8bd27216062dd03cd",
            "f804dfbd05ba489bb36c83af4849829e",
            "ade24d70e84140d59067d2b774d9b6c0",
            "7b751019db4e4af2afc6ecc098850ca2",
            "05f2252cf19b4f8b844f8bd2032007a1",
            "c55c15ab38a447e1987d0d2cb98bcdae",
            "5c5355981c9f4c2fb2d09cb8128df3c3",
            "59a8f04519d04842b2c5fcbee802f754",
            "90ebfa6bfe59463681496aed9fcc4120"
          ]
        },
        "id": "6vHccmsW7NUR",
        "outputId": "5d19f74a-990b-4527-f11b-e2391b82e2f9"
      },
      "source": [
        "new_ratings = pd.DataFrame(new_ratings, index=ratings.index, columns=ratings.columns)\n",
        "\n",
        "predictions = []\n",
        "####### Здесь ваш код ##########\n",
        "for personId in tqdm_notebook(interactions.index):\n",
        "    prediction = (\n",
        "        new_ratings\n",
        "        .loc[personId]\n",
        "        .sort_values(ascending=False)\n",
        "        .index.values\n",
        "    )\n",
        "    \n",
        "    predictions.append(\n",
        "        list(prediction[~np.in1d(\n",
        "            prediction,\n",
        "            interactions.loc[personId, 'true_train'])])[:top_k])\n",
        "################################\n",
        "interactions['prediction_svd'] = predictions"
      ],
      "execution_count": 34,
      "outputs": [
        {
          "output_type": "stream",
          "name": "stderr",
          "text": [
            "/usr/local/lib/python3.7/dist-packages/ipykernel_launcher.py:5: TqdmDeprecationWarning: This function will be removed in tqdm==5.0.0\n",
            "Please use `tqdm.notebook.tqdm` instead of `tqdm.tqdm_notebook`\n",
            "  \"\"\"\n"
          ]
        },
        {
          "output_type": "display_data",
          "data": {
            "application/vnd.jupyter.widget-view+json": {
              "model_id": "309aa8687a0447a49410d4999f6e398a",
              "version_minor": 0,
              "version_major": 2
            },
            "text/plain": [
              "  0%|          | 0/1112 [00:00<?, ?it/s]"
            ]
          },
          "metadata": {}
        }
      ]
    },
    {
      "cell_type": "code",
      "metadata": {
        "colab": {
          "base_uri": "https://localhost:8080/"
        },
        "id": "VAEaQ4dX7NUR",
        "scrolled": true,
        "outputId": "ac894a17-bc3d-47a6-8225-3e69a54b3471"
      },
      "source": [
        "calc_precision('prediction_svd')"
      ],
      "execution_count": 35,
      "outputs": [
        {
          "output_type": "execute_result",
          "data": {
            "text/plain": [
              "0.012212989310270754"
            ]
          },
          "metadata": {},
          "execution_count": 35
        }
      ]
    },
    {
      "cell_type": "markdown",
      "metadata": {
        "id": "ETpXOarg7NUR"
      },
      "source": [
        "## Часть 3. Контентные  модели"
      ]
    },
    {
      "cell_type": "markdown",
      "metadata": {
        "id": "f0PzHZQG7NUR"
      },
      "source": [
        "В этой части реализуем альтернативный подход к рекомендательным системам — контентные модели."
      ]
    },
    {
      "cell_type": "markdown",
      "metadata": {
        "id": "WnxLuSm77NUR"
      },
      "source": [
        "Теперь мы будем оперировать не матрицей с оценками, а классической для машинного обучения матрицей объекты-признаки. Каждый объект будет характеризовать пару user-item и содержать признаки, описывающие как пользователя, так и товар. Кроме этого признаки могут описывать и саму пару целиком.\n",
        "\n",
        "Матрица со всеми взаимодействиями уже получена нами на этапа разбиения выборки на 2 части. \n",
        "\n",
        "Будем обучать классификатор на взаимодействие, а для него нужны отрицательные примеры. Добавим случайные отсутствующие взаимодействия как отрицательные.\n",
        "\n",
        "Заметим, что модель оценивает каждую пару потенциального взаимодействия, а значит, надо подготовить выборку из всех возможных пар из пользователей и статей."
      ]
    },
    {
      "cell_type": "code",
      "metadata": {
        "id": "x8UE8_5F7NUR"
      },
      "source": [
        "test_personId = np.repeat(interactions.index, len(ratings.columns)) \n",
        "test_contentId = list(ratings.columns) * len(interactions)\n",
        "test = pd.DataFrame(\n",
        "    np.array([test_personId, test_contentId]).T,\n",
        "    columns=['personId', 'contentId'])\n",
        "\n",
        "interactions_train_df = pd.concat((\n",
        "    interactions_train_df,\n",
        "    test.loc[\n",
        "        np.random.permutation(test.index)[\n",
        "            :4*len(interactions_train_df)]]), ignore_index=True)\n",
        "interactions_train_df.eventStrength.fillna(0, inplace=True)"
      ],
      "execution_count": 36,
      "outputs": []
    },
    {
      "cell_type": "markdown",
      "metadata": {
        "id": "YHjAGl5X7NUS"
      },
      "source": [
        "Придумаем и добавим признаков о пользователях и статьях. Сначала добавим информацию о статьях в данные о взаимодействиях."
      ]
    },
    {
      "cell_type": "code",
      "metadata": {
        "id": "rCrmLJ6o7NUS"
      },
      "source": [
        "interactions_train_df = interactions_train_df.merge(articles_df, how='left', on='contentId')\n",
        "interactions_test_df = interactions_test_df.merge(articles_df, how='left', on='contentId')"
      ],
      "execution_count": 37,
      "outputs": []
    },
    {
      "cell_type": "code",
      "metadata": {
        "id": "Dl0THEi87NUS"
      },
      "source": [
        "# first feature index\n",
        "features_start = len(interactions_train_df.columns)"
      ],
      "execution_count": 38,
      "outputs": []
    },
    {
      "cell_type": "markdown",
      "metadata": {
        "id": "Qr-RuQyM7NUS"
      },
      "source": [
        "После обучения модели нам придётся делать предсказания на тестовой выборке для всех возможных пар статья-пользователь. Подготовим такую матрицу, чтобы параллельно посчитать признаки для неё."
      ]
    },
    {
      "cell_type": "code",
      "metadata": {
        "colab": {
          "base_uri": "https://localhost:8080/",
          "height": 607
        },
        "id": "J-eO-JeM7NUS",
        "outputId": "8d76dfdb-f8fc-4604-a656-f1bba228998e"
      },
      "source": [
        "test_personId = np.repeat(interactions.index, len(articles_df)) \n",
        "test_contentId = list(articles_df.contentId) * len(interactions)\n",
        "test = pd.DataFrame(\n",
        "    np.array([test_personId, test_contentId]).T,\n",
        "    columns=['personId', 'contentId'])\n",
        "test = test.merge(articles_df, how='left', on='contentId')\n",
        "\n",
        "test.head()"
      ],
      "execution_count": 39,
      "outputs": [
        {
          "output_type": "execute_result",
          "data": {
            "text/html": [
              "<div>\n",
              "<style scoped>\n",
              "    .dataframe tbody tr th:only-of-type {\n",
              "        vertical-align: middle;\n",
              "    }\n",
              "\n",
              "    .dataframe tbody tr th {\n",
              "        vertical-align: top;\n",
              "    }\n",
              "\n",
              "    .dataframe thead th {\n",
              "        text-align: right;\n",
              "    }\n",
              "</style>\n",
              "<table border=\"1\" class=\"dataframe\">\n",
              "  <thead>\n",
              "    <tr style=\"text-align: right;\">\n",
              "      <th></th>\n",
              "      <th>personId</th>\n",
              "      <th>contentId</th>\n",
              "      <th>timestamp</th>\n",
              "      <th>eventType</th>\n",
              "      <th>authorPersonId</th>\n",
              "      <th>authorSessionId</th>\n",
              "      <th>authorUserAgent</th>\n",
              "      <th>authorRegion</th>\n",
              "      <th>authorCountry</th>\n",
              "      <th>contentType</th>\n",
              "      <th>url</th>\n",
              "      <th>title</th>\n",
              "      <th>text</th>\n",
              "      <th>lang</th>\n",
              "    </tr>\n",
              "  </thead>\n",
              "  <tbody>\n",
              "    <tr>\n",
              "      <th>0</th>\n",
              "      <td>-1007001694607905623</td>\n",
              "      <td>-4110354420726924665</td>\n",
              "      <td>1459193988</td>\n",
              "      <td>CONTENT SHARED</td>\n",
              "      <td>4340306774493623681</td>\n",
              "      <td>8940341205206233829</td>\n",
              "      <td>NaN</td>\n",
              "      <td>NaN</td>\n",
              "      <td>NaN</td>\n",
              "      <td>HTML</td>\n",
              "      <td>http://www.nytimes.com/2016/03/28/business/dea...</td>\n",
              "      <td>Ethereum, a Virtual Currency, Enables Transact...</td>\n",
              "      <td>All of this work is still very early. The firs...</td>\n",
              "      <td>en</td>\n",
              "    </tr>\n",
              "    <tr>\n",
              "      <th>1</th>\n",
              "      <td>-1007001694607905623</td>\n",
              "      <td>-7292285110016212249</td>\n",
              "      <td>1459194146</td>\n",
              "      <td>CONTENT SHARED</td>\n",
              "      <td>4340306774493623681</td>\n",
              "      <td>8940341205206233829</td>\n",
              "      <td>NaN</td>\n",
              "      <td>NaN</td>\n",
              "      <td>NaN</td>\n",
              "      <td>HTML</td>\n",
              "      <td>http://cointelegraph.com/news/bitcoin-future-w...</td>\n",
              "      <td>Bitcoin Future: When GBPcoin of Branson Wins O...</td>\n",
              "      <td>The alarm clock wakes me at 8:00 with stream o...</td>\n",
              "      <td>en</td>\n",
              "    </tr>\n",
              "    <tr>\n",
              "      <th>2</th>\n",
              "      <td>-1007001694607905623</td>\n",
              "      <td>-6151852268067518688</td>\n",
              "      <td>1459194474</td>\n",
              "      <td>CONTENT SHARED</td>\n",
              "      <td>3891637997717104548</td>\n",
              "      <td>-1457532940883382585</td>\n",
              "      <td>NaN</td>\n",
              "      <td>NaN</td>\n",
              "      <td>NaN</td>\n",
              "      <td>HTML</td>\n",
              "      <td>https://cloudplatform.googleblog.com/2016/03/G...</td>\n",
              "      <td>Google Data Center 360° Tour</td>\n",
              "      <td>We're excited to share the Google Data Center ...</td>\n",
              "      <td>en</td>\n",
              "    </tr>\n",
              "    <tr>\n",
              "      <th>3</th>\n",
              "      <td>-1007001694607905623</td>\n",
              "      <td>2448026894306402386</td>\n",
              "      <td>1459194497</td>\n",
              "      <td>CONTENT SHARED</td>\n",
              "      <td>4340306774493623681</td>\n",
              "      <td>8940341205206233829</td>\n",
              "      <td>NaN</td>\n",
              "      <td>NaN</td>\n",
              "      <td>NaN</td>\n",
              "      <td>HTML</td>\n",
              "      <td>https://bitcoinmagazine.com/articles/ibm-wants...</td>\n",
              "      <td>IBM Wants to \"Evolve the Internet\" With Blockc...</td>\n",
              "      <td>The Aite Group projects the blockchain market ...</td>\n",
              "      <td>en</td>\n",
              "    </tr>\n",
              "    <tr>\n",
              "      <th>4</th>\n",
              "      <td>-1007001694607905623</td>\n",
              "      <td>-2826566343807132236</td>\n",
              "      <td>1459194522</td>\n",
              "      <td>CONTENT SHARED</td>\n",
              "      <td>4340306774493623681</td>\n",
              "      <td>8940341205206233829</td>\n",
              "      <td>NaN</td>\n",
              "      <td>NaN</td>\n",
              "      <td>NaN</td>\n",
              "      <td>HTML</td>\n",
              "      <td>http://www.coindesk.com/ieee-blockchain-oxford...</td>\n",
              "      <td>IEEE to Talk Blockchain at Cloud Computing Oxf...</td>\n",
              "      <td>One of the largest and oldest organizations fo...</td>\n",
              "      <td>en</td>\n",
              "    </tr>\n",
              "  </tbody>\n",
              "</table>\n",
              "</div>"
            ],
            "text/plain": [
              "               personId  ... lang\n",
              "0  -1007001694607905623  ...   en\n",
              "1  -1007001694607905623  ...   en\n",
              "2  -1007001694607905623  ...   en\n",
              "3  -1007001694607905623  ...   en\n",
              "4  -1007001694607905623  ...   en\n",
              "\n",
              "[5 rows x 14 columns]"
            ]
          },
          "metadata": {},
          "execution_count": 39
        }
      ]
    },
    {
      "cell_type": "markdown",
      "metadata": {
        "id": "0mETAklS7NUS"
      },
      "source": [
        "Добавим признаки-индикаторы возможных значений contentType."
      ]
    },
    {
      "cell_type": "code",
      "metadata": {
        "id": "_qV8qSx77NUS"
      },
      "source": [
        "interactions_train_df['is_HTML'] = interactions_train_df.contentType == 'HTML'\n",
        "####### Здесь ваш код ##########\n",
        "interactions_train_df['is_RICH'] = interactions_train_df.contentType == 'RICH'\n",
        "interactions_train_df['is_VIDEO'] = interactions_train_df.contentType == 'VIDEO'\n",
        "\n",
        "test['is_HTML'] = test.contentType == 'HTML'\n",
        "test['is_RICH'] = test.contentType == 'RICH'\n",
        "test['is_VIDEO'] = test.contentType == 'VIDEO'\n",
        "################################"
      ],
      "execution_count": 40,
      "outputs": []
    },
    {
      "cell_type": "markdown",
      "metadata": {
        "id": "CQ88UyYo7NUT"
      },
      "source": [
        "Добавим признаки \"длина названия\" и \"длина текста\" + некоторые проверки на ключевые слова."
      ]
    },
    {
      "cell_type": "code",
      "metadata": {
        "id": "vrbwcMOc7NUT"
      },
      "source": [
        "interactions_train_df['title_length'] = interactions_train_df.title.fillna('').apply(len)\n",
        "####### Здесь ваш код ##########\n",
        "interactions_train_df['text_length'] = interactions_train_df.text.fillna('').apply(len)\n",
        "\n",
        "test['title_length'] = test.title.fillna('').apply(len)\n",
        "test['text_length'] = test.text.fillna('').apply(len)\n",
        "\n",
        "interactions_train_df['has_new'] = \\\n",
        "    interactions_train_df.title.fillna('').apply(lambda x: 'new' in x.lower())\n",
        "interactions_train_df['has_why'] = \\\n",
        "    interactions_train_df.title.fillna('').apply(lambda x: 'why' in x.lower())\n",
        "interactions_train_df['has_how'] = \\\n",
        "    interactions_train_df.title.fillna('').apply(lambda x: 'how' in x.lower())\n",
        "interactions_train_df['has_ai'] = \\\n",
        "    interactions_train_df.title.fillna('').apply(lambda x: 'ai' in x.lower())\n",
        "\n",
        "test['has_new'] = \\\n",
        "    test.title.fillna('').apply(lambda x: 'new' in x.lower())\n",
        "test['has_why'] = \\\n",
        "    test.title.fillna('').apply(lambda x: 'why' in x.lower())\n",
        "test['has_how'] = \\\n",
        "    test.title.fillna('').apply(lambda x: 'how' in x.lower())\n",
        "test['has_ai'] = \\\n",
        "    test.title.fillna('').apply(lambda x: 'ai' in x.lower())\n",
        "################################"
      ],
      "execution_count": 41,
      "outputs": []
    },
    {
      "cell_type": "markdown",
      "metadata": {
        "id": "3VKPsutr7NUT"
      },
      "source": [
        "Добавим признаки-индикаторы языка."
      ]
    },
    {
      "cell_type": "code",
      "metadata": {
        "id": "Fh9Zm1XR7NUT"
      },
      "source": [
        "interactions_train_df['is_lang_en'] = interactions_train_df.lang == 'en'\n",
        "####### Здесь ваш код ##########\n",
        "interactions_train_df['is_lang_pt'] = interactions_train_df.lang == 'pt'\n",
        "\n",
        "test['is_lang_en'] = test.lang == 'en'\n",
        "test['is_lang_pt'] = test.lang == 'pt'\n",
        "################################"
      ],
      "execution_count": 42,
      "outputs": []
    },
    {
      "cell_type": "markdown",
      "metadata": {
        "id": "MwkU7S9H7NUT"
      },
      "source": [
        "Обучим на полученных признаках градиентный бустинг."
      ]
    },
    {
      "cell_type": "code",
      "metadata": {
        "colab": {
          "base_uri": "https://localhost:8080/"
        },
        "id": "3cbtHpi77NUT",
        "scrolled": true,
        "outputId": "ae25d649-479c-4ee1-8dd2-844ca22bd78c"
      },
      "source": [
        "import catboost \n",
        "\n",
        "model = catboost.CatBoostClassifier()\n",
        "model.fit(interactions_train_df[interactions_train_df.columns[features_start:]],\n",
        "          np.array(interactions_train_df.eventStrength > 0, dtype=int))"
      ],
      "execution_count": 43,
      "outputs": [
        {
          "output_type": "stream",
          "name": "stdout",
          "text": [
            "Learning rate set to 0.086682\n",
            "0:\tlearn: 0.6577225\ttotal: 82.8ms\tremaining: 1m 22s\n",
            "1:\tlearn: 0.6289246\ttotal: 106ms\tremaining: 53s\n",
            "2:\tlearn: 0.6053899\ttotal: 131ms\tremaining: 43.6s\n",
            "3:\tlearn: 0.5857196\ttotal: 163ms\tremaining: 40.6s\n",
            "4:\tlearn: 0.5700033\ttotal: 199ms\tremaining: 39.5s\n",
            "5:\tlearn: 0.5567233\ttotal: 228ms\tremaining: 37.8s\n",
            "6:\tlearn: 0.5461403\ttotal: 250ms\tremaining: 35.5s\n",
            "7:\tlearn: 0.5373315\ttotal: 280ms\tremaining: 34.7s\n",
            "8:\tlearn: 0.5300542\ttotal: 303ms\tremaining: 33.3s\n",
            "9:\tlearn: 0.5240238\ttotal: 329ms\tremaining: 32.6s\n",
            "10:\tlearn: 0.5190669\ttotal: 353ms\tremaining: 31.8s\n",
            "11:\tlearn: 0.5147750\ttotal: 382ms\tremaining: 31.4s\n",
            "12:\tlearn: 0.5114016\ttotal: 416ms\tremaining: 31.6s\n",
            "13:\tlearn: 0.5084577\ttotal: 460ms\tremaining: 32.4s\n",
            "14:\tlearn: 0.5058418\ttotal: 494ms\tremaining: 32.4s\n",
            "15:\tlearn: 0.5036235\ttotal: 526ms\tremaining: 32.4s\n",
            "16:\tlearn: 0.5019297\ttotal: 558ms\tremaining: 32.2s\n",
            "17:\tlearn: 0.5006657\ttotal: 579ms\tremaining: 31.6s\n",
            "18:\tlearn: 0.4992073\ttotal: 607ms\tremaining: 31.4s\n",
            "19:\tlearn: 0.4979410\ttotal: 645ms\tremaining: 31.6s\n",
            "20:\tlearn: 0.4972069\ttotal: 668ms\tremaining: 31.1s\n",
            "21:\tlearn: 0.4964787\ttotal: 706ms\tremaining: 31.4s\n",
            "22:\tlearn: 0.4959881\ttotal: 728ms\tremaining: 30.9s\n",
            "23:\tlearn: 0.4952571\ttotal: 756ms\tremaining: 30.8s\n",
            "24:\tlearn: 0.4945614\ttotal: 788ms\tremaining: 30.7s\n",
            "25:\tlearn: 0.4942570\ttotal: 818ms\tremaining: 30.6s\n",
            "26:\tlearn: 0.4937739\ttotal: 845ms\tremaining: 30.5s\n",
            "27:\tlearn: 0.4933741\ttotal: 879ms\tremaining: 30.5s\n",
            "28:\tlearn: 0.4930243\ttotal: 906ms\tremaining: 30.3s\n",
            "29:\tlearn: 0.4926526\ttotal: 934ms\tremaining: 30.2s\n",
            "30:\tlearn: 0.4923028\ttotal: 962ms\tremaining: 30.1s\n",
            "31:\tlearn: 0.4919246\ttotal: 989ms\tremaining: 29.9s\n",
            "32:\tlearn: 0.4915677\ttotal: 1.02s\tremaining: 29.8s\n",
            "33:\tlearn: 0.4912636\ttotal: 1.05s\tremaining: 29.9s\n",
            "34:\tlearn: 0.4910196\ttotal: 1.09s\tremaining: 30s\n",
            "35:\tlearn: 0.4907577\ttotal: 1.11s\tremaining: 29.9s\n",
            "36:\tlearn: 0.4904753\ttotal: 1.15s\tremaining: 29.9s\n",
            "37:\tlearn: 0.4901926\ttotal: 1.18s\tremaining: 29.8s\n",
            "38:\tlearn: 0.4899082\ttotal: 1.24s\tremaining: 30.4s\n",
            "39:\tlearn: 0.4896488\ttotal: 1.27s\tremaining: 30.5s\n",
            "40:\tlearn: 0.4894351\ttotal: 1.3s\tremaining: 30.5s\n",
            "41:\tlearn: 0.4892478\ttotal: 1.34s\tremaining: 30.5s\n",
            "42:\tlearn: 0.4890732\ttotal: 1.37s\tremaining: 30.4s\n",
            "43:\tlearn: 0.4888749\ttotal: 1.4s\tremaining: 30.4s\n",
            "44:\tlearn: 0.4886722\ttotal: 1.44s\tremaining: 30.5s\n",
            "45:\tlearn: 0.4885155\ttotal: 1.47s\tremaining: 30.5s\n",
            "46:\tlearn: 0.4883480\ttotal: 1.5s\tremaining: 30.4s\n",
            "47:\tlearn: 0.4881295\ttotal: 1.53s\tremaining: 30.3s\n",
            "48:\tlearn: 0.4879781\ttotal: 1.56s\tremaining: 30.4s\n",
            "49:\tlearn: 0.4877625\ttotal: 1.6s\tremaining: 30.3s\n",
            "50:\tlearn: 0.4876150\ttotal: 1.63s\tremaining: 30.3s\n",
            "51:\tlearn: 0.4874777\ttotal: 1.67s\tremaining: 30.4s\n",
            "52:\tlearn: 0.4873523\ttotal: 1.71s\tremaining: 30.5s\n",
            "53:\tlearn: 0.4872870\ttotal: 1.74s\tremaining: 30.5s\n",
            "54:\tlearn: 0.4870494\ttotal: 1.77s\tremaining: 30.4s\n",
            "55:\tlearn: 0.4869366\ttotal: 1.8s\tremaining: 30.4s\n",
            "56:\tlearn: 0.4867772\ttotal: 1.84s\tremaining: 30.4s\n",
            "57:\tlearn: 0.4866765\ttotal: 1.87s\tremaining: 30.4s\n",
            "58:\tlearn: 0.4864381\ttotal: 1.9s\tremaining: 30.3s\n",
            "59:\tlearn: 0.4862337\ttotal: 1.94s\tremaining: 30.3s\n",
            "60:\tlearn: 0.4861008\ttotal: 1.97s\tremaining: 30.3s\n",
            "61:\tlearn: 0.4859782\ttotal: 2s\tremaining: 30.2s\n",
            "62:\tlearn: 0.4858581\ttotal: 2.03s\tremaining: 30.2s\n",
            "63:\tlearn: 0.4857462\ttotal: 2.07s\tremaining: 30.2s\n",
            "64:\tlearn: 0.4856738\ttotal: 2.1s\tremaining: 30.3s\n",
            "65:\tlearn: 0.4855590\ttotal: 2.14s\tremaining: 30.3s\n",
            "66:\tlearn: 0.4854806\ttotal: 2.17s\tremaining: 30.3s\n",
            "67:\tlearn: 0.4853673\ttotal: 2.2s\tremaining: 30.2s\n",
            "68:\tlearn: 0.4852841\ttotal: 2.23s\tremaining: 30.1s\n",
            "69:\tlearn: 0.4851223\ttotal: 2.26s\tremaining: 30.1s\n",
            "70:\tlearn: 0.4849548\ttotal: 2.29s\tremaining: 30s\n",
            "71:\tlearn: 0.4848004\ttotal: 2.32s\tremaining: 30s\n",
            "72:\tlearn: 0.4847108\ttotal: 2.36s\tremaining: 30s\n",
            "73:\tlearn: 0.4846478\ttotal: 2.39s\tremaining: 30s\n",
            "74:\tlearn: 0.4844770\ttotal: 2.43s\tremaining: 30s\n",
            "75:\tlearn: 0.4844310\ttotal: 2.47s\tremaining: 30s\n",
            "76:\tlearn: 0.4843113\ttotal: 2.5s\tremaining: 29.9s\n",
            "77:\tlearn: 0.4842400\ttotal: 2.52s\tremaining: 29.8s\n",
            "78:\tlearn: 0.4842031\ttotal: 2.55s\tremaining: 29.8s\n",
            "79:\tlearn: 0.4840664\ttotal: 2.59s\tremaining: 29.8s\n",
            "80:\tlearn: 0.4839546\ttotal: 2.62s\tremaining: 29.7s\n",
            "81:\tlearn: 0.4837947\ttotal: 2.66s\tremaining: 29.7s\n",
            "82:\tlearn: 0.4836954\ttotal: 2.68s\tremaining: 29.6s\n",
            "83:\tlearn: 0.4835869\ttotal: 2.71s\tremaining: 29.6s\n",
            "84:\tlearn: 0.4834792\ttotal: 2.75s\tremaining: 29.5s\n",
            "85:\tlearn: 0.4833319\ttotal: 2.77s\tremaining: 29.5s\n",
            "86:\tlearn: 0.4832210\ttotal: 2.81s\tremaining: 29.5s\n",
            "87:\tlearn: 0.4831139\ttotal: 2.84s\tremaining: 29.4s\n",
            "88:\tlearn: 0.4830037\ttotal: 2.88s\tremaining: 29.4s\n",
            "89:\tlearn: 0.4828881\ttotal: 2.9s\tremaining: 29.4s\n",
            "90:\tlearn: 0.4828332\ttotal: 2.94s\tremaining: 29.3s\n",
            "91:\tlearn: 0.4827214\ttotal: 2.97s\tremaining: 29.3s\n",
            "92:\tlearn: 0.4826292\ttotal: 3s\tremaining: 29.2s\n",
            "93:\tlearn: 0.4824835\ttotal: 3.03s\tremaining: 29.2s\n",
            "94:\tlearn: 0.4824330\ttotal: 3.07s\tremaining: 29.2s\n",
            "95:\tlearn: 0.4822900\ttotal: 3.1s\tremaining: 29.2s\n",
            "96:\tlearn: 0.4821898\ttotal: 3.13s\tremaining: 29.1s\n",
            "97:\tlearn: 0.4821288\ttotal: 3.16s\tremaining: 29.1s\n",
            "98:\tlearn: 0.4820462\ttotal: 3.19s\tremaining: 29.1s\n",
            "99:\tlearn: 0.4820238\ttotal: 3.23s\tremaining: 29s\n",
            "100:\tlearn: 0.4819629\ttotal: 3.26s\tremaining: 29s\n",
            "101:\tlearn: 0.4817636\ttotal: 3.29s\tremaining: 29s\n",
            "102:\tlearn: 0.4816257\ttotal: 3.33s\tremaining: 29s\n",
            "103:\tlearn: 0.4815465\ttotal: 3.36s\tremaining: 28.9s\n",
            "104:\tlearn: 0.4814452\ttotal: 3.39s\tremaining: 28.9s\n",
            "105:\tlearn: 0.4813949\ttotal: 3.42s\tremaining: 28.8s\n",
            "106:\tlearn: 0.4812713\ttotal: 3.47s\tremaining: 28.9s\n",
            "107:\tlearn: 0.4811998\ttotal: 3.5s\tremaining: 28.9s\n",
            "108:\tlearn: 0.4811248\ttotal: 3.53s\tremaining: 28.8s\n",
            "109:\tlearn: 0.4810140\ttotal: 3.56s\tremaining: 28.8s\n",
            "110:\tlearn: 0.4808717\ttotal: 3.59s\tremaining: 28.7s\n",
            "111:\tlearn: 0.4807843\ttotal: 3.62s\tremaining: 28.7s\n",
            "112:\tlearn: 0.4806745\ttotal: 3.65s\tremaining: 28.7s\n",
            "113:\tlearn: 0.4805589\ttotal: 3.69s\tremaining: 28.7s\n",
            "114:\tlearn: 0.4804458\ttotal: 3.72s\tremaining: 28.6s\n",
            "115:\tlearn: 0.4803672\ttotal: 3.75s\tremaining: 28.6s\n",
            "116:\tlearn: 0.4802705\ttotal: 3.78s\tremaining: 28.6s\n",
            "117:\tlearn: 0.4802109\ttotal: 3.81s\tremaining: 28.5s\n",
            "118:\tlearn: 0.4801605\ttotal: 3.84s\tremaining: 28.4s\n",
            "119:\tlearn: 0.4800597\ttotal: 3.87s\tremaining: 28.4s\n",
            "120:\tlearn: 0.4800163\ttotal: 3.9s\tremaining: 28.4s\n",
            "121:\tlearn: 0.4799192\ttotal: 3.93s\tremaining: 28.3s\n",
            "122:\tlearn: 0.4798294\ttotal: 3.97s\tremaining: 28.3s\n",
            "123:\tlearn: 0.4797089\ttotal: 4s\tremaining: 28.3s\n",
            "124:\tlearn: 0.4796506\ttotal: 4.03s\tremaining: 28.2s\n",
            "125:\tlearn: 0.4795576\ttotal: 4.06s\tremaining: 28.2s\n",
            "126:\tlearn: 0.4794961\ttotal: 4.11s\tremaining: 28.2s\n",
            "127:\tlearn: 0.4793958\ttotal: 4.14s\tremaining: 28.2s\n",
            "128:\tlearn: 0.4793225\ttotal: 4.17s\tremaining: 28.2s\n",
            "129:\tlearn: 0.4792720\ttotal: 4.21s\tremaining: 28.2s\n",
            "130:\tlearn: 0.4791800\ttotal: 4.24s\tremaining: 28.1s\n",
            "131:\tlearn: 0.4790825\ttotal: 4.28s\tremaining: 28.1s\n",
            "132:\tlearn: 0.4790172\ttotal: 4.31s\tremaining: 28.1s\n",
            "133:\tlearn: 0.4789014\ttotal: 4.34s\tremaining: 28.1s\n",
            "134:\tlearn: 0.4788244\ttotal: 4.38s\tremaining: 28s\n",
            "135:\tlearn: 0.4787383\ttotal: 4.41s\tremaining: 28s\n",
            "136:\tlearn: 0.4786395\ttotal: 4.45s\tremaining: 28s\n",
            "137:\tlearn: 0.4785633\ttotal: 4.48s\tremaining: 28s\n",
            "138:\tlearn: 0.4785178\ttotal: 4.51s\tremaining: 28s\n",
            "139:\tlearn: 0.4784401\ttotal: 4.55s\tremaining: 27.9s\n",
            "140:\tlearn: 0.4783555\ttotal: 4.58s\tremaining: 27.9s\n",
            "141:\tlearn: 0.4782195\ttotal: 4.61s\tremaining: 27.8s\n",
            "142:\tlearn: 0.4781689\ttotal: 4.63s\tremaining: 27.8s\n",
            "143:\tlearn: 0.4781074\ttotal: 4.67s\tremaining: 27.7s\n",
            "144:\tlearn: 0.4779923\ttotal: 4.7s\tremaining: 27.7s\n",
            "145:\tlearn: 0.4779069\ttotal: 4.74s\tremaining: 27.7s\n",
            "146:\tlearn: 0.4778069\ttotal: 4.76s\tremaining: 27.7s\n",
            "147:\tlearn: 0.4777410\ttotal: 4.79s\tremaining: 27.6s\n",
            "148:\tlearn: 0.4776146\ttotal: 4.83s\tremaining: 27.6s\n",
            "149:\tlearn: 0.4775630\ttotal: 4.86s\tremaining: 27.5s\n",
            "150:\tlearn: 0.4774246\ttotal: 4.89s\tremaining: 27.5s\n",
            "151:\tlearn: 0.4773565\ttotal: 4.92s\tremaining: 27.5s\n",
            "152:\tlearn: 0.4772308\ttotal: 4.96s\tremaining: 27.5s\n",
            "153:\tlearn: 0.4771822\ttotal: 4.99s\tremaining: 27.4s\n",
            "154:\tlearn: 0.4770932\ttotal: 5.03s\tremaining: 27.4s\n",
            "155:\tlearn: 0.4770004\ttotal: 5.06s\tremaining: 27.4s\n",
            "156:\tlearn: 0.4769313\ttotal: 5.09s\tremaining: 27.4s\n",
            "157:\tlearn: 0.4768478\ttotal: 5.13s\tremaining: 27.3s\n",
            "158:\tlearn: 0.4767390\ttotal: 5.17s\tremaining: 27.3s\n",
            "159:\tlearn: 0.4765840\ttotal: 5.2s\tremaining: 27.3s\n",
            "160:\tlearn: 0.4764696\ttotal: 5.23s\tremaining: 27.2s\n",
            "161:\tlearn: 0.4764049\ttotal: 5.26s\tremaining: 27.2s\n",
            "162:\tlearn: 0.4763004\ttotal: 5.29s\tremaining: 27.2s\n",
            "163:\tlearn: 0.4762029\ttotal: 5.33s\tremaining: 27.1s\n",
            "164:\tlearn: 0.4760587\ttotal: 5.36s\tremaining: 27.1s\n",
            "165:\tlearn: 0.4759687\ttotal: 5.39s\tremaining: 27.1s\n",
            "166:\tlearn: 0.4758707\ttotal: 5.43s\tremaining: 27.1s\n",
            "167:\tlearn: 0.4758308\ttotal: 5.47s\tremaining: 27.1s\n",
            "168:\tlearn: 0.4757038\ttotal: 5.5s\tremaining: 27s\n",
            "169:\tlearn: 0.4755803\ttotal: 5.54s\tremaining: 27.1s\n",
            "170:\tlearn: 0.4754713\ttotal: 5.57s\tremaining: 27s\n",
            "171:\tlearn: 0.4753919\ttotal: 5.61s\tremaining: 27s\n",
            "172:\tlearn: 0.4753370\ttotal: 5.64s\tremaining: 27s\n",
            "173:\tlearn: 0.4752886\ttotal: 5.68s\tremaining: 26.9s\n",
            "174:\tlearn: 0.4752394\ttotal: 5.7s\tremaining: 26.9s\n",
            "175:\tlearn: 0.4751443\ttotal: 5.73s\tremaining: 26.8s\n",
            "176:\tlearn: 0.4750765\ttotal: 5.76s\tremaining: 26.8s\n",
            "177:\tlearn: 0.4749893\ttotal: 5.79s\tremaining: 26.7s\n",
            "178:\tlearn: 0.4749172\ttotal: 5.83s\tremaining: 26.7s\n",
            "179:\tlearn: 0.4748542\ttotal: 5.86s\tremaining: 26.7s\n",
            "180:\tlearn: 0.4747673\ttotal: 5.88s\tremaining: 26.6s\n",
            "181:\tlearn: 0.4747133\ttotal: 5.92s\tremaining: 26.6s\n",
            "182:\tlearn: 0.4746106\ttotal: 5.95s\tremaining: 26.6s\n",
            "183:\tlearn: 0.4745602\ttotal: 5.98s\tremaining: 26.5s\n",
            "184:\tlearn: 0.4744415\ttotal: 6.01s\tremaining: 26.5s\n",
            "185:\tlearn: 0.4743789\ttotal: 6.05s\tremaining: 26.5s\n",
            "186:\tlearn: 0.4743443\ttotal: 6.08s\tremaining: 26.5s\n",
            "187:\tlearn: 0.4742530\ttotal: 6.11s\tremaining: 26.4s\n",
            "188:\tlearn: 0.4741801\ttotal: 6.14s\tremaining: 26.4s\n",
            "189:\tlearn: 0.4741126\ttotal: 6.17s\tremaining: 26.3s\n",
            "190:\tlearn: 0.4740411\ttotal: 6.21s\tremaining: 26.3s\n",
            "191:\tlearn: 0.4739454\ttotal: 6.24s\tremaining: 26.3s\n",
            "192:\tlearn: 0.4738431\ttotal: 6.28s\tremaining: 26.3s\n",
            "193:\tlearn: 0.4737826\ttotal: 6.31s\tremaining: 26.2s\n",
            "194:\tlearn: 0.4737046\ttotal: 6.34s\tremaining: 26.2s\n",
            "195:\tlearn: 0.4736301\ttotal: 6.37s\tremaining: 26.1s\n",
            "196:\tlearn: 0.4735160\ttotal: 6.4s\tremaining: 26.1s\n",
            "197:\tlearn: 0.4734656\ttotal: 6.43s\tremaining: 26s\n",
            "198:\tlearn: 0.4733800\ttotal: 6.46s\tremaining: 26s\n",
            "199:\tlearn: 0.4732982\ttotal: 6.5s\tremaining: 26s\n",
            "200:\tlearn: 0.4732283\ttotal: 6.53s\tremaining: 26s\n",
            "201:\tlearn: 0.4731493\ttotal: 6.57s\tremaining: 25.9s\n",
            "202:\tlearn: 0.4730618\ttotal: 6.59s\tremaining: 25.9s\n",
            "203:\tlearn: 0.4729876\ttotal: 6.63s\tremaining: 25.9s\n",
            "204:\tlearn: 0.4729414\ttotal: 6.65s\tremaining: 25.8s\n",
            "205:\tlearn: 0.4728734\ttotal: 6.68s\tremaining: 25.7s\n",
            "206:\tlearn: 0.4727857\ttotal: 6.71s\tremaining: 25.7s\n",
            "207:\tlearn: 0.4726873\ttotal: 6.75s\tremaining: 25.7s\n",
            "208:\tlearn: 0.4726261\ttotal: 6.77s\tremaining: 25.6s\n",
            "209:\tlearn: 0.4725187\ttotal: 6.8s\tremaining: 25.6s\n",
            "210:\tlearn: 0.4724411\ttotal: 6.84s\tremaining: 25.6s\n",
            "211:\tlearn: 0.4723821\ttotal: 6.87s\tremaining: 25.5s\n",
            "212:\tlearn: 0.4723062\ttotal: 6.9s\tremaining: 25.5s\n",
            "213:\tlearn: 0.4722283\ttotal: 6.94s\tremaining: 25.5s\n",
            "214:\tlearn: 0.4721502\ttotal: 6.97s\tremaining: 25.5s\n",
            "215:\tlearn: 0.4720414\ttotal: 7s\tremaining: 25.4s\n",
            "216:\tlearn: 0.4720009\ttotal: 7.03s\tremaining: 25.4s\n",
            "217:\tlearn: 0.4719285\ttotal: 7.06s\tremaining: 25.3s\n",
            "218:\tlearn: 0.4718626\ttotal: 7.09s\tremaining: 25.3s\n",
            "219:\tlearn: 0.4718035\ttotal: 7.13s\tremaining: 25.3s\n",
            "220:\tlearn: 0.4717419\ttotal: 7.16s\tremaining: 25.2s\n",
            "221:\tlearn: 0.4717048\ttotal: 7.19s\tremaining: 25.2s\n",
            "222:\tlearn: 0.4716540\ttotal: 7.23s\tremaining: 25.2s\n",
            "223:\tlearn: 0.4715964\ttotal: 7.26s\tremaining: 25.2s\n",
            "224:\tlearn: 0.4715257\ttotal: 7.3s\tremaining: 25.2s\n",
            "225:\tlearn: 0.4714777\ttotal: 7.34s\tremaining: 25.1s\n",
            "226:\tlearn: 0.4714151\ttotal: 7.37s\tremaining: 25.1s\n",
            "227:\tlearn: 0.4713784\ttotal: 7.41s\tremaining: 25.1s\n",
            "228:\tlearn: 0.4713276\ttotal: 7.45s\tremaining: 25.1s\n",
            "229:\tlearn: 0.4712884\ttotal: 7.49s\tremaining: 25.1s\n",
            "230:\tlearn: 0.4712428\ttotal: 7.51s\tremaining: 25s\n",
            "231:\tlearn: 0.4711435\ttotal: 7.55s\tremaining: 25s\n",
            "232:\tlearn: 0.4710868\ttotal: 7.58s\tremaining: 24.9s\n",
            "233:\tlearn: 0.4709891\ttotal: 7.61s\tremaining: 24.9s\n",
            "234:\tlearn: 0.4709523\ttotal: 7.64s\tremaining: 24.9s\n",
            "235:\tlearn: 0.4708966\ttotal: 7.67s\tremaining: 24.8s\n",
            "236:\tlearn: 0.4708061\ttotal: 7.7s\tremaining: 24.8s\n",
            "237:\tlearn: 0.4707583\ttotal: 7.73s\tremaining: 24.7s\n",
            "238:\tlearn: 0.4706785\ttotal: 7.76s\tremaining: 24.7s\n",
            "239:\tlearn: 0.4706141\ttotal: 7.79s\tremaining: 24.7s\n",
            "240:\tlearn: 0.4705248\ttotal: 7.83s\tremaining: 24.6s\n",
            "241:\tlearn: 0.4704866\ttotal: 7.86s\tremaining: 24.6s\n",
            "242:\tlearn: 0.4704157\ttotal: 7.89s\tremaining: 24.6s\n",
            "243:\tlearn: 0.4703459\ttotal: 7.92s\tremaining: 24.5s\n",
            "244:\tlearn: 0.4702534\ttotal: 7.95s\tremaining: 24.5s\n",
            "245:\tlearn: 0.4701942\ttotal: 7.99s\tremaining: 24.5s\n",
            "246:\tlearn: 0.4701127\ttotal: 8.02s\tremaining: 24.5s\n",
            "247:\tlearn: 0.4700800\ttotal: 8.05s\tremaining: 24.4s\n",
            "248:\tlearn: 0.4700289\ttotal: 8.08s\tremaining: 24.4s\n",
            "249:\tlearn: 0.4700026\ttotal: 8.11s\tremaining: 24.3s\n",
            "250:\tlearn: 0.4699548\ttotal: 8.14s\tremaining: 24.3s\n",
            "251:\tlearn: 0.4698650\ttotal: 8.17s\tremaining: 24.3s\n",
            "252:\tlearn: 0.4698138\ttotal: 8.21s\tremaining: 24.2s\n",
            "253:\tlearn: 0.4697636\ttotal: 8.25s\tremaining: 24.2s\n",
            "254:\tlearn: 0.4696973\ttotal: 8.29s\tremaining: 24.2s\n",
            "255:\tlearn: 0.4696226\ttotal: 8.32s\tremaining: 24.2s\n",
            "256:\tlearn: 0.4695481\ttotal: 8.35s\tremaining: 24.1s\n",
            "257:\tlearn: 0.4695241\ttotal: 8.38s\tremaining: 24.1s\n",
            "258:\tlearn: 0.4694602\ttotal: 8.41s\tremaining: 24.1s\n",
            "259:\tlearn: 0.4694384\ttotal: 8.45s\tremaining: 24s\n",
            "260:\tlearn: 0.4693990\ttotal: 8.48s\tremaining: 24s\n",
            "261:\tlearn: 0.4693319\ttotal: 8.52s\tremaining: 24s\n",
            "262:\tlearn: 0.4692453\ttotal: 8.55s\tremaining: 24s\n",
            "263:\tlearn: 0.4691738\ttotal: 8.58s\tremaining: 23.9s\n",
            "264:\tlearn: 0.4691345\ttotal: 8.61s\tremaining: 23.9s\n",
            "265:\tlearn: 0.4690814\ttotal: 8.65s\tremaining: 23.9s\n",
            "266:\tlearn: 0.4690522\ttotal: 8.68s\tremaining: 23.8s\n",
            "267:\tlearn: 0.4689459\ttotal: 8.71s\tremaining: 23.8s\n",
            "268:\tlearn: 0.4688910\ttotal: 8.74s\tremaining: 23.8s\n",
            "269:\tlearn: 0.4688047\ttotal: 8.78s\tremaining: 23.7s\n",
            "270:\tlearn: 0.4687567\ttotal: 8.81s\tremaining: 23.7s\n",
            "271:\tlearn: 0.4687146\ttotal: 8.84s\tremaining: 23.7s\n",
            "272:\tlearn: 0.4686733\ttotal: 8.87s\tremaining: 23.6s\n",
            "273:\tlearn: 0.4685973\ttotal: 8.9s\tremaining: 23.6s\n",
            "274:\tlearn: 0.4685587\ttotal: 8.94s\tremaining: 23.6s\n",
            "275:\tlearn: 0.4685001\ttotal: 8.97s\tremaining: 23.5s\n",
            "276:\tlearn: 0.4684603\ttotal: 9s\tremaining: 23.5s\n",
            "277:\tlearn: 0.4683942\ttotal: 9.03s\tremaining: 23.5s\n",
            "278:\tlearn: 0.4683093\ttotal: 9.06s\tremaining: 23.4s\n",
            "279:\tlearn: 0.4682452\ttotal: 9.09s\tremaining: 23.4s\n",
            "280:\tlearn: 0.4681906\ttotal: 9.12s\tremaining: 23.3s\n",
            "281:\tlearn: 0.4681593\ttotal: 9.15s\tremaining: 23.3s\n",
            "282:\tlearn: 0.4681326\ttotal: 9.18s\tremaining: 23.3s\n",
            "283:\tlearn: 0.4680930\ttotal: 9.21s\tremaining: 23.2s\n",
            "284:\tlearn: 0.4680556\ttotal: 9.24s\tremaining: 23.2s\n",
            "285:\tlearn: 0.4680285\ttotal: 9.27s\tremaining: 23.1s\n",
            "286:\tlearn: 0.4679343\ttotal: 9.3s\tremaining: 23.1s\n",
            "287:\tlearn: 0.4678614\ttotal: 9.34s\tremaining: 23.1s\n",
            "288:\tlearn: 0.4677998\ttotal: 9.37s\tremaining: 23.1s\n",
            "289:\tlearn: 0.4677571\ttotal: 9.4s\tremaining: 23s\n",
            "290:\tlearn: 0.4676745\ttotal: 9.43s\tremaining: 23s\n",
            "291:\tlearn: 0.4676287\ttotal: 9.48s\tremaining: 23s\n",
            "292:\tlearn: 0.4675713\ttotal: 9.51s\tremaining: 22.9s\n",
            "293:\tlearn: 0.4675240\ttotal: 9.54s\tremaining: 22.9s\n",
            "294:\tlearn: 0.4674634\ttotal: 9.57s\tremaining: 22.9s\n",
            "295:\tlearn: 0.4673679\ttotal: 9.61s\tremaining: 22.9s\n",
            "296:\tlearn: 0.4673486\ttotal: 9.64s\tremaining: 22.8s\n",
            "297:\tlearn: 0.4672920\ttotal: 9.67s\tremaining: 22.8s\n",
            "298:\tlearn: 0.4672341\ttotal: 9.7s\tremaining: 22.7s\n",
            "299:\tlearn: 0.4671875\ttotal: 9.73s\tremaining: 22.7s\n",
            "300:\tlearn: 0.4671109\ttotal: 9.76s\tremaining: 22.7s\n",
            "301:\tlearn: 0.4670492\ttotal: 9.79s\tremaining: 22.6s\n",
            "302:\tlearn: 0.4670246\ttotal: 9.83s\tremaining: 22.6s\n",
            "303:\tlearn: 0.4669924\ttotal: 9.86s\tremaining: 22.6s\n",
            "304:\tlearn: 0.4669414\ttotal: 9.89s\tremaining: 22.5s\n",
            "305:\tlearn: 0.4668955\ttotal: 9.92s\tremaining: 22.5s\n",
            "306:\tlearn: 0.4668613\ttotal: 9.95s\tremaining: 22.5s\n",
            "307:\tlearn: 0.4668317\ttotal: 9.98s\tremaining: 22.4s\n",
            "308:\tlearn: 0.4667839\ttotal: 10s\tremaining: 22.4s\n",
            "309:\tlearn: 0.4667270\ttotal: 10.1s\tremaining: 22.4s\n",
            "310:\tlearn: 0.4666663\ttotal: 10.1s\tremaining: 22.3s\n",
            "311:\tlearn: 0.4666082\ttotal: 10.1s\tremaining: 22.3s\n",
            "312:\tlearn: 0.4665606\ttotal: 10.1s\tremaining: 22.3s\n",
            "313:\tlearn: 0.4665197\ttotal: 10.2s\tremaining: 22.2s\n",
            "314:\tlearn: 0.4664598\ttotal: 10.2s\tremaining: 22.2s\n",
            "315:\tlearn: 0.4664150\ttotal: 10.2s\tremaining: 22.2s\n",
            "316:\tlearn: 0.4663854\ttotal: 10.3s\tremaining: 22.1s\n",
            "317:\tlearn: 0.4663432\ttotal: 10.3s\tremaining: 22.1s\n",
            "318:\tlearn: 0.4663011\ttotal: 10.3s\tremaining: 22.1s\n",
            "319:\tlearn: 0.4662539\ttotal: 10.4s\tremaining: 22s\n",
            "320:\tlearn: 0.4661973\ttotal: 10.4s\tremaining: 22s\n",
            "321:\tlearn: 0.4661633\ttotal: 10.4s\tremaining: 22s\n",
            "322:\tlearn: 0.4660899\ttotal: 10.5s\tremaining: 22s\n",
            "323:\tlearn: 0.4660565\ttotal: 10.5s\tremaining: 21.9s\n",
            "324:\tlearn: 0.4660236\ttotal: 10.5s\tremaining: 21.9s\n",
            "325:\tlearn: 0.4659727\ttotal: 10.6s\tremaining: 21.8s\n",
            "326:\tlearn: 0.4659116\ttotal: 10.6s\tremaining: 21.8s\n",
            "327:\tlearn: 0.4658362\ttotal: 10.6s\tremaining: 21.8s\n",
            "328:\tlearn: 0.4657911\ttotal: 10.7s\tremaining: 21.7s\n",
            "329:\tlearn: 0.4657426\ttotal: 10.7s\tremaining: 21.7s\n",
            "330:\tlearn: 0.4657136\ttotal: 10.7s\tremaining: 21.7s\n",
            "331:\tlearn: 0.4656688\ttotal: 10.8s\tremaining: 21.6s\n",
            "332:\tlearn: 0.4656097\ttotal: 10.8s\tremaining: 21.6s\n",
            "333:\tlearn: 0.4655927\ttotal: 10.8s\tremaining: 21.6s\n",
            "334:\tlearn: 0.4655503\ttotal: 10.8s\tremaining: 21.5s\n",
            "335:\tlearn: 0.4655121\ttotal: 10.9s\tremaining: 21.5s\n",
            "336:\tlearn: 0.4654641\ttotal: 10.9s\tremaining: 21.5s\n",
            "337:\tlearn: 0.4654339\ttotal: 10.9s\tremaining: 21.4s\n",
            "338:\tlearn: 0.4653986\ttotal: 11s\tremaining: 21.4s\n",
            "339:\tlearn: 0.4653659\ttotal: 11s\tremaining: 21.4s\n",
            "340:\tlearn: 0.4653210\ttotal: 11s\tremaining: 21.4s\n",
            "341:\tlearn: 0.4653124\ttotal: 11.1s\tremaining: 21.3s\n",
            "342:\tlearn: 0.4652829\ttotal: 11.1s\tremaining: 21.3s\n",
            "343:\tlearn: 0.4652038\ttotal: 11.1s\tremaining: 21.2s\n",
            "344:\tlearn: 0.4651504\ttotal: 11.2s\tremaining: 21.2s\n",
            "345:\tlearn: 0.4651217\ttotal: 11.2s\tremaining: 21.2s\n",
            "346:\tlearn: 0.4651000\ttotal: 11.2s\tremaining: 21.1s\n",
            "347:\tlearn: 0.4650647\ttotal: 11.3s\tremaining: 21.1s\n",
            "348:\tlearn: 0.4650263\ttotal: 11.3s\tremaining: 21.1s\n",
            "349:\tlearn: 0.4649883\ttotal: 11.3s\tremaining: 21s\n",
            "350:\tlearn: 0.4649388\ttotal: 11.4s\tremaining: 21s\n",
            "351:\tlearn: 0.4648956\ttotal: 11.4s\tremaining: 21s\n",
            "352:\tlearn: 0.4648363\ttotal: 11.4s\tremaining: 21s\n",
            "353:\tlearn: 0.4647850\ttotal: 11.5s\tremaining: 21s\n",
            "354:\tlearn: 0.4647196\ttotal: 11.5s\tremaining: 20.9s\n",
            "355:\tlearn: 0.4646761\ttotal: 11.5s\tremaining: 20.9s\n",
            "356:\tlearn: 0.4646224\ttotal: 11.6s\tremaining: 20.9s\n",
            "357:\tlearn: 0.4645749\ttotal: 11.6s\tremaining: 20.8s\n",
            "358:\tlearn: 0.4645259\ttotal: 11.7s\tremaining: 20.8s\n",
            "359:\tlearn: 0.4644957\ttotal: 11.7s\tremaining: 20.8s\n",
            "360:\tlearn: 0.4644589\ttotal: 11.7s\tremaining: 20.7s\n",
            "361:\tlearn: 0.4644379\ttotal: 11.7s\tremaining: 20.7s\n",
            "362:\tlearn: 0.4643817\ttotal: 11.8s\tremaining: 20.7s\n",
            "363:\tlearn: 0.4643669\ttotal: 11.8s\tremaining: 20.6s\n",
            "364:\tlearn: 0.4643236\ttotal: 11.9s\tremaining: 20.6s\n",
            "365:\tlearn: 0.4642717\ttotal: 11.9s\tremaining: 20.6s\n",
            "366:\tlearn: 0.4642539\ttotal: 11.9s\tremaining: 20.5s\n",
            "367:\tlearn: 0.4642101\ttotal: 11.9s\tremaining: 20.5s\n",
            "368:\tlearn: 0.4641715\ttotal: 12s\tremaining: 20.5s\n",
            "369:\tlearn: 0.4641346\ttotal: 12s\tremaining: 20.4s\n",
            "370:\tlearn: 0.4640979\ttotal: 12s\tremaining: 20.4s\n",
            "371:\tlearn: 0.4640322\ttotal: 12.1s\tremaining: 20.4s\n",
            "372:\tlearn: 0.4640019\ttotal: 12.1s\tremaining: 20.3s\n",
            "373:\tlearn: 0.4639486\ttotal: 12.1s\tremaining: 20.3s\n",
            "374:\tlearn: 0.4638914\ttotal: 12.2s\tremaining: 20.3s\n",
            "375:\tlearn: 0.4638303\ttotal: 12.2s\tremaining: 20.2s\n",
            "376:\tlearn: 0.4638001\ttotal: 12.2s\tremaining: 20.2s\n",
            "377:\tlearn: 0.4637531\ttotal: 12.3s\tremaining: 20.2s\n",
            "378:\tlearn: 0.4637195\ttotal: 12.3s\tremaining: 20.1s\n",
            "379:\tlearn: 0.4636776\ttotal: 12.3s\tremaining: 20.1s\n",
            "380:\tlearn: 0.4636424\ttotal: 12.3s\tremaining: 20.1s\n",
            "381:\tlearn: 0.4635502\ttotal: 12.4s\tremaining: 20s\n",
            "382:\tlearn: 0.4635310\ttotal: 12.4s\tremaining: 20s\n",
            "383:\tlearn: 0.4634678\ttotal: 12.4s\tremaining: 19.9s\n",
            "384:\tlearn: 0.4634175\ttotal: 12.5s\tremaining: 19.9s\n",
            "385:\tlearn: 0.4633907\ttotal: 12.5s\tremaining: 19.9s\n",
            "386:\tlearn: 0.4633627\ttotal: 12.5s\tremaining: 19.9s\n",
            "387:\tlearn: 0.4633356\ttotal: 12.6s\tremaining: 19.8s\n",
            "388:\tlearn: 0.4632779\ttotal: 12.6s\tremaining: 19.8s\n",
            "389:\tlearn: 0.4632465\ttotal: 12.6s\tremaining: 19.8s\n",
            "390:\tlearn: 0.4632106\ttotal: 12.7s\tremaining: 19.7s\n",
            "391:\tlearn: 0.4631751\ttotal: 12.7s\tremaining: 19.7s\n",
            "392:\tlearn: 0.4631274\ttotal: 12.7s\tremaining: 19.7s\n",
            "393:\tlearn: 0.4630793\ttotal: 12.8s\tremaining: 19.6s\n",
            "394:\tlearn: 0.4630223\ttotal: 12.8s\tremaining: 19.6s\n",
            "395:\tlearn: 0.4629820\ttotal: 12.8s\tremaining: 19.6s\n",
            "396:\tlearn: 0.4629284\ttotal: 12.9s\tremaining: 19.6s\n",
            "397:\tlearn: 0.4628516\ttotal: 12.9s\tremaining: 19.5s\n",
            "398:\tlearn: 0.4628140\ttotal: 12.9s\tremaining: 19.5s\n",
            "399:\tlearn: 0.4627716\ttotal: 13s\tremaining: 19.5s\n",
            "400:\tlearn: 0.4627467\ttotal: 13s\tremaining: 19.4s\n",
            "401:\tlearn: 0.4627180\ttotal: 13s\tremaining: 19.4s\n",
            "402:\tlearn: 0.4626918\ttotal: 13.1s\tremaining: 19.4s\n",
            "403:\tlearn: 0.4626457\ttotal: 13.1s\tremaining: 19.3s\n",
            "404:\tlearn: 0.4626027\ttotal: 13.1s\tremaining: 19.3s\n",
            "405:\tlearn: 0.4625909\ttotal: 13.2s\tremaining: 19.3s\n",
            "406:\tlearn: 0.4625790\ttotal: 13.2s\tremaining: 19.2s\n",
            "407:\tlearn: 0.4625376\ttotal: 13.2s\tremaining: 19.2s\n",
            "408:\tlearn: 0.4624870\ttotal: 13.3s\tremaining: 19.2s\n",
            "409:\tlearn: 0.4624504\ttotal: 13.3s\tremaining: 19.1s\n",
            "410:\tlearn: 0.4624011\ttotal: 13.3s\tremaining: 19.1s\n",
            "411:\tlearn: 0.4623592\ttotal: 13.4s\tremaining: 19.1s\n",
            "412:\tlearn: 0.4623095\ttotal: 13.4s\tremaining: 19s\n",
            "413:\tlearn: 0.4622551\ttotal: 13.4s\tremaining: 19s\n",
            "414:\tlearn: 0.4622319\ttotal: 13.5s\tremaining: 19s\n",
            "415:\tlearn: 0.4622053\ttotal: 13.5s\tremaining: 19s\n",
            "416:\tlearn: 0.4621576\ttotal: 13.5s\tremaining: 18.9s\n",
            "417:\tlearn: 0.4621110\ttotal: 13.6s\tremaining: 18.9s\n",
            "418:\tlearn: 0.4620702\ttotal: 13.6s\tremaining: 18.9s\n",
            "419:\tlearn: 0.4619970\ttotal: 13.6s\tremaining: 18.8s\n",
            "420:\tlearn: 0.4619621\ttotal: 13.7s\tremaining: 18.8s\n",
            "421:\tlearn: 0.4618937\ttotal: 13.7s\tremaining: 18.8s\n",
            "422:\tlearn: 0.4618723\ttotal: 13.7s\tremaining: 18.7s\n",
            "423:\tlearn: 0.4618455\ttotal: 13.8s\tremaining: 18.7s\n",
            "424:\tlearn: 0.4618194\ttotal: 13.8s\tremaining: 18.7s\n",
            "425:\tlearn: 0.4617817\ttotal: 13.8s\tremaining: 18.6s\n",
            "426:\tlearn: 0.4617469\ttotal: 13.9s\tremaining: 18.6s\n",
            "427:\tlearn: 0.4617090\ttotal: 13.9s\tremaining: 18.6s\n",
            "428:\tlearn: 0.4616441\ttotal: 13.9s\tremaining: 18.5s\n",
            "429:\tlearn: 0.4616033\ttotal: 14s\tremaining: 18.5s\n",
            "430:\tlearn: 0.4615826\ttotal: 14s\tremaining: 18.5s\n",
            "431:\tlearn: 0.4615421\ttotal: 14s\tremaining: 18.4s\n",
            "432:\tlearn: 0.4614752\ttotal: 14.1s\tremaining: 18.4s\n",
            "433:\tlearn: 0.4614445\ttotal: 14.1s\tremaining: 18.4s\n",
            "434:\tlearn: 0.4614201\ttotal: 14.1s\tremaining: 18.3s\n",
            "435:\tlearn: 0.4613867\ttotal: 14.2s\tremaining: 18.3s\n",
            "436:\tlearn: 0.4613642\ttotal: 14.2s\tremaining: 18.3s\n",
            "437:\tlearn: 0.4613229\ttotal: 14.2s\tremaining: 18.2s\n",
            "438:\tlearn: 0.4612945\ttotal: 14.3s\tremaining: 18.2s\n",
            "439:\tlearn: 0.4612285\ttotal: 14.3s\tremaining: 18.2s\n",
            "440:\tlearn: 0.4612033\ttotal: 14.3s\tremaining: 18.1s\n",
            "441:\tlearn: 0.4611506\ttotal: 14.3s\tremaining: 18.1s\n",
            "442:\tlearn: 0.4610918\ttotal: 14.4s\tremaining: 18.1s\n",
            "443:\tlearn: 0.4610580\ttotal: 14.4s\tremaining: 18s\n",
            "444:\tlearn: 0.4610293\ttotal: 14.4s\tremaining: 18s\n",
            "445:\tlearn: 0.4609808\ttotal: 14.5s\tremaining: 18s\n",
            "446:\tlearn: 0.4609622\ttotal: 14.5s\tremaining: 18s\n",
            "447:\tlearn: 0.4609245\ttotal: 14.5s\tremaining: 17.9s\n",
            "448:\tlearn: 0.4608805\ttotal: 14.6s\tremaining: 17.9s\n",
            "449:\tlearn: 0.4608143\ttotal: 14.6s\tremaining: 17.9s\n",
            "450:\tlearn: 0.4607875\ttotal: 14.6s\tremaining: 17.8s\n",
            "451:\tlearn: 0.4607481\ttotal: 14.7s\tremaining: 17.8s\n",
            "452:\tlearn: 0.4607195\ttotal: 14.7s\tremaining: 17.7s\n",
            "453:\tlearn: 0.4606938\ttotal: 14.7s\tremaining: 17.7s\n",
            "454:\tlearn: 0.4606467\ttotal: 14.8s\tremaining: 17.7s\n",
            "455:\tlearn: 0.4606118\ttotal: 14.8s\tremaining: 17.6s\n",
            "456:\tlearn: 0.4605780\ttotal: 14.8s\tremaining: 17.6s\n",
            "457:\tlearn: 0.4605368\ttotal: 14.9s\tremaining: 17.6s\n",
            "458:\tlearn: 0.4605043\ttotal: 14.9s\tremaining: 17.6s\n",
            "459:\tlearn: 0.4604854\ttotal: 14.9s\tremaining: 17.5s\n",
            "460:\tlearn: 0.4604466\ttotal: 15s\tremaining: 17.5s\n",
            "461:\tlearn: 0.4604189\ttotal: 15s\tremaining: 17.5s\n",
            "462:\tlearn: 0.4603905\ttotal: 15s\tremaining: 17.4s\n",
            "463:\tlearn: 0.4603614\ttotal: 15s\tremaining: 17.4s\n",
            "464:\tlearn: 0.4603276\ttotal: 15.1s\tremaining: 17.3s\n",
            "465:\tlearn: 0.4602880\ttotal: 15.1s\tremaining: 17.3s\n",
            "466:\tlearn: 0.4602631\ttotal: 15.1s\tremaining: 17.3s\n",
            "467:\tlearn: 0.4602254\ttotal: 15.2s\tremaining: 17.3s\n",
            "468:\tlearn: 0.4601849\ttotal: 15.2s\tremaining: 17.2s\n",
            "469:\tlearn: 0.4601372\ttotal: 15.2s\tremaining: 17.2s\n",
            "470:\tlearn: 0.4601120\ttotal: 15.3s\tremaining: 17.2s\n",
            "471:\tlearn: 0.4600434\ttotal: 15.3s\tremaining: 17.1s\n",
            "472:\tlearn: 0.4600041\ttotal: 15.3s\tremaining: 17.1s\n",
            "473:\tlearn: 0.4599848\ttotal: 15.4s\tremaining: 17s\n",
            "474:\tlearn: 0.4599370\ttotal: 15.4s\tremaining: 17s\n",
            "475:\tlearn: 0.4599236\ttotal: 15.4s\tremaining: 17s\n",
            "476:\tlearn: 0.4598922\ttotal: 15.5s\tremaining: 17s\n",
            "477:\tlearn: 0.4598727\ttotal: 15.5s\tremaining: 16.9s\n",
            "478:\tlearn: 0.4598472\ttotal: 15.5s\tremaining: 16.9s\n",
            "479:\tlearn: 0.4598359\ttotal: 15.6s\tremaining: 16.9s\n",
            "480:\tlearn: 0.4597958\ttotal: 15.6s\tremaining: 16.8s\n",
            "481:\tlearn: 0.4597404\ttotal: 15.6s\tremaining: 16.8s\n",
            "482:\tlearn: 0.4596994\ttotal: 15.7s\tremaining: 16.8s\n",
            "483:\tlearn: 0.4596753\ttotal: 15.7s\tremaining: 16.7s\n",
            "484:\tlearn: 0.4596408\ttotal: 15.7s\tremaining: 16.7s\n",
            "485:\tlearn: 0.4596045\ttotal: 15.8s\tremaining: 16.7s\n",
            "486:\tlearn: 0.4595725\ttotal: 15.8s\tremaining: 16.7s\n",
            "487:\tlearn: 0.4595486\ttotal: 15.8s\tremaining: 16.6s\n",
            "488:\tlearn: 0.4595295\ttotal: 15.9s\tremaining: 16.6s\n",
            "489:\tlearn: 0.4594923\ttotal: 15.9s\tremaining: 16.6s\n",
            "490:\tlearn: 0.4594664\ttotal: 15.9s\tremaining: 16.5s\n",
            "491:\tlearn: 0.4594501\ttotal: 16s\tremaining: 16.5s\n",
            "492:\tlearn: 0.4593997\ttotal: 16s\tremaining: 16.5s\n",
            "493:\tlearn: 0.4593637\ttotal: 16s\tremaining: 16.4s\n",
            "494:\tlearn: 0.4593476\ttotal: 16.1s\tremaining: 16.4s\n",
            "495:\tlearn: 0.4593311\ttotal: 16.1s\tremaining: 16.4s\n",
            "496:\tlearn: 0.4593028\ttotal: 16.1s\tremaining: 16.3s\n",
            "497:\tlearn: 0.4592638\ttotal: 16.2s\tremaining: 16.3s\n",
            "498:\tlearn: 0.4592410\ttotal: 16.2s\tremaining: 16.3s\n",
            "499:\tlearn: 0.4592104\ttotal: 16.2s\tremaining: 16.2s\n",
            "500:\tlearn: 0.4591625\ttotal: 16.3s\tremaining: 16.2s\n",
            "501:\tlearn: 0.4591259\ttotal: 16.3s\tremaining: 16.2s\n",
            "502:\tlearn: 0.4590710\ttotal: 16.3s\tremaining: 16.1s\n",
            "503:\tlearn: 0.4590509\ttotal: 16.4s\tremaining: 16.1s\n",
            "504:\tlearn: 0.4590200\ttotal: 16.4s\tremaining: 16.1s\n",
            "505:\tlearn: 0.4589833\ttotal: 16.4s\tremaining: 16s\n",
            "506:\tlearn: 0.4589375\ttotal: 16.4s\tremaining: 16s\n",
            "507:\tlearn: 0.4589070\ttotal: 16.5s\tremaining: 16s\n",
            "508:\tlearn: 0.4588576\ttotal: 16.5s\tremaining: 15.9s\n",
            "509:\tlearn: 0.4588348\ttotal: 16.6s\tremaining: 15.9s\n",
            "510:\tlearn: 0.4587961\ttotal: 16.6s\tremaining: 15.9s\n",
            "511:\tlearn: 0.4587535\ttotal: 16.6s\tremaining: 15.8s\n",
            "512:\tlearn: 0.4587381\ttotal: 16.6s\tremaining: 15.8s\n",
            "513:\tlearn: 0.4587207\ttotal: 16.7s\tremaining: 15.8s\n",
            "514:\tlearn: 0.4586689\ttotal: 16.7s\tremaining: 15.7s\n",
            "515:\tlearn: 0.4586059\ttotal: 16.7s\tremaining: 15.7s\n",
            "516:\tlearn: 0.4585689\ttotal: 16.8s\tremaining: 15.7s\n",
            "517:\tlearn: 0.4585186\ttotal: 16.8s\tremaining: 15.6s\n",
            "518:\tlearn: 0.4584897\ttotal: 16.8s\tremaining: 15.6s\n",
            "519:\tlearn: 0.4584242\ttotal: 16.9s\tremaining: 15.6s\n",
            "520:\tlearn: 0.4584008\ttotal: 16.9s\tremaining: 15.5s\n",
            "521:\tlearn: 0.4583757\ttotal: 16.9s\tremaining: 15.5s\n",
            "522:\tlearn: 0.4583578\ttotal: 17s\tremaining: 15.5s\n",
            "523:\tlearn: 0.4583217\ttotal: 17s\tremaining: 15.4s\n",
            "524:\tlearn: 0.4583082\ttotal: 17s\tremaining: 15.4s\n",
            "525:\tlearn: 0.4582719\ttotal: 17.1s\tremaining: 15.4s\n",
            "526:\tlearn: 0.4582296\ttotal: 17.1s\tremaining: 15.3s\n",
            "527:\tlearn: 0.4581961\ttotal: 17.1s\tremaining: 15.3s\n",
            "528:\tlearn: 0.4581674\ttotal: 17.2s\tremaining: 15.3s\n",
            "529:\tlearn: 0.4581523\ttotal: 17.2s\tremaining: 15.2s\n",
            "530:\tlearn: 0.4581213\ttotal: 17.2s\tremaining: 15.2s\n",
            "531:\tlearn: 0.4580806\ttotal: 17.2s\tremaining: 15.2s\n",
            "532:\tlearn: 0.4580477\ttotal: 17.3s\tremaining: 15.1s\n",
            "533:\tlearn: 0.4580026\ttotal: 17.3s\tremaining: 15.1s\n",
            "534:\tlearn: 0.4579768\ttotal: 17.3s\tremaining: 15.1s\n",
            "535:\tlearn: 0.4579385\ttotal: 17.4s\tremaining: 15s\n",
            "536:\tlearn: 0.4579152\ttotal: 17.4s\tremaining: 15s\n",
            "537:\tlearn: 0.4579066\ttotal: 17.4s\tremaining: 15s\n",
            "538:\tlearn: 0.4578430\ttotal: 17.5s\tremaining: 14.9s\n",
            "539:\tlearn: 0.4578013\ttotal: 17.5s\tremaining: 14.9s\n",
            "540:\tlearn: 0.4577845\ttotal: 17.5s\tremaining: 14.9s\n",
            "541:\tlearn: 0.4577615\ttotal: 17.6s\tremaining: 14.9s\n",
            "542:\tlearn: 0.4577404\ttotal: 17.6s\tremaining: 14.8s\n",
            "543:\tlearn: 0.4577055\ttotal: 17.6s\tremaining: 14.8s\n",
            "544:\tlearn: 0.4576841\ttotal: 17.7s\tremaining: 14.8s\n",
            "545:\tlearn: 0.4576494\ttotal: 17.7s\tremaining: 14.7s\n",
            "546:\tlearn: 0.4575998\ttotal: 17.7s\tremaining: 14.7s\n",
            "547:\tlearn: 0.4575438\ttotal: 17.8s\tremaining: 14.7s\n",
            "548:\tlearn: 0.4575003\ttotal: 17.8s\tremaining: 14.6s\n",
            "549:\tlearn: 0.4574871\ttotal: 17.8s\tremaining: 14.6s\n",
            "550:\tlearn: 0.4574675\ttotal: 17.9s\tremaining: 14.6s\n",
            "551:\tlearn: 0.4574376\ttotal: 17.9s\tremaining: 14.5s\n",
            "552:\tlearn: 0.4573987\ttotal: 17.9s\tremaining: 14.5s\n",
            "553:\tlearn: 0.4573700\ttotal: 18s\tremaining: 14.5s\n",
            "554:\tlearn: 0.4573572\ttotal: 18s\tremaining: 14.4s\n",
            "555:\tlearn: 0.4572995\ttotal: 18s\tremaining: 14.4s\n",
            "556:\tlearn: 0.4572520\ttotal: 18.1s\tremaining: 14.4s\n",
            "557:\tlearn: 0.4572502\ttotal: 18.1s\tremaining: 14.3s\n",
            "558:\tlearn: 0.4572396\ttotal: 18.1s\tremaining: 14.3s\n",
            "559:\tlearn: 0.4572195\ttotal: 18.2s\tremaining: 14.3s\n",
            "560:\tlearn: 0.4571357\ttotal: 18.2s\tremaining: 14.2s\n",
            "561:\tlearn: 0.4571247\ttotal: 18.2s\tremaining: 14.2s\n",
            "562:\tlearn: 0.4571020\ttotal: 18.3s\tremaining: 14.2s\n",
            "563:\tlearn: 0.4570813\ttotal: 18.3s\tremaining: 14.1s\n",
            "564:\tlearn: 0.4570402\ttotal: 18.3s\tremaining: 14.1s\n",
            "565:\tlearn: 0.4570215\ttotal: 18.3s\tremaining: 14.1s\n",
            "566:\tlearn: 0.4569955\ttotal: 18.4s\tremaining: 14s\n",
            "567:\tlearn: 0.4569679\ttotal: 18.4s\tremaining: 14s\n",
            "568:\tlearn: 0.4569234\ttotal: 18.4s\tremaining: 14s\n",
            "569:\tlearn: 0.4569057\ttotal: 18.5s\tremaining: 13.9s\n",
            "570:\tlearn: 0.4568772\ttotal: 18.5s\tremaining: 13.9s\n",
            "571:\tlearn: 0.4568647\ttotal: 18.5s\tremaining: 13.9s\n",
            "572:\tlearn: 0.4568522\ttotal: 18.6s\tremaining: 13.8s\n",
            "573:\tlearn: 0.4568333\ttotal: 18.6s\tremaining: 13.8s\n",
            "574:\tlearn: 0.4568161\ttotal: 18.6s\tremaining: 13.8s\n",
            "575:\tlearn: 0.4567915\ttotal: 18.7s\tremaining: 13.7s\n",
            "576:\tlearn: 0.4567634\ttotal: 18.7s\tremaining: 13.7s\n",
            "577:\tlearn: 0.4567319\ttotal: 18.7s\tremaining: 13.7s\n",
            "578:\tlearn: 0.4566960\ttotal: 18.8s\tremaining: 13.7s\n",
            "579:\tlearn: 0.4566775\ttotal: 18.8s\tremaining: 13.6s\n",
            "580:\tlearn: 0.4566571\ttotal: 18.8s\tremaining: 13.6s\n",
            "581:\tlearn: 0.4566390\ttotal: 18.9s\tremaining: 13.6s\n",
            "582:\tlearn: 0.4565874\ttotal: 18.9s\tremaining: 13.5s\n",
            "583:\tlearn: 0.4565564\ttotal: 18.9s\tremaining: 13.5s\n",
            "584:\tlearn: 0.4565256\ttotal: 19s\tremaining: 13.5s\n",
            "585:\tlearn: 0.4565090\ttotal: 19s\tremaining: 13.4s\n",
            "586:\tlearn: 0.4564913\ttotal: 19s\tremaining: 13.4s\n",
            "587:\tlearn: 0.4564836\ttotal: 19.1s\tremaining: 13.4s\n",
            "588:\tlearn: 0.4564614\ttotal: 19.1s\tremaining: 13.3s\n",
            "589:\tlearn: 0.4564062\ttotal: 19.1s\tremaining: 13.3s\n",
            "590:\tlearn: 0.4563792\ttotal: 19.2s\tremaining: 13.3s\n",
            "591:\tlearn: 0.4563454\ttotal: 19.2s\tremaining: 13.2s\n",
            "592:\tlearn: 0.4563260\ttotal: 19.2s\tremaining: 13.2s\n",
            "593:\tlearn: 0.4563071\ttotal: 19.3s\tremaining: 13.2s\n",
            "594:\tlearn: 0.4562996\ttotal: 19.3s\tremaining: 13.1s\n",
            "595:\tlearn: 0.4562721\ttotal: 19.3s\tremaining: 13.1s\n",
            "596:\tlearn: 0.4562475\ttotal: 19.4s\tremaining: 13.1s\n",
            "597:\tlearn: 0.4562115\ttotal: 19.4s\tremaining: 13s\n",
            "598:\tlearn: 0.4561648\ttotal: 19.4s\tremaining: 13s\n",
            "599:\tlearn: 0.4561078\ttotal: 19.5s\tremaining: 13s\n",
            "600:\tlearn: 0.4560881\ttotal: 19.5s\tremaining: 12.9s\n",
            "601:\tlearn: 0.4560538\ttotal: 19.5s\tremaining: 12.9s\n",
            "602:\tlearn: 0.4560452\ttotal: 19.6s\tremaining: 12.9s\n",
            "603:\tlearn: 0.4560118\ttotal: 19.6s\tremaining: 12.8s\n",
            "604:\tlearn: 0.4559768\ttotal: 19.6s\tremaining: 12.8s\n",
            "605:\tlearn: 0.4559424\ttotal: 19.7s\tremaining: 12.8s\n",
            "606:\tlearn: 0.4559110\ttotal: 19.7s\tremaining: 12.8s\n",
            "607:\tlearn: 0.4558857\ttotal: 19.7s\tremaining: 12.7s\n",
            "608:\tlearn: 0.4558587\ttotal: 19.8s\tremaining: 12.7s\n",
            "609:\tlearn: 0.4558315\ttotal: 19.8s\tremaining: 12.7s\n",
            "610:\tlearn: 0.4558078\ttotal: 19.8s\tremaining: 12.6s\n",
            "611:\tlearn: 0.4557749\ttotal: 19.9s\tremaining: 12.6s\n",
            "612:\tlearn: 0.4557552\ttotal: 19.9s\tremaining: 12.6s\n",
            "613:\tlearn: 0.4557388\ttotal: 19.9s\tremaining: 12.5s\n",
            "614:\tlearn: 0.4557058\ttotal: 20s\tremaining: 12.5s\n",
            "615:\tlearn: 0.4556662\ttotal: 20s\tremaining: 12.5s\n",
            "616:\tlearn: 0.4556552\ttotal: 20s\tremaining: 12.4s\n",
            "617:\tlearn: 0.4556375\ttotal: 20s\tremaining: 12.4s\n",
            "618:\tlearn: 0.4556195\ttotal: 20.1s\tremaining: 12.4s\n",
            "619:\tlearn: 0.4556040\ttotal: 20.1s\tremaining: 12.3s\n",
            "620:\tlearn: 0.4555731\ttotal: 20.1s\tremaining: 12.3s\n",
            "621:\tlearn: 0.4555593\ttotal: 20.2s\tremaining: 12.3s\n",
            "622:\tlearn: 0.4555310\ttotal: 20.2s\tremaining: 12.2s\n",
            "623:\tlearn: 0.4554960\ttotal: 20.2s\tremaining: 12.2s\n",
            "624:\tlearn: 0.4554663\ttotal: 20.3s\tremaining: 12.2s\n",
            "625:\tlearn: 0.4554526\ttotal: 20.3s\tremaining: 12.1s\n",
            "626:\tlearn: 0.4554357\ttotal: 20.3s\tremaining: 12.1s\n",
            "627:\tlearn: 0.4553848\ttotal: 20.4s\tremaining: 12.1s\n",
            "628:\tlearn: 0.4553759\ttotal: 20.4s\tremaining: 12s\n",
            "629:\tlearn: 0.4553564\ttotal: 20.4s\tremaining: 12s\n",
            "630:\tlearn: 0.4552997\ttotal: 20.4s\tremaining: 12s\n",
            "631:\tlearn: 0.4552840\ttotal: 20.5s\tremaining: 11.9s\n",
            "632:\tlearn: 0.4552519\ttotal: 20.5s\tremaining: 11.9s\n",
            "633:\tlearn: 0.4552277\ttotal: 20.6s\tremaining: 11.9s\n",
            "634:\tlearn: 0.4552155\ttotal: 20.6s\tremaining: 11.8s\n",
            "635:\tlearn: 0.4551730\ttotal: 20.6s\tremaining: 11.8s\n",
            "636:\tlearn: 0.4551516\ttotal: 20.6s\tremaining: 11.8s\n",
            "637:\tlearn: 0.4551413\ttotal: 20.7s\tremaining: 11.7s\n",
            "638:\tlearn: 0.4551327\ttotal: 20.7s\tremaining: 11.7s\n",
            "639:\tlearn: 0.4551150\ttotal: 20.7s\tremaining: 11.7s\n",
            "640:\tlearn: 0.4550909\ttotal: 20.8s\tremaining: 11.6s\n",
            "641:\tlearn: 0.4550623\ttotal: 20.8s\tremaining: 11.6s\n",
            "642:\tlearn: 0.4550234\ttotal: 20.8s\tremaining: 11.6s\n",
            "643:\tlearn: 0.4550034\ttotal: 20.9s\tremaining: 11.5s\n",
            "644:\tlearn: 0.4549703\ttotal: 20.9s\tremaining: 11.5s\n",
            "645:\tlearn: 0.4549485\ttotal: 20.9s\tremaining: 11.5s\n",
            "646:\tlearn: 0.4549392\ttotal: 20.9s\tremaining: 11.4s\n",
            "647:\tlearn: 0.4549135\ttotal: 21s\tremaining: 11.4s\n",
            "648:\tlearn: 0.4549014\ttotal: 21s\tremaining: 11.4s\n",
            "649:\tlearn: 0.4548798\ttotal: 21s\tremaining: 11.3s\n",
            "650:\tlearn: 0.4548572\ttotal: 21.1s\tremaining: 11.3s\n",
            "651:\tlearn: 0.4548487\ttotal: 21.1s\tremaining: 11.3s\n",
            "652:\tlearn: 0.4548218\ttotal: 21.1s\tremaining: 11.2s\n",
            "653:\tlearn: 0.4547970\ttotal: 21.2s\tremaining: 11.2s\n",
            "654:\tlearn: 0.4547437\ttotal: 21.2s\tremaining: 11.2s\n",
            "655:\tlearn: 0.4547249\ttotal: 21.2s\tremaining: 11.1s\n",
            "656:\tlearn: 0.4547133\ttotal: 21.3s\tremaining: 11.1s\n",
            "657:\tlearn: 0.4546810\ttotal: 21.3s\tremaining: 11.1s\n",
            "658:\tlearn: 0.4546740\ttotal: 21.3s\tremaining: 11s\n",
            "659:\tlearn: 0.4546517\ttotal: 21.4s\tremaining: 11s\n",
            "660:\tlearn: 0.4546225\ttotal: 21.4s\tremaining: 11s\n",
            "661:\tlearn: 0.4545821\ttotal: 21.4s\tremaining: 10.9s\n",
            "662:\tlearn: 0.4545564\ttotal: 21.5s\tremaining: 10.9s\n",
            "663:\tlearn: 0.4545328\ttotal: 21.5s\tremaining: 10.9s\n",
            "664:\tlearn: 0.4545014\ttotal: 21.5s\tremaining: 10.9s\n",
            "665:\tlearn: 0.4544821\ttotal: 21.6s\tremaining: 10.8s\n",
            "666:\tlearn: 0.4544540\ttotal: 21.6s\tremaining: 10.8s\n",
            "667:\tlearn: 0.4544216\ttotal: 21.7s\tremaining: 10.8s\n",
            "668:\tlearn: 0.4543833\ttotal: 21.7s\tremaining: 10.7s\n",
            "669:\tlearn: 0.4543672\ttotal: 21.7s\tremaining: 10.7s\n",
            "670:\tlearn: 0.4543289\ttotal: 21.8s\tremaining: 10.7s\n",
            "671:\tlearn: 0.4543140\ttotal: 21.8s\tremaining: 10.6s\n",
            "672:\tlearn: 0.4542930\ttotal: 21.8s\tremaining: 10.6s\n",
            "673:\tlearn: 0.4542716\ttotal: 21.9s\tremaining: 10.6s\n",
            "674:\tlearn: 0.4542609\ttotal: 21.9s\tremaining: 10.6s\n",
            "675:\tlearn: 0.4542146\ttotal: 21.9s\tremaining: 10.5s\n",
            "676:\tlearn: 0.4541805\ttotal: 22s\tremaining: 10.5s\n",
            "677:\tlearn: 0.4541701\ttotal: 22s\tremaining: 10.5s\n",
            "678:\tlearn: 0.4541585\ttotal: 22s\tremaining: 10.4s\n",
            "679:\tlearn: 0.4541313\ttotal: 22.1s\tremaining: 10.4s\n",
            "680:\tlearn: 0.4540955\ttotal: 22.1s\tremaining: 10.4s\n",
            "681:\tlearn: 0.4540709\ttotal: 22.1s\tremaining: 10.3s\n",
            "682:\tlearn: 0.4540263\ttotal: 22.2s\tremaining: 10.3s\n",
            "683:\tlearn: 0.4540017\ttotal: 22.2s\tremaining: 10.3s\n",
            "684:\tlearn: 0.4539862\ttotal: 22.2s\tremaining: 10.2s\n",
            "685:\tlearn: 0.4539615\ttotal: 22.3s\tremaining: 10.2s\n",
            "686:\tlearn: 0.4539322\ttotal: 22.3s\tremaining: 10.2s\n",
            "687:\tlearn: 0.4539077\ttotal: 22.3s\tremaining: 10.1s\n",
            "688:\tlearn: 0.4539003\ttotal: 22.4s\tremaining: 10.1s\n",
            "689:\tlearn: 0.4538895\ttotal: 22.4s\tremaining: 10.1s\n",
            "690:\tlearn: 0.4538643\ttotal: 22.4s\tremaining: 10s\n",
            "691:\tlearn: 0.4538355\ttotal: 22.4s\tremaining: 9.99s\n",
            "692:\tlearn: 0.4538199\ttotal: 22.5s\tremaining: 9.96s\n",
            "693:\tlearn: 0.4538086\ttotal: 22.5s\tremaining: 9.92s\n",
            "694:\tlearn: 0.4537988\ttotal: 22.6s\tremaining: 9.9s\n",
            "695:\tlearn: 0.4537519\ttotal: 22.6s\tremaining: 9.87s\n",
            "696:\tlearn: 0.4536951\ttotal: 22.6s\tremaining: 9.83s\n",
            "697:\tlearn: 0.4536821\ttotal: 22.6s\tremaining: 9.8s\n",
            "698:\tlearn: 0.4536653\ttotal: 22.7s\tremaining: 9.77s\n",
            "699:\tlearn: 0.4536374\ttotal: 22.7s\tremaining: 9.73s\n",
            "700:\tlearn: 0.4536147\ttotal: 22.7s\tremaining: 9.7s\n",
            "701:\tlearn: 0.4535681\ttotal: 22.8s\tremaining: 9.67s\n",
            "702:\tlearn: 0.4535316\ttotal: 22.8s\tremaining: 9.64s\n",
            "703:\tlearn: 0.4535019\ttotal: 22.8s\tremaining: 9.6s\n",
            "704:\tlearn: 0.4534723\ttotal: 22.9s\tremaining: 9.57s\n",
            "705:\tlearn: 0.4534533\ttotal: 22.9s\tremaining: 9.54s\n",
            "706:\tlearn: 0.4534197\ttotal: 22.9s\tremaining: 9.51s\n",
            "707:\tlearn: 0.4533883\ttotal: 23s\tremaining: 9.47s\n",
            "708:\tlearn: 0.4533766\ttotal: 23s\tremaining: 9.44s\n",
            "709:\tlearn: 0.4533519\ttotal: 23s\tremaining: 9.41s\n",
            "710:\tlearn: 0.4533336\ttotal: 23.1s\tremaining: 9.38s\n",
            "711:\tlearn: 0.4533067\ttotal: 23.1s\tremaining: 9.34s\n",
            "712:\tlearn: 0.4532889\ttotal: 23.1s\tremaining: 9.31s\n",
            "713:\tlearn: 0.4532733\ttotal: 23.2s\tremaining: 9.28s\n",
            "714:\tlearn: 0.4532622\ttotal: 23.2s\tremaining: 9.24s\n",
            "715:\tlearn: 0.4532453\ttotal: 23.2s\tremaining: 9.22s\n",
            "716:\tlearn: 0.4532297\ttotal: 23.3s\tremaining: 9.18s\n",
            "717:\tlearn: 0.4531924\ttotal: 23.3s\tremaining: 9.15s\n",
            "718:\tlearn: 0.4531713\ttotal: 23.3s\tremaining: 9.12s\n",
            "719:\tlearn: 0.4531562\ttotal: 23.4s\tremaining: 9.08s\n",
            "720:\tlearn: 0.4531425\ttotal: 23.4s\tremaining: 9.05s\n",
            "721:\tlearn: 0.4531264\ttotal: 23.4s\tremaining: 9.02s\n",
            "722:\tlearn: 0.4530867\ttotal: 23.5s\tremaining: 8.99s\n",
            "723:\tlearn: 0.4530752\ttotal: 23.5s\tremaining: 8.96s\n",
            "724:\tlearn: 0.4530519\ttotal: 23.5s\tremaining: 8.93s\n",
            "725:\tlearn: 0.4530293\ttotal: 23.6s\tremaining: 8.89s\n",
            "726:\tlearn: 0.4530161\ttotal: 23.6s\tremaining: 8.86s\n",
            "727:\tlearn: 0.4529715\ttotal: 23.6s\tremaining: 8.83s\n",
            "728:\tlearn: 0.4529580\ttotal: 23.7s\tremaining: 8.8s\n",
            "729:\tlearn: 0.4529420\ttotal: 23.7s\tremaining: 8.77s\n",
            "730:\tlearn: 0.4529156\ttotal: 23.7s\tremaining: 8.74s\n",
            "731:\tlearn: 0.4528895\ttotal: 23.8s\tremaining: 8.7s\n",
            "732:\tlearn: 0.4528698\ttotal: 23.8s\tremaining: 8.67s\n",
            "733:\tlearn: 0.4528492\ttotal: 23.8s\tremaining: 8.63s\n",
            "734:\tlearn: 0.4528348\ttotal: 23.9s\tremaining: 8.6s\n",
            "735:\tlearn: 0.4528224\ttotal: 23.9s\tremaining: 8.57s\n",
            "736:\tlearn: 0.4528036\ttotal: 23.9s\tremaining: 8.54s\n",
            "737:\tlearn: 0.4527728\ttotal: 23.9s\tremaining: 8.5s\n",
            "738:\tlearn: 0.4527579\ttotal: 24s\tremaining: 8.47s\n",
            "739:\tlearn: 0.4527455\ttotal: 24s\tremaining: 8.44s\n",
            "740:\tlearn: 0.4527182\ttotal: 24s\tremaining: 8.4s\n",
            "741:\tlearn: 0.4527009\ttotal: 24.1s\tremaining: 8.37s\n",
            "742:\tlearn: 0.4526873\ttotal: 24.1s\tremaining: 8.34s\n",
            "743:\tlearn: 0.4526778\ttotal: 24.1s\tremaining: 8.31s\n",
            "744:\tlearn: 0.4526531\ttotal: 24.2s\tremaining: 8.27s\n",
            "745:\tlearn: 0.4526460\ttotal: 24.2s\tremaining: 8.24s\n",
            "746:\tlearn: 0.4526131\ttotal: 24.2s\tremaining: 8.21s\n",
            "747:\tlearn: 0.4525808\ttotal: 24.3s\tremaining: 8.18s\n",
            "748:\tlearn: 0.4525612\ttotal: 24.3s\tremaining: 8.14s\n",
            "749:\tlearn: 0.4525474\ttotal: 24.3s\tremaining: 8.11s\n",
            "750:\tlearn: 0.4525347\ttotal: 24.4s\tremaining: 8.08s\n",
            "751:\tlearn: 0.4525133\ttotal: 24.4s\tremaining: 8.05s\n",
            "752:\tlearn: 0.4524907\ttotal: 24.4s\tremaining: 8.02s\n",
            "753:\tlearn: 0.4524841\ttotal: 24.5s\tremaining: 7.99s\n",
            "754:\tlearn: 0.4524528\ttotal: 24.5s\tremaining: 7.95s\n",
            "755:\tlearn: 0.4524270\ttotal: 24.6s\tremaining: 7.93s\n",
            "756:\tlearn: 0.4524003\ttotal: 24.6s\tremaining: 7.9s\n",
            "757:\tlearn: 0.4523753\ttotal: 24.6s\tremaining: 7.87s\n",
            "758:\tlearn: 0.4523389\ttotal: 24.7s\tremaining: 7.83s\n",
            "759:\tlearn: 0.4523180\ttotal: 24.7s\tremaining: 7.8s\n",
            "760:\tlearn: 0.4523034\ttotal: 24.7s\tremaining: 7.77s\n",
            "761:\tlearn: 0.4522950\ttotal: 24.8s\tremaining: 7.74s\n",
            "762:\tlearn: 0.4522556\ttotal: 24.8s\tremaining: 7.71s\n",
            "763:\tlearn: 0.4522489\ttotal: 24.9s\tremaining: 7.68s\n",
            "764:\tlearn: 0.4522337\ttotal: 24.9s\tremaining: 7.64s\n",
            "765:\tlearn: 0.4522098\ttotal: 24.9s\tremaining: 7.61s\n",
            "766:\tlearn: 0.4521896\ttotal: 24.9s\tremaining: 7.58s\n",
            "767:\tlearn: 0.4521641\ttotal: 25s\tremaining: 7.54s\n",
            "768:\tlearn: 0.4521524\ttotal: 25s\tremaining: 7.51s\n",
            "769:\tlearn: 0.4521400\ttotal: 25s\tremaining: 7.48s\n",
            "770:\tlearn: 0.4521261\ttotal: 25.1s\tremaining: 7.45s\n",
            "771:\tlearn: 0.4521217\ttotal: 25.1s\tremaining: 7.41s\n",
            "772:\tlearn: 0.4520971\ttotal: 25.1s\tremaining: 7.38s\n",
            "773:\tlearn: 0.4520626\ttotal: 25.2s\tremaining: 7.35s\n",
            "774:\tlearn: 0.4520544\ttotal: 25.2s\tremaining: 7.32s\n",
            "775:\tlearn: 0.4520265\ttotal: 25.2s\tremaining: 7.29s\n",
            "776:\tlearn: 0.4520184\ttotal: 25.3s\tremaining: 7.25s\n",
            "777:\tlearn: 0.4519928\ttotal: 25.3s\tremaining: 7.22s\n",
            "778:\tlearn: 0.4519805\ttotal: 25.3s\tremaining: 7.19s\n",
            "779:\tlearn: 0.4519561\ttotal: 25.4s\tremaining: 7.16s\n",
            "780:\tlearn: 0.4519452\ttotal: 25.4s\tremaining: 7.12s\n",
            "781:\tlearn: 0.4519287\ttotal: 25.4s\tremaining: 7.09s\n",
            "782:\tlearn: 0.4519136\ttotal: 25.5s\tremaining: 7.06s\n",
            "783:\tlearn: 0.4518778\ttotal: 25.5s\tremaining: 7.02s\n",
            "784:\tlearn: 0.4518521\ttotal: 25.5s\tremaining: 6.99s\n",
            "785:\tlearn: 0.4517987\ttotal: 25.6s\tremaining: 6.96s\n",
            "786:\tlearn: 0.4517815\ttotal: 25.6s\tremaining: 6.93s\n",
            "787:\tlearn: 0.4517668\ttotal: 25.6s\tremaining: 6.9s\n",
            "788:\tlearn: 0.4517573\ttotal: 25.7s\tremaining: 6.87s\n",
            "789:\tlearn: 0.4517338\ttotal: 25.7s\tremaining: 6.83s\n",
            "790:\tlearn: 0.4517246\ttotal: 25.7s\tremaining: 6.8s\n",
            "791:\tlearn: 0.4517022\ttotal: 25.8s\tremaining: 6.77s\n",
            "792:\tlearn: 0.4516751\ttotal: 25.8s\tremaining: 6.73s\n",
            "793:\tlearn: 0.4516667\ttotal: 25.8s\tremaining: 6.7s\n",
            "794:\tlearn: 0.4516301\ttotal: 25.9s\tremaining: 6.67s\n",
            "795:\tlearn: 0.4516210\ttotal: 25.9s\tremaining: 6.64s\n",
            "796:\tlearn: 0.4516010\ttotal: 25.9s\tremaining: 6.6s\n",
            "797:\tlearn: 0.4515764\ttotal: 26s\tremaining: 6.57s\n",
            "798:\tlearn: 0.4515637\ttotal: 26s\tremaining: 6.54s\n",
            "799:\tlearn: 0.4515437\ttotal: 26s\tremaining: 6.5s\n",
            "800:\tlearn: 0.4515087\ttotal: 26.1s\tremaining: 6.47s\n",
            "801:\tlearn: 0.4514867\ttotal: 26.1s\tremaining: 6.44s\n",
            "802:\tlearn: 0.4514600\ttotal: 26.1s\tremaining: 6.41s\n",
            "803:\tlearn: 0.4514386\ttotal: 26.2s\tremaining: 6.38s\n",
            "804:\tlearn: 0.4514274\ttotal: 26.2s\tremaining: 6.34s\n",
            "805:\tlearn: 0.4514230\ttotal: 26.2s\tremaining: 6.31s\n",
            "806:\tlearn: 0.4513898\ttotal: 26.3s\tremaining: 6.28s\n",
            "807:\tlearn: 0.4513670\ttotal: 26.3s\tremaining: 6.25s\n",
            "808:\tlearn: 0.4513486\ttotal: 26.3s\tremaining: 6.21s\n",
            "809:\tlearn: 0.4513186\ttotal: 26.3s\tremaining: 6.18s\n",
            "810:\tlearn: 0.4513120\ttotal: 26.4s\tremaining: 6.15s\n",
            "811:\tlearn: 0.4512937\ttotal: 26.4s\tremaining: 6.11s\n",
            "812:\tlearn: 0.4512595\ttotal: 26.4s\tremaining: 6.08s\n",
            "813:\tlearn: 0.4512463\ttotal: 26.5s\tremaining: 6.05s\n",
            "814:\tlearn: 0.4512099\ttotal: 26.5s\tremaining: 6.02s\n",
            "815:\tlearn: 0.4511784\ttotal: 26.6s\tremaining: 5.99s\n",
            "816:\tlearn: 0.4511592\ttotal: 26.6s\tremaining: 5.95s\n",
            "817:\tlearn: 0.4511399\ttotal: 26.6s\tremaining: 5.92s\n",
            "818:\tlearn: 0.4511221\ttotal: 26.7s\tremaining: 5.89s\n",
            "819:\tlearn: 0.4511142\ttotal: 26.7s\tremaining: 5.86s\n",
            "820:\tlearn: 0.4511140\ttotal: 26.7s\tremaining: 5.82s\n",
            "821:\tlearn: 0.4510847\ttotal: 26.7s\tremaining: 5.79s\n",
            "822:\tlearn: 0.4510567\ttotal: 26.8s\tremaining: 5.76s\n",
            "823:\tlearn: 0.4510240\ttotal: 26.8s\tremaining: 5.73s\n",
            "824:\tlearn: 0.4509928\ttotal: 26.9s\tremaining: 5.7s\n",
            "825:\tlearn: 0.4509779\ttotal: 26.9s\tremaining: 5.66s\n",
            "826:\tlearn: 0.4509556\ttotal: 26.9s\tremaining: 5.63s\n",
            "827:\tlearn: 0.4509263\ttotal: 26.9s\tremaining: 5.6s\n",
            "828:\tlearn: 0.4508878\ttotal: 27s\tremaining: 5.57s\n",
            "829:\tlearn: 0.4508782\ttotal: 27s\tremaining: 5.53s\n",
            "830:\tlearn: 0.4508702\ttotal: 27s\tremaining: 5.5s\n",
            "831:\tlearn: 0.4508634\ttotal: 27.1s\tremaining: 5.47s\n",
            "832:\tlearn: 0.4508313\ttotal: 27.1s\tremaining: 5.43s\n",
            "833:\tlearn: 0.4508216\ttotal: 27.1s\tremaining: 5.4s\n",
            "834:\tlearn: 0.4507896\ttotal: 27.2s\tremaining: 5.37s\n",
            "835:\tlearn: 0.4507796\ttotal: 27.2s\tremaining: 5.33s\n",
            "836:\tlearn: 0.4507717\ttotal: 27.2s\tremaining: 5.3s\n",
            "837:\tlearn: 0.4507493\ttotal: 27.3s\tremaining: 5.27s\n",
            "838:\tlearn: 0.4507378\ttotal: 27.3s\tremaining: 5.24s\n",
            "839:\tlearn: 0.4507316\ttotal: 27.3s\tremaining: 5.21s\n",
            "840:\tlearn: 0.4507102\ttotal: 27.4s\tremaining: 5.17s\n",
            "841:\tlearn: 0.4506864\ttotal: 27.4s\tremaining: 5.14s\n",
            "842:\tlearn: 0.4506586\ttotal: 27.4s\tremaining: 5.11s\n",
            "843:\tlearn: 0.4506263\ttotal: 27.5s\tremaining: 5.08s\n",
            "844:\tlearn: 0.4506050\ttotal: 27.5s\tremaining: 5.05s\n",
            "845:\tlearn: 0.4505752\ttotal: 27.6s\tremaining: 5.01s\n",
            "846:\tlearn: 0.4505392\ttotal: 27.6s\tremaining: 4.98s\n",
            "847:\tlearn: 0.4505250\ttotal: 27.6s\tremaining: 4.95s\n",
            "848:\tlearn: 0.4504963\ttotal: 27.6s\tremaining: 4.92s\n",
            "849:\tlearn: 0.4504784\ttotal: 27.7s\tremaining: 4.88s\n",
            "850:\tlearn: 0.4504716\ttotal: 27.7s\tremaining: 4.85s\n",
            "851:\tlearn: 0.4504435\ttotal: 27.7s\tremaining: 4.82s\n",
            "852:\tlearn: 0.4504235\ttotal: 27.8s\tremaining: 4.79s\n",
            "853:\tlearn: 0.4503971\ttotal: 27.8s\tremaining: 4.75s\n",
            "854:\tlearn: 0.4503759\ttotal: 27.8s\tremaining: 4.72s\n",
            "855:\tlearn: 0.4503598\ttotal: 27.9s\tremaining: 4.69s\n",
            "856:\tlearn: 0.4503219\ttotal: 27.9s\tremaining: 4.66s\n",
            "857:\tlearn: 0.4502927\ttotal: 27.9s\tremaining: 4.62s\n",
            "858:\tlearn: 0.4502796\ttotal: 28s\tremaining: 4.59s\n",
            "859:\tlearn: 0.4502525\ttotal: 28s\tremaining: 4.56s\n",
            "860:\tlearn: 0.4502465\ttotal: 28s\tremaining: 4.53s\n",
            "861:\tlearn: 0.4502442\ttotal: 28.1s\tremaining: 4.49s\n",
            "862:\tlearn: 0.4502181\ttotal: 28.1s\tremaining: 4.46s\n",
            "863:\tlearn: 0.4502072\ttotal: 28.1s\tremaining: 4.43s\n",
            "864:\tlearn: 0.4501734\ttotal: 28.2s\tremaining: 4.39s\n",
            "865:\tlearn: 0.4501501\ttotal: 28.2s\tremaining: 4.36s\n",
            "866:\tlearn: 0.4501430\ttotal: 28.2s\tremaining: 4.33s\n",
            "867:\tlearn: 0.4501240\ttotal: 28.3s\tremaining: 4.3s\n",
            "868:\tlearn: 0.4501045\ttotal: 28.3s\tremaining: 4.27s\n",
            "869:\tlearn: 0.4500863\ttotal: 28.3s\tremaining: 4.23s\n",
            "870:\tlearn: 0.4500685\ttotal: 28.4s\tremaining: 4.2s\n",
            "871:\tlearn: 0.4500512\ttotal: 28.4s\tremaining: 4.17s\n",
            "872:\tlearn: 0.4500452\ttotal: 28.4s\tremaining: 4.14s\n",
            "873:\tlearn: 0.4499914\ttotal: 28.5s\tremaining: 4.1s\n",
            "874:\tlearn: 0.4499726\ttotal: 28.5s\tremaining: 4.07s\n",
            "875:\tlearn: 0.4499623\ttotal: 28.6s\tremaining: 4.04s\n",
            "876:\tlearn: 0.4499556\ttotal: 28.6s\tremaining: 4.01s\n",
            "877:\tlearn: 0.4499514\ttotal: 28.6s\tremaining: 3.98s\n",
            "878:\tlearn: 0.4499357\ttotal: 28.7s\tremaining: 3.94s\n",
            "879:\tlearn: 0.4499258\ttotal: 28.7s\tremaining: 3.91s\n",
            "880:\tlearn: 0.4498869\ttotal: 28.7s\tremaining: 3.88s\n",
            "881:\tlearn: 0.4498680\ttotal: 28.7s\tremaining: 3.85s\n",
            "882:\tlearn: 0.4498566\ttotal: 28.8s\tremaining: 3.81s\n",
            "883:\tlearn: 0.4498294\ttotal: 28.8s\tremaining: 3.78s\n",
            "884:\tlearn: 0.4498049\ttotal: 28.9s\tremaining: 3.75s\n",
            "885:\tlearn: 0.4497960\ttotal: 28.9s\tremaining: 3.71s\n",
            "886:\tlearn: 0.4497675\ttotal: 28.9s\tremaining: 3.68s\n",
            "887:\tlearn: 0.4497584\ttotal: 28.9s\tremaining: 3.65s\n",
            "888:\tlearn: 0.4497382\ttotal: 29s\tremaining: 3.62s\n",
            "889:\tlearn: 0.4497275\ttotal: 29s\tremaining: 3.58s\n",
            "890:\tlearn: 0.4497198\ttotal: 29s\tremaining: 3.55s\n",
            "891:\tlearn: 0.4497054\ttotal: 29.1s\tremaining: 3.52s\n",
            "892:\tlearn: 0.4496945\ttotal: 29.1s\tremaining: 3.49s\n",
            "893:\tlearn: 0.4496849\ttotal: 29.1s\tremaining: 3.46s\n",
            "894:\tlearn: 0.4496641\ttotal: 29.2s\tremaining: 3.42s\n",
            "895:\tlearn: 0.4496423\ttotal: 29.2s\tremaining: 3.39s\n",
            "896:\tlearn: 0.4496373\ttotal: 29.2s\tremaining: 3.36s\n",
            "897:\tlearn: 0.4496179\ttotal: 29.3s\tremaining: 3.33s\n",
            "898:\tlearn: 0.4496050\ttotal: 29.3s\tremaining: 3.29s\n",
            "899:\tlearn: 0.4495894\ttotal: 29.4s\tremaining: 3.26s\n",
            "900:\tlearn: 0.4495668\ttotal: 29.4s\tremaining: 3.23s\n",
            "901:\tlearn: 0.4495541\ttotal: 29.4s\tremaining: 3.19s\n",
            "902:\tlearn: 0.4495303\ttotal: 29.5s\tremaining: 3.16s\n",
            "903:\tlearn: 0.4495164\ttotal: 29.5s\tremaining: 3.13s\n",
            "904:\tlearn: 0.4494973\ttotal: 29.5s\tremaining: 3.1s\n",
            "905:\tlearn: 0.4494854\ttotal: 29.6s\tremaining: 3.07s\n",
            "906:\tlearn: 0.4494803\ttotal: 29.6s\tremaining: 3.03s\n",
            "907:\tlearn: 0.4494671\ttotal: 29.6s\tremaining: 3s\n",
            "908:\tlearn: 0.4494565\ttotal: 29.7s\tremaining: 2.97s\n",
            "909:\tlearn: 0.4494393\ttotal: 29.7s\tremaining: 2.94s\n",
            "910:\tlearn: 0.4494237\ttotal: 29.7s\tremaining: 2.9s\n",
            "911:\tlearn: 0.4494179\ttotal: 29.8s\tremaining: 2.87s\n",
            "912:\tlearn: 0.4493930\ttotal: 29.8s\tremaining: 2.84s\n",
            "913:\tlearn: 0.4493863\ttotal: 29.8s\tremaining: 2.81s\n",
            "914:\tlearn: 0.4493669\ttotal: 29.8s\tremaining: 2.77s\n",
            "915:\tlearn: 0.4493644\ttotal: 29.9s\tremaining: 2.74s\n",
            "916:\tlearn: 0.4493432\ttotal: 29.9s\tremaining: 2.71s\n",
            "917:\tlearn: 0.4493319\ttotal: 29.9s\tremaining: 2.67s\n",
            "918:\tlearn: 0.4493216\ttotal: 30s\tremaining: 2.64s\n",
            "919:\tlearn: 0.4493053\ttotal: 30s\tremaining: 2.61s\n",
            "920:\tlearn: 0.4492906\ttotal: 30s\tremaining: 2.58s\n",
            "921:\tlearn: 0.4492813\ttotal: 30.1s\tremaining: 2.54s\n",
            "922:\tlearn: 0.4492672\ttotal: 30.1s\tremaining: 2.51s\n",
            "923:\tlearn: 0.4492459\ttotal: 30.1s\tremaining: 2.48s\n",
            "924:\tlearn: 0.4492275\ttotal: 30.2s\tremaining: 2.44s\n",
            "925:\tlearn: 0.4492186\ttotal: 30.2s\tremaining: 2.41s\n",
            "926:\tlearn: 0.4492123\ttotal: 30.2s\tremaining: 2.38s\n",
            "927:\tlearn: 0.4492084\ttotal: 30.2s\tremaining: 2.35s\n",
            "928:\tlearn: 0.4491712\ttotal: 30.3s\tremaining: 2.31s\n",
            "929:\tlearn: 0.4491606\ttotal: 30.3s\tremaining: 2.28s\n",
            "930:\tlearn: 0.4491491\ttotal: 30.3s\tremaining: 2.25s\n",
            "931:\tlearn: 0.4491297\ttotal: 30.4s\tremaining: 2.22s\n",
            "932:\tlearn: 0.4491089\ttotal: 30.4s\tremaining: 2.18s\n",
            "933:\tlearn: 0.4491091\ttotal: 30.4s\tremaining: 2.15s\n",
            "934:\tlearn: 0.4490955\ttotal: 30.5s\tremaining: 2.12s\n",
            "935:\tlearn: 0.4490699\ttotal: 30.5s\tremaining: 2.08s\n",
            "936:\tlearn: 0.4490482\ttotal: 30.5s\tremaining: 2.05s\n",
            "937:\tlearn: 0.4490332\ttotal: 30.6s\tremaining: 2.02s\n",
            "938:\tlearn: 0.4490144\ttotal: 30.6s\tremaining: 1.99s\n",
            "939:\tlearn: 0.4490018\ttotal: 30.6s\tremaining: 1.96s\n",
            "940:\tlearn: 0.4489837\ttotal: 30.7s\tremaining: 1.92s\n",
            "941:\tlearn: 0.4489676\ttotal: 30.7s\tremaining: 1.89s\n",
            "942:\tlearn: 0.4489386\ttotal: 30.7s\tremaining: 1.86s\n",
            "943:\tlearn: 0.4489165\ttotal: 30.8s\tremaining: 1.82s\n",
            "944:\tlearn: 0.4489104\ttotal: 30.8s\tremaining: 1.79s\n",
            "945:\tlearn: 0.4488831\ttotal: 30.8s\tremaining: 1.76s\n",
            "946:\tlearn: 0.4488466\ttotal: 30.9s\tremaining: 1.73s\n",
            "947:\tlearn: 0.4488382\ttotal: 30.9s\tremaining: 1.69s\n",
            "948:\tlearn: 0.4488132\ttotal: 30.9s\tremaining: 1.66s\n",
            "949:\tlearn: 0.4488101\ttotal: 31s\tremaining: 1.63s\n",
            "950:\tlearn: 0.4488059\ttotal: 31s\tremaining: 1.6s\n",
            "951:\tlearn: 0.4487864\ttotal: 31s\tremaining: 1.56s\n",
            "952:\tlearn: 0.4487750\ttotal: 31.1s\tremaining: 1.53s\n",
            "953:\tlearn: 0.4487613\ttotal: 31.1s\tremaining: 1.5s\n",
            "954:\tlearn: 0.4487483\ttotal: 31.1s\tremaining: 1.47s\n",
            "955:\tlearn: 0.4487347\ttotal: 31.2s\tremaining: 1.43s\n",
            "956:\tlearn: 0.4487197\ttotal: 31.2s\tremaining: 1.4s\n",
            "957:\tlearn: 0.4487045\ttotal: 31.2s\tremaining: 1.37s\n",
            "958:\tlearn: 0.4486914\ttotal: 31.3s\tremaining: 1.34s\n",
            "959:\tlearn: 0.4486742\ttotal: 31.3s\tremaining: 1.3s\n",
            "960:\tlearn: 0.4486490\ttotal: 31.3s\tremaining: 1.27s\n",
            "961:\tlearn: 0.4486461\ttotal: 31.4s\tremaining: 1.24s\n",
            "962:\tlearn: 0.4486360\ttotal: 31.4s\tremaining: 1.21s\n",
            "963:\tlearn: 0.4486246\ttotal: 31.4s\tremaining: 1.17s\n",
            "964:\tlearn: 0.4486193\ttotal: 31.4s\tremaining: 1.14s\n",
            "965:\tlearn: 0.4486119\ttotal: 31.5s\tremaining: 1.11s\n",
            "966:\tlearn: 0.4486041\ttotal: 31.5s\tremaining: 1.07s\n",
            "967:\tlearn: 0.4486008\ttotal: 31.5s\tremaining: 1.04s\n",
            "968:\tlearn: 0.4485796\ttotal: 31.6s\tremaining: 1.01s\n",
            "969:\tlearn: 0.4485576\ttotal: 31.6s\tremaining: 978ms\n",
            "970:\tlearn: 0.4485422\ttotal: 31.7s\tremaining: 946ms\n",
            "971:\tlearn: 0.4485169\ttotal: 31.7s\tremaining: 913ms\n",
            "972:\tlearn: 0.4485046\ttotal: 31.7s\tremaining: 881ms\n",
            "973:\tlearn: 0.4484807\ttotal: 31.8s\tremaining: 848ms\n",
            "974:\tlearn: 0.4484664\ttotal: 31.8s\tremaining: 816ms\n",
            "975:\tlearn: 0.4484466\ttotal: 31.9s\tremaining: 783ms\n",
            "976:\tlearn: 0.4484324\ttotal: 31.9s\tremaining: 751ms\n",
            "977:\tlearn: 0.4484237\ttotal: 31.9s\tremaining: 718ms\n",
            "978:\tlearn: 0.4484201\ttotal: 32s\tremaining: 685ms\n",
            "979:\tlearn: 0.4484035\ttotal: 32s\tremaining: 653ms\n",
            "980:\tlearn: 0.4484002\ttotal: 32s\tremaining: 620ms\n",
            "981:\tlearn: 0.4483893\ttotal: 32s\tremaining: 587ms\n",
            "982:\tlearn: 0.4483824\ttotal: 32.1s\tremaining: 555ms\n",
            "983:\tlearn: 0.4483611\ttotal: 32.1s\tremaining: 522ms\n",
            "984:\tlearn: 0.4483586\ttotal: 32.1s\tremaining: 489ms\n",
            "985:\tlearn: 0.4483335\ttotal: 32.2s\tremaining: 457ms\n",
            "986:\tlearn: 0.4483068\ttotal: 32.2s\tremaining: 424ms\n",
            "987:\tlearn: 0.4482813\ttotal: 32.2s\tremaining: 391ms\n",
            "988:\tlearn: 0.4482735\ttotal: 32.3s\tremaining: 359ms\n",
            "989:\tlearn: 0.4482609\ttotal: 32.3s\tremaining: 326ms\n",
            "990:\tlearn: 0.4482389\ttotal: 32.3s\tremaining: 294ms\n",
            "991:\tlearn: 0.4482261\ttotal: 32.4s\tremaining: 261ms\n",
            "992:\tlearn: 0.4482171\ttotal: 32.4s\tremaining: 228ms\n",
            "993:\tlearn: 0.4482013\ttotal: 32.4s\tremaining: 196ms\n",
            "994:\tlearn: 0.4481913\ttotal: 32.5s\tremaining: 163ms\n",
            "995:\tlearn: 0.4481718\ttotal: 32.5s\tremaining: 130ms\n",
            "996:\tlearn: 0.4481517\ttotal: 32.5s\tremaining: 97.8ms\n",
            "997:\tlearn: 0.4481482\ttotal: 32.5s\tremaining: 65.2ms\n",
            "998:\tlearn: 0.4481298\ttotal: 32.6s\tremaining: 32.6ms\n",
            "999:\tlearn: 0.4481253\ttotal: 32.6s\tremaining: 0us\n"
          ]
        },
        {
          "output_type": "execute_result",
          "data": {
            "text/plain": [
              "<catboost.core.CatBoostClassifier at 0x7f786b369210>"
            ]
          },
          "metadata": {},
          "execution_count": 43
        }
      ]
    },
    {
      "cell_type": "markdown",
      "metadata": {
        "id": "rgTIQSYB7NUT"
      },
      "source": [
        "Сделаем предсказания на тестовой выборке, сформируем из них рекомендации. "
      ]
    },
    {
      "cell_type": "code",
      "metadata": {
        "colab": {
          "base_uri": "https://localhost:8080/",
          "height": 101,
          "referenced_widgets": [
            "24afedde6c8043b59d3b69b3731788f2",
            "1a7e8206a8164659b69e399d9f5d6191",
            "3ff015065a0d4ce294f0d36d073b0150",
            "90e8395ff0ad40d7b213c4cdfd0216bc",
            "9cbacf903c08402fa3029758c28257f9",
            "753c5f20871c4ef39adfe55b4bb3a94f",
            "f59475e419c24c24a6ccae77de4997fa",
            "2599fffeaa484d368d69769359b9ad0a",
            "4707eccb7ec64713b7d7db55e1d13038",
            "f7bad4902df04eed9b9d49e9bcd6b20d",
            "e25e893c7c5041a387db661d9cd9428a"
          ]
        },
        "id": "oiL_M4uu7NUU",
        "outputId": "db73e19f-d828-4829-eedb-0ba65a9333b8"
      },
      "source": [
        "####### Здесь ваш код ##########\n",
        "predictions = model.predict_proba(test[interactions_train_df.columns[features_start:]])[:, 1]\n",
        "test['predictions'] = predictions\n",
        "\n",
        "test = test.sort_values('predictions', ascending=False)\n",
        "predictions = test.groupby('personId')['contentId'].aggregate(list)\n",
        "tmp_predictions = []\n",
        "\n",
        "for personId in tqdm_notebook(interactions.index):\n",
        "    prediction = np.array(predictions.loc[personId])\n",
        "    \n",
        "    tmp_predictions.append(\n",
        "        list(prediction[~np.in1d(\n",
        "            prediction,\n",
        "            interactions.loc[personId, 'true_train'])])[:top_k])\n",
        "    \n",
        "interactions['prediction_content'] = tmp_predictions\n",
        "################################"
      ],
      "execution_count": 44,
      "outputs": [
        {
          "output_type": "stream",
          "name": "stderr",
          "text": [
            "/usr/local/lib/python3.7/dist-packages/ipykernel_launcher.py:9: TqdmDeprecationWarning: This function will be removed in tqdm==5.0.0\n",
            "Please use `tqdm.notebook.tqdm` instead of `tqdm.tqdm_notebook`\n",
            "  if __name__ == '__main__':\n"
          ]
        },
        {
          "output_type": "display_data",
          "data": {
            "application/vnd.jupyter.widget-view+json": {
              "model_id": "24afedde6c8043b59d3b69b3731788f2",
              "version_minor": 0,
              "version_major": 2
            },
            "text/plain": [
              "  0%|          | 0/1112 [00:00<?, ?it/s]"
            ]
          },
          "metadata": {}
        }
      ]
    },
    {
      "cell_type": "markdown",
      "metadata": {
        "id": "bV6jzq8n7NUU"
      },
      "source": [
        "Оценим их качество."
      ]
    },
    {
      "cell_type": "code",
      "metadata": {
        "colab": {
          "base_uri": "https://localhost:8080/"
        },
        "id": "8Fh36H-l7NUU",
        "scrolled": true,
        "outputId": "e08a2d20-0561-4bad-8cd8-fa80083c7870"
      },
      "source": [
        "# calc_precision(...)\n",
        "####### Здесь ваш код ##########\n",
        "calc_precision('prediction_content')\n",
        "################################"
      ],
      "execution_count": 45,
      "outputs": [
        {
          "output_type": "execute_result",
          "data": {
            "text/plain": [
              "0.007637240477463917"
            ]
          },
          "metadata": {},
          "execution_count": 45
        }
      ]
    },
    {
      "cell_type": "markdown",
      "metadata": {
        "id": "hw46t8eo7NUU"
      },
      "source": [
        "## Часть 4. Факторизационная машина"
      ]
    },
    {
      "cell_type": "markdown",
      "metadata": {
        "id": "1ghXuccn7NUU"
      },
      "source": [
        "Вспомним, что факторизационная машина учитывает попарные взаимодействия признаков, что приводит сразу и к использованию контента (сами признаки), и к обучению скрытых представлений (индикаторы пользователей и статей).\n",
        "\n",
        "Попробуем факторизационные машины из библиотеки pyFM (так как можно работать прямо из питона). https://github.com/coreylynch/pyFM"
      ]
    },
    {
      "cell_type": "code",
      "metadata": {
        "id": "IG-5ehv17NUU"
      },
      "source": [
        "from pyfm import pylibfm\n",
        "from sklearn.feature_extraction import DictVectorizer"
      ],
      "execution_count": 46,
      "outputs": []
    },
    {
      "cell_type": "markdown",
      "metadata": {
        "id": "TZmaTCfW7NUU"
      },
      "source": [
        "Перейдём к обобщению матричных разложений — факторизационным машинам, которые могут работать с контентной информацией. Вспомним, какие данные у нас изначально были:"
      ]
    },
    {
      "cell_type": "markdown",
      "metadata": {
        "id": "ZXGEQEDY7NUV"
      },
      "source": [
        "В факторизационную машину можно загрузить \"айдишники\" пользователей и статей (то есть сделать аналог коллаборативной фильтрации) и одновременно различные признаки.\n",
        "\n",
        "Удобно обрабатывать категориальные переменные (id и другие) можно с помощью DictVectorizer. Например, процесс может выглядить вот так:\n",
        "```python\n",
        "train = [\n",
        "    {\"user\": \"1\", \"item\": \"5\", \"age\": 19},\n",
        "    {\"user\": \"2\", \"item\": \"43\", \"age\": 33},\n",
        "    {\"user\": \"3\", \"item\": \"20\", \"age\": 55},\n",
        "    {\"user\": \"4\", \"item\": \"10\", \"age\": 20},\n",
        "]\n",
        "v = DictVectorizer()\n",
        "X = v.fit_transform(train)\n",
        "y = np.repeat(1.0, X.shape[0])\n",
        "fm = pylibfm.FM()\n",
        "fm.fit(X,y)\n",
        "fm.predict(v.transform({\"user\": \"1\", \"item\": \"10\", \"age\": 24}))\n",
        "```"
      ]
    },
    {
      "cell_type": "markdown",
      "metadata": {
        "id": "Su_a3Zqa7NUV"
      },
      "source": [
        "Сгенерируем таблицу с признаками в таком виде, где будут id пользователя, статьи и автора статьи и несколько признаков, которые вы сможете придумать."
      ]
    },
    {
      "cell_type": "code",
      "metadata": {
        "colab": {
          "base_uri": "https://localhost:8080/",
          "height": 101,
          "referenced_widgets": [
            "5e47369ce1e049deb0aac8be79ce31e8",
            "98053b77ba4a4d4b8ae6fffde882e65d",
            "338b82ceb79148b6a774a51e3cfaf68f",
            "95e5821ea5264674bf7257a5529b7234",
            "daadcd9262e94a54af6252a04184ca41",
            "86fe861ddb7b4e75a38b374b29cffa76",
            "3e4973da3f224e53a81d766ae59bcb93",
            "13a02709ca4843a39fb8c15d8a087321",
            "691d7c39c9af4c93af0a3fb4e0587f8f",
            "1bb3e1137c244926b00e2f3e20209602",
            "fb031278e6e04c6a95fe78c9d81fb317"
          ]
        },
        "id": "1lXklZjO7NUV",
        "outputId": "7f9efa8a-086e-4657-d43c-ac0b471a4ac4"
      },
      "source": [
        "train_data = []\n",
        "\n",
        "for i in tqdm_notebook(range(len(interactions_train_df))):\n",
        "    features = {}\n",
        "    features['personId'] = str(interactions_train_df.iloc[i].personId)\n",
        "    features['contentId'] = str(interactions_train_df.iloc[i].contentId)\n",
        "    ####### Здесь ваш код ##########\n",
        "    try:\n",
        "        article = articles_df.loc[features['contentId']]\n",
        "        features['authorId'] = str(article.authorPersonId)\n",
        "        features['authorCountry'] = str(article.authorCountry)\n",
        "        features['lang'] = str(article.lang)\n",
        "    except:\n",
        "        features['authorId'] = 'unknown'\n",
        "        features['authorCountry'] = 'unknown'\n",
        "        features['lang'] = 'unknown'\n",
        "    ################################\n",
        "    train_data.append(features)"
      ],
      "execution_count": null,
      "outputs": [
        {
          "output_type": "stream",
          "name": "stderr",
          "text": [
            "/usr/local/lib/python3.7/dist-packages/ipykernel_launcher.py:3: TqdmDeprecationWarning: This function will be removed in tqdm==5.0.0\n",
            "Please use `tqdm.notebook.tqdm` instead of `tqdm.tqdm_notebook`\n",
            "  This is separate from the ipykernel package so we can avoid doing imports until\n"
          ]
        },
        {
          "output_type": "display_data",
          "data": {
            "application/vnd.jupyter.widget-view+json": {
              "model_id": "5e47369ce1e049deb0aac8be79ce31e8",
              "version_minor": 0,
              "version_major": 2
            },
            "text/plain": [
              "  0%|          | 0/146645 [00:00<?, ?it/s]"
            ]
          },
          "metadata": {}
        }
      ]
    },
    {
      "cell_type": "markdown",
      "metadata": {
        "id": "KAiWGhdL7NUV"
      },
      "source": [
        "Повторим эту процедуру для тестовой выборки. Заметим, что модель оценивает каждую пару потенциального взаимодействия, а значит, надо подготовить выборку из всех возможных пар из пользователей и статей."
      ]
    },
    {
      "cell_type": "code",
      "metadata": {
        "id": "uJZpRg5F7NUV"
      },
      "source": [
        "from copy import deepcopy\n",
        "\n",
        "test_data = []\n",
        "\n",
        "for i in tqdm_notebook(range(len(interactions))):\n",
        "    features = {}\n",
        "    features['personId'] = str(interactions.index[i])  \n",
        "    for j in range(len(ratings.columns)):\n",
        "        ####### Здесь ваш код ##########\n",
        "        features['contentId'] = str(ratings.columns[j])\n",
        "        \n",
        "        try:\n",
        "            article = articles_df.loc[features['contentId']]\n",
        "            features['authorId'] = str(article.authorPersonId)\n",
        "            features['authorCountry'] = str(article.authorCountry)\n",
        "            features['lang'] = str(article.lang)\n",
        "        except:\n",
        "            features['authorId'] = 'unknown'\n",
        "            features['authorCountry'] = 'unknown'\n",
        "            features['lang'] = 'unknown'\n",
        "        ################################\n",
        "        test_data.append(deepcopy(features))"
      ],
      "execution_count": null,
      "outputs": []
    },
    {
      "cell_type": "markdown",
      "metadata": {
        "id": "GEx1aZyz7NUV"
      },
      "source": [
        "Векторизуем, получим разреженные матрицы.\n",
        "\n",
        "Мы будем обучать регрессор на силу взаимодействия, а для него нужны отрицательные примеры. Добавим некоторое количество случайных примеров как негативные (матрица взаимодействий разреженная, поэтому шансы взять как негативное взаимодействие некоторое положительное мало)."
      ]
    },
    {
      "cell_type": "code",
      "metadata": {
        "id": "_kfBG_vr7NUV"
      },
      "source": [
        "dv = DictVectorizer()\n",
        "\n",
        "train_features = dv.fit_transform(\n",
        "    train_data + list(np.random.permutation(test_data)[:100000]))\n",
        "test_features = dv.transform(test_data)"
      ],
      "execution_count": null,
      "outputs": []
    },
    {
      "cell_type": "code",
      "metadata": {
        "id": "r1ORxv-K7NUW"
      },
      "source": [
        "train_features"
      ],
      "execution_count": null,
      "outputs": []
    },
    {
      "cell_type": "code",
      "metadata": {
        "id": "54uYFuXL7NUW"
      },
      "source": [
        "y_train = list(interactions_train_df.eventStrength.values) + list(np.zeros(100000))"
      ],
      "execution_count": null,
      "outputs": []
    },
    {
      "cell_type": "markdown",
      "metadata": {
        "id": "JvCCpAly7NUW"
      },
      "source": [
        "Укажем размером скрытого представления 10, сделаем 10 итераций."
      ]
    },
    {
      "cell_type": "code",
      "metadata": {
        "colab": {
          "background_save": true
        },
        "id": "Htd7DQlA7NUW",
        "scrolled": true
      },
      "source": [
        "# fm = pylibfm.FM(...\n",
        "####### Здесь ваш код ##########\n",
        "fm = pylibfm.FM(num_factors=10, num_iter=30, task='regression')\n",
        "################################\n",
        "fm.fit(train_features, y_train)"
      ],
      "execution_count": null,
      "outputs": []
    },
    {
      "cell_type": "markdown",
      "metadata": {
        "id": "LctegjZ-7NUW"
      },
      "source": [
        "Предскажем и оценим качество."
      ]
    },
    {
      "cell_type": "code",
      "metadata": {
        "colab": {
          "background_save": true
        },
        "id": "MBqPsN3m7NUW"
      },
      "source": [
        "####### Здесь ваш код ##########\n",
        "test_features = dv.transform(test_data)\n",
        "\n",
        "y_predict = fm.predict(test_features)\n",
        "\n",
        "new_ratings = y_predict.reshape((1112, 2366))\n",
        "################################"
      ],
      "execution_count": null,
      "outputs": []
    },
    {
      "cell_type": "code",
      "metadata": {
        "colab": {
          "background_save": true
        },
        "id": "OWF2OM_-7NUW"
      },
      "source": [
        "predictions = []\n",
        "\n",
        "for i, person in enumerate(interactions.index):\n",
        "    user_prediction = ratings.columns[np.argsort(new_ratings[i])[::-1]]\n",
        "    predictions.append(\n",
        "        user_prediction[~np.in1d(user_prediction,\n",
        "                                 interactions.loc[person, 'true_train'])][:top_k])\n",
        "    \n",
        "interactions['fm_prediction'] = predictions"
      ],
      "execution_count": null,
      "outputs": []
    },
    {
      "cell_type": "code",
      "metadata": {
        "colab": {
          "background_save": true
        },
        "id": "n6wF5i-27NUX"
      },
      "source": [
        "calc_precision('fm_prediction')"
      ],
      "execution_count": null,
      "outputs": []
    },
    {
      "cell_type": "code",
      "metadata": {
        "id": "kf6-aHAO7NUX"
      },
      "source": [
        "\n",
        "\n"
      ],
      "execution_count": null,
      "outputs": []
    }
  ]
}