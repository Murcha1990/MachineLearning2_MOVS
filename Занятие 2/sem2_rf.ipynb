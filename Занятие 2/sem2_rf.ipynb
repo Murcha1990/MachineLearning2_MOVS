{
  "nbformat": 4,
  "nbformat_minor": 5,
  "metadata": {
    "kernelspec": {
      "display_name": "Python 3",
      "language": "python",
      "name": "python3"
    },
    "language_info": {
      "codemirror_mode": {
        "name": "ipython",
        "version": 3
      },
      "file_extension": ".py",
      "mimetype": "text/x-python",
      "name": "python",
      "nbconvert_exporter": "python",
      "pygments_lexer": "ipython3",
      "version": "3.8.8"
    },
    "colab": {
      "name": "sem2_rf.ipynb",
      "provenance": [],
      "collapsed_sections": []
    },
    "widgets": {
      "application/vnd.jupyter.widget-state+json": {
        "ec9bd427d9ee42359df0c1f99e8ef8ce": {
          "model_module": "@jupyter-widgets/controls",
          "model_name": "HBoxModel",
          "model_module_version": "1.5.0",
          "state": {
            "_view_name": "HBoxView",
            "_dom_classes": [],
            "_model_name": "HBoxModel",
            "_view_module": "@jupyter-widgets/controls",
            "_model_module_version": "1.5.0",
            "_view_count": null,
            "_view_module_version": "1.5.0",
            "box_style": "",
            "layout": "IPY_MODEL_afe74050a51f4b438bd007f057b4f86c",
            "_model_module": "@jupyter-widgets/controls",
            "children": [
              "IPY_MODEL_c66fa338856c414387ec248417caf59d",
              "IPY_MODEL_2ea46636f877413b83d6a6bcc485a692",
              "IPY_MODEL_296a7b6a8e8e4cae8c976886e74e7bee"
            ]
          }
        },
        "afe74050a51f4b438bd007f057b4f86c": {
          "model_module": "@jupyter-widgets/base",
          "model_name": "LayoutModel",
          "model_module_version": "1.2.0",
          "state": {
            "_view_name": "LayoutView",
            "grid_template_rows": null,
            "right": null,
            "justify_content": null,
            "_view_module": "@jupyter-widgets/base",
            "overflow": null,
            "_model_module_version": "1.2.0",
            "_view_count": null,
            "flex_flow": null,
            "width": null,
            "min_width": null,
            "border": null,
            "align_items": null,
            "bottom": null,
            "_model_module": "@jupyter-widgets/base",
            "top": null,
            "grid_column": null,
            "overflow_y": null,
            "overflow_x": null,
            "grid_auto_flow": null,
            "grid_area": null,
            "grid_template_columns": null,
            "flex": null,
            "_model_name": "LayoutModel",
            "justify_items": null,
            "grid_row": null,
            "max_height": null,
            "align_content": null,
            "visibility": null,
            "align_self": null,
            "height": null,
            "min_height": null,
            "padding": null,
            "grid_auto_rows": null,
            "grid_gap": null,
            "max_width": null,
            "order": null,
            "_view_module_version": "1.2.0",
            "grid_template_areas": null,
            "object_position": null,
            "object_fit": null,
            "grid_auto_columns": null,
            "margin": null,
            "display": null,
            "left": null
          }
        },
        "c66fa338856c414387ec248417caf59d": {
          "model_module": "@jupyter-widgets/controls",
          "model_name": "HTMLModel",
          "model_module_version": "1.5.0",
          "state": {
            "_view_name": "HTMLView",
            "style": "IPY_MODEL_de54934f8f7e4d95939a296e5403dcee",
            "_dom_classes": [],
            "description": "",
            "_model_name": "HTMLModel",
            "placeholder": "​",
            "_view_module": "@jupyter-widgets/controls",
            "_model_module_version": "1.5.0",
            "value": "",
            "_view_count": null,
            "_view_module_version": "1.5.0",
            "description_tooltip": null,
            "_model_module": "@jupyter-widgets/controls",
            "layout": "IPY_MODEL_613284d6e3d444849399b9c7d3393b50"
          }
        },
        "2ea46636f877413b83d6a6bcc485a692": {
          "model_module": "@jupyter-widgets/controls",
          "model_name": "FloatProgressModel",
          "model_module_version": "1.5.0",
          "state": {
            "_view_name": "ProgressView",
            "style": "IPY_MODEL_de24b9e5f112427980136500eb7c5a0b",
            "_dom_classes": [],
            "description": "",
            "_model_name": "FloatProgressModel",
            "bar_style": "success",
            "max": 26421880,
            "_view_module": "@jupyter-widgets/controls",
            "_model_module_version": "1.5.0",
            "value": 26421880,
            "_view_count": null,
            "_view_module_version": "1.5.0",
            "orientation": "horizontal",
            "min": 0,
            "description_tooltip": null,
            "_model_module": "@jupyter-widgets/controls",
            "layout": "IPY_MODEL_9b49cf363b1f43e089e7895efcc45699"
          }
        },
        "296a7b6a8e8e4cae8c976886e74e7bee": {
          "model_module": "@jupyter-widgets/controls",
          "model_name": "HTMLModel",
          "model_module_version": "1.5.0",
          "state": {
            "_view_name": "HTMLView",
            "style": "IPY_MODEL_64db2474fe0444358c20ab411ffe377a",
            "_dom_classes": [],
            "description": "",
            "_model_name": "HTMLModel",
            "placeholder": "​",
            "_view_module": "@jupyter-widgets/controls",
            "_model_module_version": "1.5.0",
            "value": " 26422272/? [00:04&lt;00:00, 8850347.04it/s]",
            "_view_count": null,
            "_view_module_version": "1.5.0",
            "description_tooltip": null,
            "_model_module": "@jupyter-widgets/controls",
            "layout": "IPY_MODEL_9870aa59b04c44a4a62c53deec309ee9"
          }
        },
        "de54934f8f7e4d95939a296e5403dcee": {
          "model_module": "@jupyter-widgets/controls",
          "model_name": "DescriptionStyleModel",
          "model_module_version": "1.5.0",
          "state": {
            "_view_name": "StyleView",
            "_model_name": "DescriptionStyleModel",
            "description_width": "",
            "_view_module": "@jupyter-widgets/base",
            "_model_module_version": "1.5.0",
            "_view_count": null,
            "_view_module_version": "1.2.0",
            "_model_module": "@jupyter-widgets/controls"
          }
        },
        "613284d6e3d444849399b9c7d3393b50": {
          "model_module": "@jupyter-widgets/base",
          "model_name": "LayoutModel",
          "model_module_version": "1.2.0",
          "state": {
            "_view_name": "LayoutView",
            "grid_template_rows": null,
            "right": null,
            "justify_content": null,
            "_view_module": "@jupyter-widgets/base",
            "overflow": null,
            "_model_module_version": "1.2.0",
            "_view_count": null,
            "flex_flow": null,
            "width": null,
            "min_width": null,
            "border": null,
            "align_items": null,
            "bottom": null,
            "_model_module": "@jupyter-widgets/base",
            "top": null,
            "grid_column": null,
            "overflow_y": null,
            "overflow_x": null,
            "grid_auto_flow": null,
            "grid_area": null,
            "grid_template_columns": null,
            "flex": null,
            "_model_name": "LayoutModel",
            "justify_items": null,
            "grid_row": null,
            "max_height": null,
            "align_content": null,
            "visibility": null,
            "align_self": null,
            "height": null,
            "min_height": null,
            "padding": null,
            "grid_auto_rows": null,
            "grid_gap": null,
            "max_width": null,
            "order": null,
            "_view_module_version": "1.2.0",
            "grid_template_areas": null,
            "object_position": null,
            "object_fit": null,
            "grid_auto_columns": null,
            "margin": null,
            "display": null,
            "left": null
          }
        },
        "de24b9e5f112427980136500eb7c5a0b": {
          "model_module": "@jupyter-widgets/controls",
          "model_name": "ProgressStyleModel",
          "model_module_version": "1.5.0",
          "state": {
            "_view_name": "StyleView",
            "_model_name": "ProgressStyleModel",
            "description_width": "",
            "_view_module": "@jupyter-widgets/base",
            "_model_module_version": "1.5.0",
            "_view_count": null,
            "_view_module_version": "1.2.0",
            "bar_color": null,
            "_model_module": "@jupyter-widgets/controls"
          }
        },
        "9b49cf363b1f43e089e7895efcc45699": {
          "model_module": "@jupyter-widgets/base",
          "model_name": "LayoutModel",
          "model_module_version": "1.2.0",
          "state": {
            "_view_name": "LayoutView",
            "grid_template_rows": null,
            "right": null,
            "justify_content": null,
            "_view_module": "@jupyter-widgets/base",
            "overflow": null,
            "_model_module_version": "1.2.0",
            "_view_count": null,
            "flex_flow": null,
            "width": null,
            "min_width": null,
            "border": null,
            "align_items": null,
            "bottom": null,
            "_model_module": "@jupyter-widgets/base",
            "top": null,
            "grid_column": null,
            "overflow_y": null,
            "overflow_x": null,
            "grid_auto_flow": null,
            "grid_area": null,
            "grid_template_columns": null,
            "flex": null,
            "_model_name": "LayoutModel",
            "justify_items": null,
            "grid_row": null,
            "max_height": null,
            "align_content": null,
            "visibility": null,
            "align_self": null,
            "height": null,
            "min_height": null,
            "padding": null,
            "grid_auto_rows": null,
            "grid_gap": null,
            "max_width": null,
            "order": null,
            "_view_module_version": "1.2.0",
            "grid_template_areas": null,
            "object_position": null,
            "object_fit": null,
            "grid_auto_columns": null,
            "margin": null,
            "display": null,
            "left": null
          }
        },
        "64db2474fe0444358c20ab411ffe377a": {
          "model_module": "@jupyter-widgets/controls",
          "model_name": "DescriptionStyleModel",
          "model_module_version": "1.5.0",
          "state": {
            "_view_name": "StyleView",
            "_model_name": "DescriptionStyleModel",
            "description_width": "",
            "_view_module": "@jupyter-widgets/base",
            "_model_module_version": "1.5.0",
            "_view_count": null,
            "_view_module_version": "1.2.0",
            "_model_module": "@jupyter-widgets/controls"
          }
        },
        "9870aa59b04c44a4a62c53deec309ee9": {
          "model_module": "@jupyter-widgets/base",
          "model_name": "LayoutModel",
          "model_module_version": "1.2.0",
          "state": {
            "_view_name": "LayoutView",
            "grid_template_rows": null,
            "right": null,
            "justify_content": null,
            "_view_module": "@jupyter-widgets/base",
            "overflow": null,
            "_model_module_version": "1.2.0",
            "_view_count": null,
            "flex_flow": null,
            "width": null,
            "min_width": null,
            "border": null,
            "align_items": null,
            "bottom": null,
            "_model_module": "@jupyter-widgets/base",
            "top": null,
            "grid_column": null,
            "overflow_y": null,
            "overflow_x": null,
            "grid_auto_flow": null,
            "grid_area": null,
            "grid_template_columns": null,
            "flex": null,
            "_model_name": "LayoutModel",
            "justify_items": null,
            "grid_row": null,
            "max_height": null,
            "align_content": null,
            "visibility": null,
            "align_self": null,
            "height": null,
            "min_height": null,
            "padding": null,
            "grid_auto_rows": null,
            "grid_gap": null,
            "max_width": null,
            "order": null,
            "_view_module_version": "1.2.0",
            "grid_template_areas": null,
            "object_position": null,
            "object_fit": null,
            "grid_auto_columns": null,
            "margin": null,
            "display": null,
            "left": null
          }
        },
        "a8f06bd9d74d4261bf173fb6d4df2316": {
          "model_module": "@jupyter-widgets/controls",
          "model_name": "HBoxModel",
          "model_module_version": "1.5.0",
          "state": {
            "_view_name": "HBoxView",
            "_dom_classes": [],
            "_model_name": "HBoxModel",
            "_view_module": "@jupyter-widgets/controls",
            "_model_module_version": "1.5.0",
            "_view_count": null,
            "_view_module_version": "1.5.0",
            "box_style": "",
            "layout": "IPY_MODEL_a987da72ae5f44c9882f09ea964b22d1",
            "_model_module": "@jupyter-widgets/controls",
            "children": [
              "IPY_MODEL_dfb5f51579e045dfad331b1926d553ab",
              "IPY_MODEL_19fc225fa79e40e6ae63244466abb4bf",
              "IPY_MODEL_e9ca36d117624853b59966eb6b42763e"
            ]
          }
        },
        "a987da72ae5f44c9882f09ea964b22d1": {
          "model_module": "@jupyter-widgets/base",
          "model_name": "LayoutModel",
          "model_module_version": "1.2.0",
          "state": {
            "_view_name": "LayoutView",
            "grid_template_rows": null,
            "right": null,
            "justify_content": null,
            "_view_module": "@jupyter-widgets/base",
            "overflow": null,
            "_model_module_version": "1.2.0",
            "_view_count": null,
            "flex_flow": null,
            "width": null,
            "min_width": null,
            "border": null,
            "align_items": null,
            "bottom": null,
            "_model_module": "@jupyter-widgets/base",
            "top": null,
            "grid_column": null,
            "overflow_y": null,
            "overflow_x": null,
            "grid_auto_flow": null,
            "grid_area": null,
            "grid_template_columns": null,
            "flex": null,
            "_model_name": "LayoutModel",
            "justify_items": null,
            "grid_row": null,
            "max_height": null,
            "align_content": null,
            "visibility": null,
            "align_self": null,
            "height": null,
            "min_height": null,
            "padding": null,
            "grid_auto_rows": null,
            "grid_gap": null,
            "max_width": null,
            "order": null,
            "_view_module_version": "1.2.0",
            "grid_template_areas": null,
            "object_position": null,
            "object_fit": null,
            "grid_auto_columns": null,
            "margin": null,
            "display": null,
            "left": null
          }
        },
        "dfb5f51579e045dfad331b1926d553ab": {
          "model_module": "@jupyter-widgets/controls",
          "model_name": "HTMLModel",
          "model_module_version": "1.5.0",
          "state": {
            "_view_name": "HTMLView",
            "style": "IPY_MODEL_5d2cbaa14138455ba04ba2ae4ccfd8c3",
            "_dom_classes": [],
            "description": "",
            "_model_name": "HTMLModel",
            "placeholder": "​",
            "_view_module": "@jupyter-widgets/controls",
            "_model_module_version": "1.5.0",
            "value": "",
            "_view_count": null,
            "_view_module_version": "1.5.0",
            "description_tooltip": null,
            "_model_module": "@jupyter-widgets/controls",
            "layout": "IPY_MODEL_a92999f57c674474bc989c08798d9a7e"
          }
        },
        "19fc225fa79e40e6ae63244466abb4bf": {
          "model_module": "@jupyter-widgets/controls",
          "model_name": "FloatProgressModel",
          "model_module_version": "1.5.0",
          "state": {
            "_view_name": "ProgressView",
            "style": "IPY_MODEL_6f442d0780bf48298d8fe247254ad2de",
            "_dom_classes": [],
            "description": "",
            "_model_name": "FloatProgressModel",
            "bar_style": "success",
            "max": 29515,
            "_view_module": "@jupyter-widgets/controls",
            "_model_module_version": "1.5.0",
            "value": 29515,
            "_view_count": null,
            "_view_module_version": "1.5.0",
            "orientation": "horizontal",
            "min": 0,
            "description_tooltip": null,
            "_model_module": "@jupyter-widgets/controls",
            "layout": "IPY_MODEL_b143d0bd6e8a4a4c885f64c6a2f80f0c"
          }
        },
        "e9ca36d117624853b59966eb6b42763e": {
          "model_module": "@jupyter-widgets/controls",
          "model_name": "HTMLModel",
          "model_module_version": "1.5.0",
          "state": {
            "_view_name": "HTMLView",
            "style": "IPY_MODEL_425e7f8c714d4382b1e128964d7b8791",
            "_dom_classes": [],
            "description": "",
            "_model_name": "HTMLModel",
            "placeholder": "​",
            "_view_module": "@jupyter-widgets/controls",
            "_model_module_version": "1.5.0",
            "value": " 29696/? [00:00&lt;00:00, 55866.43it/s]",
            "_view_count": null,
            "_view_module_version": "1.5.0",
            "description_tooltip": null,
            "_model_module": "@jupyter-widgets/controls",
            "layout": "IPY_MODEL_3190b8a9405f41e4ab80de63babd25ac"
          }
        },
        "5d2cbaa14138455ba04ba2ae4ccfd8c3": {
          "model_module": "@jupyter-widgets/controls",
          "model_name": "DescriptionStyleModel",
          "model_module_version": "1.5.0",
          "state": {
            "_view_name": "StyleView",
            "_model_name": "DescriptionStyleModel",
            "description_width": "",
            "_view_module": "@jupyter-widgets/base",
            "_model_module_version": "1.5.0",
            "_view_count": null,
            "_view_module_version": "1.2.0",
            "_model_module": "@jupyter-widgets/controls"
          }
        },
        "a92999f57c674474bc989c08798d9a7e": {
          "model_module": "@jupyter-widgets/base",
          "model_name": "LayoutModel",
          "model_module_version": "1.2.0",
          "state": {
            "_view_name": "LayoutView",
            "grid_template_rows": null,
            "right": null,
            "justify_content": null,
            "_view_module": "@jupyter-widgets/base",
            "overflow": null,
            "_model_module_version": "1.2.0",
            "_view_count": null,
            "flex_flow": null,
            "width": null,
            "min_width": null,
            "border": null,
            "align_items": null,
            "bottom": null,
            "_model_module": "@jupyter-widgets/base",
            "top": null,
            "grid_column": null,
            "overflow_y": null,
            "overflow_x": null,
            "grid_auto_flow": null,
            "grid_area": null,
            "grid_template_columns": null,
            "flex": null,
            "_model_name": "LayoutModel",
            "justify_items": null,
            "grid_row": null,
            "max_height": null,
            "align_content": null,
            "visibility": null,
            "align_self": null,
            "height": null,
            "min_height": null,
            "padding": null,
            "grid_auto_rows": null,
            "grid_gap": null,
            "max_width": null,
            "order": null,
            "_view_module_version": "1.2.0",
            "grid_template_areas": null,
            "object_position": null,
            "object_fit": null,
            "grid_auto_columns": null,
            "margin": null,
            "display": null,
            "left": null
          }
        },
        "6f442d0780bf48298d8fe247254ad2de": {
          "model_module": "@jupyter-widgets/controls",
          "model_name": "ProgressStyleModel",
          "model_module_version": "1.5.0",
          "state": {
            "_view_name": "StyleView",
            "_model_name": "ProgressStyleModel",
            "description_width": "",
            "_view_module": "@jupyter-widgets/base",
            "_model_module_version": "1.5.0",
            "_view_count": null,
            "_view_module_version": "1.2.0",
            "bar_color": null,
            "_model_module": "@jupyter-widgets/controls"
          }
        },
        "b143d0bd6e8a4a4c885f64c6a2f80f0c": {
          "model_module": "@jupyter-widgets/base",
          "model_name": "LayoutModel",
          "model_module_version": "1.2.0",
          "state": {
            "_view_name": "LayoutView",
            "grid_template_rows": null,
            "right": null,
            "justify_content": null,
            "_view_module": "@jupyter-widgets/base",
            "overflow": null,
            "_model_module_version": "1.2.0",
            "_view_count": null,
            "flex_flow": null,
            "width": null,
            "min_width": null,
            "border": null,
            "align_items": null,
            "bottom": null,
            "_model_module": "@jupyter-widgets/base",
            "top": null,
            "grid_column": null,
            "overflow_y": null,
            "overflow_x": null,
            "grid_auto_flow": null,
            "grid_area": null,
            "grid_template_columns": null,
            "flex": null,
            "_model_name": "LayoutModel",
            "justify_items": null,
            "grid_row": null,
            "max_height": null,
            "align_content": null,
            "visibility": null,
            "align_self": null,
            "height": null,
            "min_height": null,
            "padding": null,
            "grid_auto_rows": null,
            "grid_gap": null,
            "max_width": null,
            "order": null,
            "_view_module_version": "1.2.0",
            "grid_template_areas": null,
            "object_position": null,
            "object_fit": null,
            "grid_auto_columns": null,
            "margin": null,
            "display": null,
            "left": null
          }
        },
        "425e7f8c714d4382b1e128964d7b8791": {
          "model_module": "@jupyter-widgets/controls",
          "model_name": "DescriptionStyleModel",
          "model_module_version": "1.5.0",
          "state": {
            "_view_name": "StyleView",
            "_model_name": "DescriptionStyleModel",
            "description_width": "",
            "_view_module": "@jupyter-widgets/base",
            "_model_module_version": "1.5.0",
            "_view_count": null,
            "_view_module_version": "1.2.0",
            "_model_module": "@jupyter-widgets/controls"
          }
        },
        "3190b8a9405f41e4ab80de63babd25ac": {
          "model_module": "@jupyter-widgets/base",
          "model_name": "LayoutModel",
          "model_module_version": "1.2.0",
          "state": {
            "_view_name": "LayoutView",
            "grid_template_rows": null,
            "right": null,
            "justify_content": null,
            "_view_module": "@jupyter-widgets/base",
            "overflow": null,
            "_model_module_version": "1.2.0",
            "_view_count": null,
            "flex_flow": null,
            "width": null,
            "min_width": null,
            "border": null,
            "align_items": null,
            "bottom": null,
            "_model_module": "@jupyter-widgets/base",
            "top": null,
            "grid_column": null,
            "overflow_y": null,
            "overflow_x": null,
            "grid_auto_flow": null,
            "grid_area": null,
            "grid_template_columns": null,
            "flex": null,
            "_model_name": "LayoutModel",
            "justify_items": null,
            "grid_row": null,
            "max_height": null,
            "align_content": null,
            "visibility": null,
            "align_self": null,
            "height": null,
            "min_height": null,
            "padding": null,
            "grid_auto_rows": null,
            "grid_gap": null,
            "max_width": null,
            "order": null,
            "_view_module_version": "1.2.0",
            "grid_template_areas": null,
            "object_position": null,
            "object_fit": null,
            "grid_auto_columns": null,
            "margin": null,
            "display": null,
            "left": null
          }
        },
        "0a4783e4268d4f18b1bae0641eba5f4a": {
          "model_module": "@jupyter-widgets/controls",
          "model_name": "HBoxModel",
          "model_module_version": "1.5.0",
          "state": {
            "_view_name": "HBoxView",
            "_dom_classes": [],
            "_model_name": "HBoxModel",
            "_view_module": "@jupyter-widgets/controls",
            "_model_module_version": "1.5.0",
            "_view_count": null,
            "_view_module_version": "1.5.0",
            "box_style": "",
            "layout": "IPY_MODEL_39626dd0f7cc4bd8ba51327f3a729065",
            "_model_module": "@jupyter-widgets/controls",
            "children": [
              "IPY_MODEL_6ea27d8d75f34318ab3eac632276be0b",
              "IPY_MODEL_9c835b53e2f343d08f473bbe19b06b95",
              "IPY_MODEL_ec86c50824854f72abc175bb40885d13"
            ]
          }
        },
        "39626dd0f7cc4bd8ba51327f3a729065": {
          "model_module": "@jupyter-widgets/base",
          "model_name": "LayoutModel",
          "model_module_version": "1.2.0",
          "state": {
            "_view_name": "LayoutView",
            "grid_template_rows": null,
            "right": null,
            "justify_content": null,
            "_view_module": "@jupyter-widgets/base",
            "overflow": null,
            "_model_module_version": "1.2.0",
            "_view_count": null,
            "flex_flow": null,
            "width": null,
            "min_width": null,
            "border": null,
            "align_items": null,
            "bottom": null,
            "_model_module": "@jupyter-widgets/base",
            "top": null,
            "grid_column": null,
            "overflow_y": null,
            "overflow_x": null,
            "grid_auto_flow": null,
            "grid_area": null,
            "grid_template_columns": null,
            "flex": null,
            "_model_name": "LayoutModel",
            "justify_items": null,
            "grid_row": null,
            "max_height": null,
            "align_content": null,
            "visibility": null,
            "align_self": null,
            "height": null,
            "min_height": null,
            "padding": null,
            "grid_auto_rows": null,
            "grid_gap": null,
            "max_width": null,
            "order": null,
            "_view_module_version": "1.2.0",
            "grid_template_areas": null,
            "object_position": null,
            "object_fit": null,
            "grid_auto_columns": null,
            "margin": null,
            "display": null,
            "left": null
          }
        },
        "6ea27d8d75f34318ab3eac632276be0b": {
          "model_module": "@jupyter-widgets/controls",
          "model_name": "HTMLModel",
          "model_module_version": "1.5.0",
          "state": {
            "_view_name": "HTMLView",
            "style": "IPY_MODEL_1fe032d66bea4f029cfc716f4a0c8103",
            "_dom_classes": [],
            "description": "",
            "_model_name": "HTMLModel",
            "placeholder": "​",
            "_view_module": "@jupyter-widgets/controls",
            "_model_module_version": "1.5.0",
            "value": "",
            "_view_count": null,
            "_view_module_version": "1.5.0",
            "description_tooltip": null,
            "_model_module": "@jupyter-widgets/controls",
            "layout": "IPY_MODEL_a969957545d94a9aab02deb067606ece"
          }
        },
        "9c835b53e2f343d08f473bbe19b06b95": {
          "model_module": "@jupyter-widgets/controls",
          "model_name": "FloatProgressModel",
          "model_module_version": "1.5.0",
          "state": {
            "_view_name": "ProgressView",
            "style": "IPY_MODEL_90c69bcad96f48e8a9f4332dd3a9abc8",
            "_dom_classes": [],
            "description": "",
            "_model_name": "FloatProgressModel",
            "bar_style": "success",
            "max": 4422102,
            "_view_module": "@jupyter-widgets/controls",
            "_model_module_version": "1.5.0",
            "value": 4422102,
            "_view_count": null,
            "_view_module_version": "1.5.0",
            "orientation": "horizontal",
            "min": 0,
            "description_tooltip": null,
            "_model_module": "@jupyter-widgets/controls",
            "layout": "IPY_MODEL_60bf9fdd05934169825fa9238a7066a1"
          }
        },
        "ec86c50824854f72abc175bb40885d13": {
          "model_module": "@jupyter-widgets/controls",
          "model_name": "HTMLModel",
          "model_module_version": "1.5.0",
          "state": {
            "_view_name": "HTMLView",
            "style": "IPY_MODEL_bd5028e366a04ee48b692da558f7cf7f",
            "_dom_classes": [],
            "description": "",
            "_model_name": "HTMLModel",
            "placeholder": "​",
            "_view_module": "@jupyter-widgets/controls",
            "_model_module_version": "1.5.0",
            "value": " 4422656/? [00:02&lt;00:00, 3367699.22it/s]",
            "_view_count": null,
            "_view_module_version": "1.5.0",
            "description_tooltip": null,
            "_model_module": "@jupyter-widgets/controls",
            "layout": "IPY_MODEL_95c7bf61064b491a8b1bf0273b7cd75f"
          }
        },
        "1fe032d66bea4f029cfc716f4a0c8103": {
          "model_module": "@jupyter-widgets/controls",
          "model_name": "DescriptionStyleModel",
          "model_module_version": "1.5.0",
          "state": {
            "_view_name": "StyleView",
            "_model_name": "DescriptionStyleModel",
            "description_width": "",
            "_view_module": "@jupyter-widgets/base",
            "_model_module_version": "1.5.0",
            "_view_count": null,
            "_view_module_version": "1.2.0",
            "_model_module": "@jupyter-widgets/controls"
          }
        },
        "a969957545d94a9aab02deb067606ece": {
          "model_module": "@jupyter-widgets/base",
          "model_name": "LayoutModel",
          "model_module_version": "1.2.0",
          "state": {
            "_view_name": "LayoutView",
            "grid_template_rows": null,
            "right": null,
            "justify_content": null,
            "_view_module": "@jupyter-widgets/base",
            "overflow": null,
            "_model_module_version": "1.2.0",
            "_view_count": null,
            "flex_flow": null,
            "width": null,
            "min_width": null,
            "border": null,
            "align_items": null,
            "bottom": null,
            "_model_module": "@jupyter-widgets/base",
            "top": null,
            "grid_column": null,
            "overflow_y": null,
            "overflow_x": null,
            "grid_auto_flow": null,
            "grid_area": null,
            "grid_template_columns": null,
            "flex": null,
            "_model_name": "LayoutModel",
            "justify_items": null,
            "grid_row": null,
            "max_height": null,
            "align_content": null,
            "visibility": null,
            "align_self": null,
            "height": null,
            "min_height": null,
            "padding": null,
            "grid_auto_rows": null,
            "grid_gap": null,
            "max_width": null,
            "order": null,
            "_view_module_version": "1.2.0",
            "grid_template_areas": null,
            "object_position": null,
            "object_fit": null,
            "grid_auto_columns": null,
            "margin": null,
            "display": null,
            "left": null
          }
        },
        "90c69bcad96f48e8a9f4332dd3a9abc8": {
          "model_module": "@jupyter-widgets/controls",
          "model_name": "ProgressStyleModel",
          "model_module_version": "1.5.0",
          "state": {
            "_view_name": "StyleView",
            "_model_name": "ProgressStyleModel",
            "description_width": "",
            "_view_module": "@jupyter-widgets/base",
            "_model_module_version": "1.5.0",
            "_view_count": null,
            "_view_module_version": "1.2.0",
            "bar_color": null,
            "_model_module": "@jupyter-widgets/controls"
          }
        },
        "60bf9fdd05934169825fa9238a7066a1": {
          "model_module": "@jupyter-widgets/base",
          "model_name": "LayoutModel",
          "model_module_version": "1.2.0",
          "state": {
            "_view_name": "LayoutView",
            "grid_template_rows": null,
            "right": null,
            "justify_content": null,
            "_view_module": "@jupyter-widgets/base",
            "overflow": null,
            "_model_module_version": "1.2.0",
            "_view_count": null,
            "flex_flow": null,
            "width": null,
            "min_width": null,
            "border": null,
            "align_items": null,
            "bottom": null,
            "_model_module": "@jupyter-widgets/base",
            "top": null,
            "grid_column": null,
            "overflow_y": null,
            "overflow_x": null,
            "grid_auto_flow": null,
            "grid_area": null,
            "grid_template_columns": null,
            "flex": null,
            "_model_name": "LayoutModel",
            "justify_items": null,
            "grid_row": null,
            "max_height": null,
            "align_content": null,
            "visibility": null,
            "align_self": null,
            "height": null,
            "min_height": null,
            "padding": null,
            "grid_auto_rows": null,
            "grid_gap": null,
            "max_width": null,
            "order": null,
            "_view_module_version": "1.2.0",
            "grid_template_areas": null,
            "object_position": null,
            "object_fit": null,
            "grid_auto_columns": null,
            "margin": null,
            "display": null,
            "left": null
          }
        },
        "bd5028e366a04ee48b692da558f7cf7f": {
          "model_module": "@jupyter-widgets/controls",
          "model_name": "DescriptionStyleModel",
          "model_module_version": "1.5.0",
          "state": {
            "_view_name": "StyleView",
            "_model_name": "DescriptionStyleModel",
            "description_width": "",
            "_view_module": "@jupyter-widgets/base",
            "_model_module_version": "1.5.0",
            "_view_count": null,
            "_view_module_version": "1.2.0",
            "_model_module": "@jupyter-widgets/controls"
          }
        },
        "95c7bf61064b491a8b1bf0273b7cd75f": {
          "model_module": "@jupyter-widgets/base",
          "model_name": "LayoutModel",
          "model_module_version": "1.2.0",
          "state": {
            "_view_name": "LayoutView",
            "grid_template_rows": null,
            "right": null,
            "justify_content": null,
            "_view_module": "@jupyter-widgets/base",
            "overflow": null,
            "_model_module_version": "1.2.0",
            "_view_count": null,
            "flex_flow": null,
            "width": null,
            "min_width": null,
            "border": null,
            "align_items": null,
            "bottom": null,
            "_model_module": "@jupyter-widgets/base",
            "top": null,
            "grid_column": null,
            "overflow_y": null,
            "overflow_x": null,
            "grid_auto_flow": null,
            "grid_area": null,
            "grid_template_columns": null,
            "flex": null,
            "_model_name": "LayoutModel",
            "justify_items": null,
            "grid_row": null,
            "max_height": null,
            "align_content": null,
            "visibility": null,
            "align_self": null,
            "height": null,
            "min_height": null,
            "padding": null,
            "grid_auto_rows": null,
            "grid_gap": null,
            "max_width": null,
            "order": null,
            "_view_module_version": "1.2.0",
            "grid_template_areas": null,
            "object_position": null,
            "object_fit": null,
            "grid_auto_columns": null,
            "margin": null,
            "display": null,
            "left": null
          }
        },
        "62347cac903745dd95612ca60c26b0d8": {
          "model_module": "@jupyter-widgets/controls",
          "model_name": "HBoxModel",
          "model_module_version": "1.5.0",
          "state": {
            "_view_name": "HBoxView",
            "_dom_classes": [],
            "_model_name": "HBoxModel",
            "_view_module": "@jupyter-widgets/controls",
            "_model_module_version": "1.5.0",
            "_view_count": null,
            "_view_module_version": "1.5.0",
            "box_style": "",
            "layout": "IPY_MODEL_3a0667813336475fbfc12baf6c2c921d",
            "_model_module": "@jupyter-widgets/controls",
            "children": [
              "IPY_MODEL_6c40f6c2310c453194d585aaa2ae16e9",
              "IPY_MODEL_5b00d602029d4c5ab099ffe530fb539b",
              "IPY_MODEL_fab43ad5dc7d47fd8eb89a0ae24d5621"
            ]
          }
        },
        "3a0667813336475fbfc12baf6c2c921d": {
          "model_module": "@jupyter-widgets/base",
          "model_name": "LayoutModel",
          "model_module_version": "1.2.0",
          "state": {
            "_view_name": "LayoutView",
            "grid_template_rows": null,
            "right": null,
            "justify_content": null,
            "_view_module": "@jupyter-widgets/base",
            "overflow": null,
            "_model_module_version": "1.2.0",
            "_view_count": null,
            "flex_flow": null,
            "width": null,
            "min_width": null,
            "border": null,
            "align_items": null,
            "bottom": null,
            "_model_module": "@jupyter-widgets/base",
            "top": null,
            "grid_column": null,
            "overflow_y": null,
            "overflow_x": null,
            "grid_auto_flow": null,
            "grid_area": null,
            "grid_template_columns": null,
            "flex": null,
            "_model_name": "LayoutModel",
            "justify_items": null,
            "grid_row": null,
            "max_height": null,
            "align_content": null,
            "visibility": null,
            "align_self": null,
            "height": null,
            "min_height": null,
            "padding": null,
            "grid_auto_rows": null,
            "grid_gap": null,
            "max_width": null,
            "order": null,
            "_view_module_version": "1.2.0",
            "grid_template_areas": null,
            "object_position": null,
            "object_fit": null,
            "grid_auto_columns": null,
            "margin": null,
            "display": null,
            "left": null
          }
        },
        "6c40f6c2310c453194d585aaa2ae16e9": {
          "model_module": "@jupyter-widgets/controls",
          "model_name": "HTMLModel",
          "model_module_version": "1.5.0",
          "state": {
            "_view_name": "HTMLView",
            "style": "IPY_MODEL_a5f29285b1f6425b962af8b902372f99",
            "_dom_classes": [],
            "description": "",
            "_model_name": "HTMLModel",
            "placeholder": "​",
            "_view_module": "@jupyter-widgets/controls",
            "_model_module_version": "1.5.0",
            "value": "",
            "_view_count": null,
            "_view_module_version": "1.5.0",
            "description_tooltip": null,
            "_model_module": "@jupyter-widgets/controls",
            "layout": "IPY_MODEL_e41c49113fa74b40911982d86528ba70"
          }
        },
        "5b00d602029d4c5ab099ffe530fb539b": {
          "model_module": "@jupyter-widgets/controls",
          "model_name": "FloatProgressModel",
          "model_module_version": "1.5.0",
          "state": {
            "_view_name": "ProgressView",
            "style": "IPY_MODEL_1f43d0d10e5f4526a57aa5e20c98417e",
            "_dom_classes": [],
            "description": "",
            "_model_name": "FloatProgressModel",
            "bar_style": "success",
            "max": 5148,
            "_view_module": "@jupyter-widgets/controls",
            "_model_module_version": "1.5.0",
            "value": 5148,
            "_view_count": null,
            "_view_module_version": "1.5.0",
            "orientation": "horizontal",
            "min": 0,
            "description_tooltip": null,
            "_model_module": "@jupyter-widgets/controls",
            "layout": "IPY_MODEL_4990ca7b4bc6457f85bd2525b6290b6d"
          }
        },
        "fab43ad5dc7d47fd8eb89a0ae24d5621": {
          "model_module": "@jupyter-widgets/controls",
          "model_name": "HTMLModel",
          "model_module_version": "1.5.0",
          "state": {
            "_view_name": "HTMLView",
            "style": "IPY_MODEL_b9e8ef5a535f472998675e483953f1ec",
            "_dom_classes": [],
            "description": "",
            "_model_name": "HTMLModel",
            "placeholder": "​",
            "_view_module": "@jupyter-widgets/controls",
            "_model_module_version": "1.5.0",
            "value": " 6144/? [00:00&lt;00:00, 157736.97it/s]",
            "_view_count": null,
            "_view_module_version": "1.5.0",
            "description_tooltip": null,
            "_model_module": "@jupyter-widgets/controls",
            "layout": "IPY_MODEL_4605a05c0f77418cad7ac33420f63316"
          }
        },
        "a5f29285b1f6425b962af8b902372f99": {
          "model_module": "@jupyter-widgets/controls",
          "model_name": "DescriptionStyleModel",
          "model_module_version": "1.5.0",
          "state": {
            "_view_name": "StyleView",
            "_model_name": "DescriptionStyleModel",
            "description_width": "",
            "_view_module": "@jupyter-widgets/base",
            "_model_module_version": "1.5.0",
            "_view_count": null,
            "_view_module_version": "1.2.0",
            "_model_module": "@jupyter-widgets/controls"
          }
        },
        "e41c49113fa74b40911982d86528ba70": {
          "model_module": "@jupyter-widgets/base",
          "model_name": "LayoutModel",
          "model_module_version": "1.2.0",
          "state": {
            "_view_name": "LayoutView",
            "grid_template_rows": null,
            "right": null,
            "justify_content": null,
            "_view_module": "@jupyter-widgets/base",
            "overflow": null,
            "_model_module_version": "1.2.0",
            "_view_count": null,
            "flex_flow": null,
            "width": null,
            "min_width": null,
            "border": null,
            "align_items": null,
            "bottom": null,
            "_model_module": "@jupyter-widgets/base",
            "top": null,
            "grid_column": null,
            "overflow_y": null,
            "overflow_x": null,
            "grid_auto_flow": null,
            "grid_area": null,
            "grid_template_columns": null,
            "flex": null,
            "_model_name": "LayoutModel",
            "justify_items": null,
            "grid_row": null,
            "max_height": null,
            "align_content": null,
            "visibility": null,
            "align_self": null,
            "height": null,
            "min_height": null,
            "padding": null,
            "grid_auto_rows": null,
            "grid_gap": null,
            "max_width": null,
            "order": null,
            "_view_module_version": "1.2.0",
            "grid_template_areas": null,
            "object_position": null,
            "object_fit": null,
            "grid_auto_columns": null,
            "margin": null,
            "display": null,
            "left": null
          }
        },
        "1f43d0d10e5f4526a57aa5e20c98417e": {
          "model_module": "@jupyter-widgets/controls",
          "model_name": "ProgressStyleModel",
          "model_module_version": "1.5.0",
          "state": {
            "_view_name": "StyleView",
            "_model_name": "ProgressStyleModel",
            "description_width": "",
            "_view_module": "@jupyter-widgets/base",
            "_model_module_version": "1.5.0",
            "_view_count": null,
            "_view_module_version": "1.2.0",
            "bar_color": null,
            "_model_module": "@jupyter-widgets/controls"
          }
        },
        "4990ca7b4bc6457f85bd2525b6290b6d": {
          "model_module": "@jupyter-widgets/base",
          "model_name": "LayoutModel",
          "model_module_version": "1.2.0",
          "state": {
            "_view_name": "LayoutView",
            "grid_template_rows": null,
            "right": null,
            "justify_content": null,
            "_view_module": "@jupyter-widgets/base",
            "overflow": null,
            "_model_module_version": "1.2.0",
            "_view_count": null,
            "flex_flow": null,
            "width": null,
            "min_width": null,
            "border": null,
            "align_items": null,
            "bottom": null,
            "_model_module": "@jupyter-widgets/base",
            "top": null,
            "grid_column": null,
            "overflow_y": null,
            "overflow_x": null,
            "grid_auto_flow": null,
            "grid_area": null,
            "grid_template_columns": null,
            "flex": null,
            "_model_name": "LayoutModel",
            "justify_items": null,
            "grid_row": null,
            "max_height": null,
            "align_content": null,
            "visibility": null,
            "align_self": null,
            "height": null,
            "min_height": null,
            "padding": null,
            "grid_auto_rows": null,
            "grid_gap": null,
            "max_width": null,
            "order": null,
            "_view_module_version": "1.2.0",
            "grid_template_areas": null,
            "object_position": null,
            "object_fit": null,
            "grid_auto_columns": null,
            "margin": null,
            "display": null,
            "left": null
          }
        },
        "b9e8ef5a535f472998675e483953f1ec": {
          "model_module": "@jupyter-widgets/controls",
          "model_name": "DescriptionStyleModel",
          "model_module_version": "1.5.0",
          "state": {
            "_view_name": "StyleView",
            "_model_name": "DescriptionStyleModel",
            "description_width": "",
            "_view_module": "@jupyter-widgets/base",
            "_model_module_version": "1.5.0",
            "_view_count": null,
            "_view_module_version": "1.2.0",
            "_model_module": "@jupyter-widgets/controls"
          }
        },
        "4605a05c0f77418cad7ac33420f63316": {
          "model_module": "@jupyter-widgets/base",
          "model_name": "LayoutModel",
          "model_module_version": "1.2.0",
          "state": {
            "_view_name": "LayoutView",
            "grid_template_rows": null,
            "right": null,
            "justify_content": null,
            "_view_module": "@jupyter-widgets/base",
            "overflow": null,
            "_model_module_version": "1.2.0",
            "_view_count": null,
            "flex_flow": null,
            "width": null,
            "min_width": null,
            "border": null,
            "align_items": null,
            "bottom": null,
            "_model_module": "@jupyter-widgets/base",
            "top": null,
            "grid_column": null,
            "overflow_y": null,
            "overflow_x": null,
            "grid_auto_flow": null,
            "grid_area": null,
            "grid_template_columns": null,
            "flex": null,
            "_model_name": "LayoutModel",
            "justify_items": null,
            "grid_row": null,
            "max_height": null,
            "align_content": null,
            "visibility": null,
            "align_self": null,
            "height": null,
            "min_height": null,
            "padding": null,
            "grid_auto_rows": null,
            "grid_gap": null,
            "max_width": null,
            "order": null,
            "_view_module_version": "1.2.0",
            "grid_template_areas": null,
            "object_position": null,
            "object_fit": null,
            "grid_auto_columns": null,
            "margin": null,
            "display": null,
            "left": null
          }
        }
      }
    }
  },
  "cells": [
    {
      "cell_type": "markdown",
      "metadata": {
        "id": "trying-hampton"
      },
      "source": [
        "## Занятие 2: Bias-variance decomposition, случайный лес"
      ],
      "id": "trying-hampton"
    },
    {
      "cell_type": "markdown",
      "metadata": {
        "id": "proved-advance"
      },
      "source": [
        "### 1. Bias-Variance decomposition"
      ],
      "id": "proved-advance"
    },
    {
      "cell_type": "markdown",
      "metadata": {
        "id": "physical-temperature"
      },
      "source": [
        "Вспомним, что функцию потерь в задачах регрессии или классификации можно разложить на три компоненты: смещение (bias), дисперсию (variance) и шум (noise). Эти компоненты позволяют описать сложность алгоритма, альтернативно сравнению ошибок на тренировочной и тестовой выборках. Хотя такое разложение можно построить для произвольной функции потерь, наиболее просто (и классически) оно строится для среднеквадратичной функции в задаче регрессии, что мы и рассмотрим ниже. \n",
        "\n",
        "Пусть $(X, y)$ – некоторая выборка. Обучим интересующий нас алгоритм на этой выборке и сделаем предсказания на ней. Обозначим предсказания как $\\hat{y}$. Тогда \n",
        "\n",
        "$$\n",
        "\\mathrm{bias} := \\mathbb{E}(\\hat{y}) - y.\n",
        "$$\n",
        "\n",
        "$$\n",
        "\\mathrm{variance} := \\mathbb{E}[\\mathbb{E}(\\hat{y}) - \\hat{y}]^2\n",
        "$$\n",
        "\n",
        "$$\n",
        "\\mathrm{noise} := \\mathbb{E}[y - \\mathbb{E}(y)]^2\n",
        "$$\n",
        "\n",
        "Ожидаемую среднеквадратичную ошибку для различных вариаций тренировочной выборки можно разложить как\n",
        "\n",
        "$$\n",
        "\\mathrm{E}[y - \\hat{y}]^2 = \\mathrm{bias}^2 + \\mathrm{variance} + \\mathrm{noise}.\n",
        "$$\n",
        "\n",
        "**Задание:** для задачи регрессии с MSE покажите, что это разложение корректно. \n",
        "\n",
        "Решение в общем виде [здесь](https://github.com/esokolov/ml-course-hse/blob/master/2020-fall/lecture-notes/lecture08-ensembles.pdf).\n"
      ],
      "id": "physical-temperature"
    },
    {
      "cell_type": "markdown",
      "metadata": {
        "id": "latin-certification"
      },
      "source": [
        "Разберёмся с интерпретацией компонент. \n",
        "\n",
        "- $\\mathrm{Bias}$ – показывает отклонение среднего ответа алгоритма от ответа идеального алгоритма. $\\mathrm{Bias}$ отражает ошибку модели, возникающую из-за простоты модели. Высокое смещение обычно является показателем того, что модель недообучена.\n",
        "\n",
        "\n",
        "- $\\mathrm{Variance}$ – показывает разброс ответов алгоритмов относительно среднего ответа алгоритма. Показывает, насколько сильно небольшие изменения в обучающей выборке скажутся на предсказаниях алгоритма. $\\mathrm{Variance}$ отражает ошибку модели, возникающую из-за чрезмерной сложности модели. Высокая дисперсия обычно является показателем того, что модель переобучена.\n",
        "\n",
        "\n",
        "- $\\mathrm{Noise}$ – ошибка идеального классификатора, естественный неустранимый шум в данных. "
      ],
      "id": "latin-certification"
    },
    {
      "cell_type": "markdown",
      "metadata": {
        "id": "unlikely-blade"
      },
      "source": [
        "Посмотрим наглядно на примере полиномиальной регрессии."
      ],
      "id": "unlikely-blade"
    },
    {
      "cell_type": "code",
      "metadata": {
        "colab": {
          "base_uri": "https://localhost:8080/"
        },
        "id": "XeEYA-dzRgBb",
        "outputId": "adcc019f-85f5-4611-d568-37f06196a4c3"
      },
      "source": [
        "!pip install mlxtend --upgrade"
      ],
      "id": "XeEYA-dzRgBb",
      "execution_count": 1,
      "outputs": [
        {
          "output_type": "stream",
          "name": "stdout",
          "text": [
            "Requirement already satisfied: mlxtend in /usr/local/lib/python3.7/dist-packages (0.18.0)\n",
            "Requirement already satisfied: pandas>=0.24.2 in /usr/local/lib/python3.7/dist-packages (from mlxtend) (1.1.5)\n",
            "Requirement already satisfied: scikit-learn>=0.20.3 in /usr/local/lib/python3.7/dist-packages (from mlxtend) (0.22.2.post1)\n",
            "Requirement already satisfied: joblib>=0.13.2 in /usr/local/lib/python3.7/dist-packages (from mlxtend) (1.0.1)\n",
            "Requirement already satisfied: setuptools in /usr/local/lib/python3.7/dist-packages (from mlxtend) (57.4.0)\n",
            "Requirement already satisfied: scipy>=1.2.1 in /usr/local/lib/python3.7/dist-packages (from mlxtend) (1.4.1)\n",
            "Requirement already satisfied: numpy>=1.16.2 in /usr/local/lib/python3.7/dist-packages (from mlxtend) (1.19.5)\n",
            "Requirement already satisfied: matplotlib>=3.0.0 in /usr/local/lib/python3.7/dist-packages (from mlxtend) (3.2.2)\n",
            "Requirement already satisfied: cycler>=0.10 in /usr/local/lib/python3.7/dist-packages (from matplotlib>=3.0.0->mlxtend) (0.10.0)\n",
            "Requirement already satisfied: kiwisolver>=1.0.1 in /usr/local/lib/python3.7/dist-packages (from matplotlib>=3.0.0->mlxtend) (1.3.1)\n",
            "Requirement already satisfied: pyparsing!=2.0.4,!=2.1.2,!=2.1.6,>=2.0.1 in /usr/local/lib/python3.7/dist-packages (from matplotlib>=3.0.0->mlxtend) (2.4.7)\n",
            "Requirement already satisfied: python-dateutil>=2.1 in /usr/local/lib/python3.7/dist-packages (from matplotlib>=3.0.0->mlxtend) (2.8.2)\n",
            "Requirement already satisfied: six in /usr/local/lib/python3.7/dist-packages (from cycler>=0.10->matplotlib>=3.0.0->mlxtend) (1.15.0)\n",
            "Requirement already satisfied: pytz>=2017.2 in /usr/local/lib/python3.7/dist-packages (from pandas>=0.24.2->mlxtend) (2018.9)\n"
          ]
        }
      ]
    },
    {
      "cell_type": "code",
      "metadata": {
        "id": "center-denver",
        "colab": {
          "base_uri": "https://localhost:8080/",
          "height": 428
        },
        "outputId": "9a2b2077-9d67-4f31-b463-11aadfa9cb21"
      },
      "source": [
        "import numpy as np\n",
        "import pandas as pd\n",
        "import matplotlib.pyplot as plt\n",
        "from sklearn.linear_model import LinearRegression\n",
        "\n",
        "# Выборка\n",
        "N = 10\n",
        "X = np.linspace(-5, 5, N).reshape(-1, 1)\n",
        "y = np.sin(X) + np.random.normal(0, 0.2, size = N).reshape(-1, 1)\n",
        "\n",
        "# Очень простая модель (регрессия на константу)\n",
        "too_simple_model_predictions = np.mean(y) * np.ones_like(y)\n",
        "\n",
        "# В меру сложная модель\n",
        "X_ok = np.hstack([X, X ** 2, X ** 3])\n",
        "ok_model = LinearRegression()\n",
        "ok_model.fit(X_ok, y)\n",
        "ok_model_predictions = ok_model.predict(X_ok)\n",
        "\n",
        "# Очень сложная модель\n",
        "X_compl = np.hstack([X, X ** 2, X ** 3, X ** 4, X ** 5, X ** 6, X ** 7, X ** 8, X ** 9, X ** 10])\n",
        "compl_model = LinearRegression()\n",
        "compl_model.fit(X_compl, y)\n",
        "compl_model_predictions = compl_model.predict(X_compl)\n",
        "\n",
        "plt.figure(figsize = (10, 7))\n",
        "\n",
        "plt.scatter(X, y)\n",
        "plt.plot(X, too_simple_model_predictions, label = 'Очень простая модель')\n",
        "plt.plot(X, ok_model_predictions, label = 'В меру сложная модель')\n",
        "plt.plot(X, compl_model_predictions, label = 'Очень сложная модель')\n",
        "plt.grid()\n",
        "plt.legend();"
      ],
      "id": "center-denver",
      "execution_count": 2,
      "outputs": [
        {
          "output_type": "display_data",
          "data": {
            "image/png": "[encoded data removed]",
            "text/plain": [
              "<Figure size 720x504 with 1 Axes>"
            ]
          },
          "metadata": {
            "needs_background": "light"
          }
        }
      ]
    },
    {
      "cell_type": "markdown",
      "metadata": {
        "id": "renewable-operations"
      },
      "source": [
        "- Очень простая модель имеет большое смещение (bias), но малую (нулевую) дисперсию (variance). Модель явно недообучена.\n",
        "\n",
        "- В меру сложная модель имеет небольшое смещение (bias) и небольшую дисперсию (variance).\n",
        "\n",
        "- Очень сложная модель имеет небольшое смещение (bias), но большую дисперсию (variance). Модель явно переобучена.\n",
        "\n",
        "**Задание:** пользуясь определениями выше, объясните, почему это так."
      ],
      "id": "renewable-operations"
    },
    {
      "cell_type": "markdown",
      "metadata": {
        "id": "played-commissioner"
      },
      "source": [
        "**Задание:** прокомментируйте величину смещения и дисперсии для следующих моделей:\n",
        "\n",
        "1. Линейная регрессия, обучаемая на большой выборке без выбросов и линейно зависимых признаков. (малые смещение и дисперсия)\n",
        "2. Решающее дерево, которое строится до тех пор, пока в листах не окажется по одному объекту. (малое смещение, высокая дисперсия)\n",
        "3. Логистическая регрессия, относящая все точки к одному классу. (большое смещение, малая дисперсия) "
      ],
      "id": "played-commissioner"
    },
    {
      "cell_type": "markdown",
      "metadata": {
        "id": "obvious-promise"
      },
      "source": [
        "### 1.A. Bias-Variance tradeoff"
      ],
      "id": "obvious-promise"
    },
    {
      "cell_type": "markdown",
      "metadata": {
        "id": "lovely-health"
      },
      "source": [
        "Из описания выше можно заметить, что при обучении моделей возникает выбор между смещением и дисперсией: недообученная модель имеет низкую дисперсию, но высокое смещение, а переобученная – низкое смещение, но высокую дисперсию. Этот выбор можно отобразить на картинке ([источник](https://www.bradyneal.com/bias-variance-tradeoff-textbooks-update))."
      ],
      "id": "lovely-health"
    },
    {
      "cell_type": "markdown",
      "metadata": {
        "id": "heard-respect"
      },
      "source": [
        "![](https://www.bradyneal.com/img/bias-variance/fortmann-roe-bias-variance.png)"
      ],
      "id": "heard-respect"
    },
    {
      "cell_type": "markdown",
      "metadata": {
        "id": "incorrect-review"
      },
      "source": [
        "Вывод из неё очевиден: строить следует оптимальные по сложности модели. \n",
        "\n",
        "Возникает ли такой выбор при обучении любой модели? Последние исследования показывают, что поведение ошибки при обучении некоторых (современных) моделей не соответствует такой U-образной форме. Например, было показано, что ошибка продолжает убывать при расширении (увеличении числа слоёв) нейронных сетей:\n",
        "\n",
        "<img src=\"https://www.bradyneal.com/img/bias-variance/neyshabur.jpg\" alt=\"drawing\" width=\"400\"/>\n",
        "\n",
        "В таких моделях поведение ошибки приобретает сложный вид:\n",
        "\n",
        "\n",
        "<img src=\"https://www.bradyneal.com/img/bias-variance/double_descent.jpg\" alt=\"drawing\" width=\"800\"/>"
      ],
      "id": "incorrect-review"
    },
    {
      "cell_type": "markdown",
      "metadata": {
        "id": "abandoned-minister"
      },
      "source": [
        "### 3. От деревьев к случайному лесу"
      ],
      "id": "abandoned-minister"
    },
    {
      "cell_type": "markdown",
      "metadata": {
        "id": "enclosed-peace"
      },
      "source": [
        "#### 3.1 Решающее дерево"
      ],
      "id": "enclosed-peace"
    },
    {
      "cell_type": "markdown",
      "metadata": {
        "id": "arabic-briefs"
      },
      "source": [
        "Мотивацию построения алгоритма случайного леса (Random Forest) удобно рассматривать в терминах смещения и дисперсии. Начнём с построения решающего дерева."
      ],
      "id": "arabic-briefs"
    },
    {
      "cell_type": "code",
      "metadata": {
        "id": "divided-sweden"
      },
      "source": [
        "# Пример отсюда: http://rasbt.github.io/mlxtend/user_guide/evaluate/bias_variance_decomp/\n",
        "\n",
        "from sklearn.model_selection import train_test_split\n",
        "from mlxtend.data import boston_housing_data\n",
        "\n",
        "X, y = boston_housing_data()\n",
        "X_train, X_test, y_train, y_test = train_test_split(X, y,\n",
        "                                                    test_size = 0.3,\n",
        "                                                    random_state = 123,\n",
        "                                                    shuffle = True)"
      ],
      "id": "divided-sweden",
      "execution_count": 3,
      "outputs": []
    },
    {
      "cell_type": "code",
      "metadata": {
        "id": "posted-wonder",
        "colab": {
          "base_uri": "https://localhost:8080/"
        },
        "outputId": "6c7deb70-4c6f-4ec2-e86b-f45352fc5151"
      },
      "source": [
        "from sklearn.tree import DecisionTreeRegressor\n",
        "from sklearn.metrics import mean_squared_error\n",
        "\n",
        "# TODO: обучите решающее дерево без ограничений на тренировочной выборке\n",
        "# TODO: рассчитайте MSE на тренировочной и тестовой выборках\n"
      ],
      "id": "posted-wonder",
      "execution_count": 4,
      "outputs": [
        {
          "output_type": "stream",
          "name": "stdout",
          "text": [
            "MSE_train:  0.0\n",
            "MSE_test:  18.670197368421054\n"
          ]
        }
      ]
    },
    {
      "cell_type": "code",
      "metadata": {
        "id": "thermal-lodge"
      },
      "source": [
        "from mlxtend.evaluate import bias_variance_decomp\n",
        "\n",
        "# TODO: воспользуйтесь функцией bias_variance_decomp и выведите среднее смещение и среднюю дисперсию модели\n",
        "# на тестовой выборке\n",
        "_, avg_bias, avg_var = #your code here"
      ],
      "id": "thermal-lodge",
      "execution_count": 5,
      "outputs": []
    },
    {
      "cell_type": "code",
      "metadata": {
        "id": "sound-roots",
        "colab": {
          "base_uri": "https://localhost:8080/"
        },
        "outputId": "e35c4bf6-4082-4b16-a75e-d2d4588c7673"
      },
      "source": [
        "avg_bias"
      ],
      "id": "sound-roots",
      "execution_count": 6,
      "outputs": [
        {
          "output_type": "execute_result",
          "data": {
            "text/plain": [
              "14.085054067434214"
            ]
          },
          "metadata": {},
          "execution_count": 6
        }
      ]
    },
    {
      "cell_type": "code",
      "metadata": {
        "id": "sixth-grave",
        "colab": {
          "base_uri": "https://localhost:8080/"
        },
        "outputId": "66f56f78-7ddf-4205-85bf-8c3662cf7a2c"
      },
      "source": [
        "avg_var"
      ],
      "id": "sixth-grave",
      "execution_count": 7,
      "outputs": [
        {
          "output_type": "execute_result",
          "data": {
            "text/plain": [
              "17.642321261513157"
            ]
          },
          "metadata": {},
          "execution_count": 7
        }
      ]
    },
    {
      "cell_type": "markdown",
      "metadata": {
        "id": "curious-sugar"
      },
      "source": [
        "Как мы обсуждали на предыдущем семинаре, такое дерево окажется сильно переобученным (высокая дисперсия и низкое смещение). Постараемся исправить это. На лекции мы обсуждали, что один из способов борьбы с переобучением – построение композиций моделей. На этом семинаре мы рассмотрим построение композиций при помощи бэггинга."
      ],
      "id": "curious-sugar"
    },
    {
      "cell_type": "markdown",
      "metadata": {
        "id": "industrial-summary"
      },
      "source": [
        "#### 3.2 Бэггинг\n",
        "\n",
        "Вспомним суть алгоритма:\n",
        "\n",
        "1. Обучаем много деревьев на бутстрапированных подвыборках исходной выборки независимо друг от друга. Бутстрапированную подвыборку строим при помощи выбора $N$ (размер исходной выборки) наблюдений из исходной выборки с возвращением. \n",
        "\n",
        "2. Усредняем предсказания всех моделей (например, берём арифметическое среднее). \n",
        "\n",
        "Можно показать, что модель, построенная при помощи бэггинга, будет иметь **то же смещение**, что и у отдельных деревьев, но значительно **меньшую дисперсию** (при выполнении некоторых условий). "
      ],
      "id": "industrial-summary"
    },
    {
      "cell_type": "code",
      "metadata": {
        "id": "expired-skill"
      },
      "source": [
        "from sklearn.ensemble import BaggingRegressor\n",
        "\n",
        "base_tree = DecisionTreeRegressor(random_state = 123)\n",
        "\n",
        "# TODO: обучите бэггинг с 20 деревьями, каждое из которых строится без ограничений\n",
        "# TODO: выведите среднее смещение и среднюю дисперсию модели на тестовой выборке"
      ],
      "id": "expired-skill",
      "execution_count": 8,
      "outputs": []
    },
    {
      "cell_type": "code",
      "metadata": {
        "id": "rolled-thong",
        "colab": {
          "base_uri": "https://localhost:8080/"
        },
        "outputId": "8a8ebf81-68e3-424f-ed76-3eae562e1ce7"
      },
      "source": [
        "avg_bias"
      ],
      "id": "rolled-thong",
      "execution_count": 9,
      "outputs": [
        {
          "output_type": "execute_result",
          "data": {
            "text/plain": [
              "15.649019913819906"
            ]
          },
          "metadata": {},
          "execution_count": 9
        }
      ]
    },
    {
      "cell_type": "code",
      "metadata": {
        "id": "artificial-viewer",
        "colab": {
          "base_uri": "https://localhost:8080/"
        },
        "outputId": "eb2e6c46-8790-46b0-ff4d-5e1eaa2c8f64"
      },
      "source": [
        "avg_var"
      ],
      "id": "artificial-viewer",
      "execution_count": 10,
      "outputs": [
        {
          "output_type": "execute_result",
          "data": {
            "text/plain": [
              "3.8115025606866775"
            ]
          },
          "metadata": {},
          "execution_count": 10
        }
      ]
    },
    {
      "cell_type": "markdown",
      "metadata": {
        "id": "serious-snake"
      },
      "source": [
        "Как мы видим, по сравнению с единичным деревом смещение практически не изменилось, но дисперсия уменьшилась в несколько раз!\n",
        "\n",
        "Посмотрим, как это отразилось на среднеквадратичной ошибке."
      ],
      "id": "serious-snake"
    },
    {
      "cell_type": "code",
      "metadata": {
        "id": "verbal-dream",
        "colab": {
          "base_uri": "https://localhost:8080/"
        },
        "outputId": "700fe7fb-3ebc-4a17-cc8d-cd91da05fd84"
      },
      "source": [
        "# TODO: рассчитайте MSE на тренировочной и тестовой выборках для бэггинга"
      ],
      "id": "verbal-dream",
      "execution_count": 11,
      "outputs": [
        {
          "output_type": "stream",
          "name": "stdout",
          "text": [
            "MSE_train:  4.260909180790959\n",
            "MSE_test:  15.947215789473681\n"
          ]
        }
      ]
    },
    {
      "cell_type": "markdown",
      "metadata": {
        "id": "antique-baltimore"
      },
      "source": [
        "Среднеквадратичная ошибка на тренировочной выборке больше не равна 0, а на тестовой – уменьшилась, что говорит о том, что мы успешно победили переобучение единичного решающего дерева. \n",
        "\n",
        "Можем ли мы снизить переобучение ещё сильнее? Можем!"
      ],
      "id": "antique-baltimore"
    },
    {
      "cell_type": "markdown",
      "metadata": {
        "id": "overall-adjustment"
      },
      "source": [
        "#### 3.3 Случайный лес"
      ],
      "id": "overall-adjustment"
    },
    {
      "cell_type": "markdown",
      "metadata": {
        "id": "solar-stewart"
      },
      "source": [
        "При построении каждого дерева в бэггинге в ходе создания очередного узла будем выбирать случайный набор признаков, на основе которых производится разбиение. В результате такой процедуры мы уменьшим корреляцию между деревьями, за счёт чего снизим дисперсию итоговой модели. Такой алгоритм назвывается **случайным лесом** (Random Forest). \n",
        "\n",
        "По сравнению с единичным деревом к параметрам случайного леса добавляются:\n",
        "- `max_features` – число признаков, на основе которых проводятся разбиения при построении дерева.\n",
        "\n",
        "- `n_estimators` – число деревьев. \n",
        "\n",
        "Естественно, все параметры, относящиеся к единичному дереву, сохраняются для случайного леса."
      ],
      "id": "solar-stewart"
    },
    {
      "cell_type": "code",
      "metadata": {
        "id": "controlling-somewhere",
        "colab": {
          "base_uri": "https://localhost:8080/"
        },
        "outputId": "c96d0e91-c232-403d-eafb-a20fe07e3e90"
      },
      "source": [
        "from sklearn.ensemble import RandomForestRegressor\n",
        "\n",
        "# TODO: обучите случайный лес с 20 деревьями, каждое из которых строится без ограничений\n",
        "# TODO: выведите среднее смещение и среднюю дисперсию модели на тестовой выборке\n",
        "# TODO: рассчитайте MSE на тренировочной и тестовой выборках для случайного леса"
      ],
      "id": "controlling-somewhere",
      "execution_count": 12,
      "outputs": [
        {
          "output_type": "stream",
          "name": "stdout",
          "text": [
            "MSE_train:  4.354707203389831\n",
            "MSE_test:  16.35502664473684\n"
          ]
        }
      ]
    },
    {
      "cell_type": "code",
      "metadata": {
        "id": "regulation-remark",
        "colab": {
          "base_uri": "https://localhost:8080/"
        },
        "outputId": "c1fb9c39-7e17-4ff6-9f3b-bb740a6b2be0"
      },
      "source": [
        "avg_bias"
      ],
      "id": "regulation-remark",
      "execution_count": 13,
      "outputs": [
        {
          "output_type": "execute_result",
          "data": {
            "text/plain": [
              "15.659784935115125"
            ]
          },
          "metadata": {},
          "execution_count": 13
        }
      ]
    },
    {
      "cell_type": "code",
      "metadata": {
        "id": "necessary-fourth",
        "colab": {
          "base_uri": "https://localhost:8080/"
        },
        "outputId": "8b747cb3-9c59-4f83-9c9d-3b177b04f151"
      },
      "source": [
        "avg_var"
      ],
      "id": "necessary-fourth",
      "execution_count": 14,
      "outputs": [
        {
          "output_type": "execute_result",
          "data": {
            "text/plain": [
              "3.8181849892269732"
            ]
          },
          "metadata": {},
          "execution_count": 14
        }
      ]
    },
    {
      "cell_type": "markdown",
      "metadata": {
        "id": "behavioral-combat"
      },
      "source": [
        "Как мы видим, по сравнению с бэггингом смещение вновь осталось практически неизменным, а дисперсия немного уменьшилась. Конечно, если подобрать хорошие гиперпараметры, то получится снизить дисперсию ещё больше. \n",
        "\n",
        "Ошибка на тренировочной выборке увеличилась, а на тестовой – уменьшилась, что означает, что мы добились нашей цели в борьбе с переобученными деревьями!"
      ],
      "id": "behavioral-combat"
    },
    {
      "cell_type": "markdown",
      "metadata": {
        "id": "worth-minority"
      },
      "source": [
        "### 4. Особенности случайного леса"
      ],
      "id": "worth-minority"
    },
    {
      "cell_type": "markdown",
      "metadata": {
        "id": "quality-termination"
      },
      "source": [
        "#### 4.1 Число деревьев и \"Случайный лес не переобучается\""
      ],
      "id": "quality-termination"
    },
    {
      "cell_type": "markdown",
      "metadata": {
        "id": "challenging-turner"
      },
      "source": [
        "В своём [блоге](https://www.stat.berkeley.edu/~breiman/RandomForests/cc_home.htm#remarks) Лео Бриман (Leo Breiman), создатель случайного леса, написал следующее:\n",
        "\n",
        "> Random forest does not overfit. You can run as many trees as you want.\n",
        "\n",
        "**Обратите внимание:** как говорилось на лекции, случайный лес не переобучается именно с ростом числа деревьев (за счёт совместной работы бэггинга и использования случайных подпространств), но не в принципе. Посмотрим на поведение случайного леса при росте числа деревьев."
      ],
      "id": "challenging-turner"
    },
    {
      "cell_type": "code",
      "metadata": {
        "id": "peripheral-punch"
      },
      "source": [
        "X, y = boston_housing_data()\n",
        "X_train, X_test, y_train, y_test = train_test_split(X, y,\n",
        "                                                    test_size = 0.3,\n",
        "                                                    random_state = 123,\n",
        "                                                    shuffle = True)\n",
        "\n",
        "X_train, X_test, y_train, y_test = train_test_split(X, y, test_size = 0.3, random_state = 123)"
      ],
      "id": "peripheral-punch",
      "execution_count": 15,
      "outputs": []
    },
    {
      "cell_type": "code",
      "metadata": {
        "id": "independent-mambo",
        "colab": {
          "base_uri": "https://localhost:8080/",
          "height": 443
        },
        "outputId": "d32d368b-8df4-4154-9ea8-49b5b18865f3"
      },
      "source": [
        "n_trees = 100\n",
        "train_loss = []\n",
        "test_loss = []\n",
        "\n",
        "for i in range(1, n_trees):\n",
        "    rf = RandomForestRegressor(n_estimators = i, random_state = 123)\n",
        "    rf.fit(X_train, y_train)\n",
        "    train_loss.append(mean_squared_error(y_train, rf.predict(X_train)))\n",
        "    test_loss.append(mean_squared_error(y_test, rf.predict(X_test)))\n",
        "    \n",
        "plt.figure(figsize = (10, 7))\n",
        "plt.grid()\n",
        "plt.plot(train_loss, label = 'MSE_train')\n",
        "plt.plot(test_loss, label = 'MSE_test')\n",
        "plt.ylabel('MSE')\n",
        "plt.xlabel('# trees')\n",
        "plt.legend();"
      ],
      "id": "independent-mambo",
      "execution_count": 16,
      "outputs": [
        {
          "output_type": "display_data",
          "data": {
            "image/png": "[encoded data removed]",
            "text/plain": [
              "<Figure size 720x504 with 1 Axes>"
            ]
          },
          "metadata": {
            "needs_background": "light"
          }
        }
      ]
    },
    {
      "cell_type": "markdown",
      "metadata": {
        "id": "lucky-pattern"
      },
      "source": [
        "Как и ожидалось, по достижении некоторого числа деревьев обе ошибки практически не изменяются, то есть переобучения при росте числа деревьев не происходит.\n",
        "\n",
        "Однако в какой-нибудь другой плоскости на реальных данных переобучение может произойти: [пример 1](https://datascience.stackexchange.com/questions/1028/do-random-forest-overfit), [пример 2](https://mljar.com/blog/random-forest-overfitting/). \n",
        "\n",
        "В нашем же случае случайный лес, скорее, лишь страдает от регуляризации. Например, посмотрим на поведение модели при изменении максимальной глубины деревьев (поэксперементируйте с другими параметрами)."
      ],
      "id": "lucky-pattern"
    },
    {
      "cell_type": "code",
      "metadata": {
        "id": "personal-triumph",
        "colab": {
          "base_uri": "https://localhost:8080/",
          "height": 443
        },
        "outputId": "82821ab9-d8a2-434a-d5eb-bfff8b6a152b"
      },
      "source": [
        "max_depth = 40\n",
        "train_loss = []\n",
        "test_loss = []\n",
        "\n",
        "for i in range(1, max_depth):\n",
        "    rf = RandomForestRegressor(n_estimators = 20, max_depth = i, random_state = 123)\n",
        "    rf.fit(X_train, y_train)\n",
        "    train_loss.append(mean_squared_error(y_train, rf.predict(X_train)))\n",
        "    test_loss.append(mean_squared_error(y_test, rf.predict(X_test)))\n",
        "    \n",
        "plt.figure(figsize = (10, 7))\n",
        "plt.grid()\n",
        "plt.plot(train_loss, label = 'MSE_train')\n",
        "plt.plot(test_loss, label = 'MSE_test')\n",
        "plt.ylabel('MSE')\n",
        "plt.xlabel('max_depth')\n",
        "plt.legend();"
      ],
      "id": "personal-triumph",
      "execution_count": 17,
      "outputs": [
        {
          "output_type": "display_data",
          "data": {
            "image/png": "[encoded data removed]",
            "text/plain": [
              "<Figure size 720x504 with 1 Axes>"
            ]
          },
          "metadata": {
            "needs_background": "light"
          }
        }
      ]
    },
    {
      "cell_type": "markdown",
      "metadata": {
        "id": "august-whole"
      },
      "source": [
        "Переобучение не наблюдается. Вообще же, как обычно, гиперпараметры случайного леса стоит подбирать на кросс-валидации."
      ],
      "id": "august-whole"
    },
    {
      "cell_type": "markdown",
      "metadata": {
        "id": "inside-basic"
      },
      "source": [
        "#### 4.2 Out-of-bag-ошибка"
      ],
      "id": "inside-basic"
    },
    {
      "cell_type": "markdown",
      "metadata": {
        "id": "accessible-venezuela"
      },
      "source": [
        "Как мы обсудили выше, при построении случайного леса каждое дерево строится на бутстрапированной подвыборке, полученной из исходной обучающей выборки случайным набором с повторениями. Понятно, что некоторые наблюдения попадут в такую подвыборку несколько раз, а некоторые не войдут в неё вообще. Для каждого дерева можем рассмотреть объекты, которые не участвовали в обучении и использовать их для валидации.\n",
        "\n",
        "Усреднённая ошибка на неотобранных образцах по всему случайному лесу называется **out-of-bag-ошибкой**."
      ],
      "id": "accessible-venezuela"
    },
    {
      "cell_type": "code",
      "metadata": {
        "id": "three-extra",
        "colab": {
          "base_uri": "https://localhost:8080/"
        },
        "outputId": "be686d5b-e1b0-49a0-a02b-a275d470047c"
      },
      "source": [
        "X, y = boston_housing_data()\n",
        "X_train, X_test, y_train, y_test = train_test_split(X, y,\n",
        "                                                    test_size = 0.3,\n",
        "                                                    random_state = 123,\n",
        "                                                    shuffle = True)\n",
        "\n",
        "X_train, X_test, y_train, y_test = train_test_split(X, y, test_size = 0.3, random_state = 123)\n",
        "\n",
        "# oob_score_ = R2 на невиденных наблюдениях\n",
        "rf = RandomForestRegressor(n_estimators = 100, random_state = 123, oob_score = True)\n",
        "rf.fit(X_train, y_train)\n",
        "rf.oob_score_"
      ],
      "id": "three-extra",
      "execution_count": 18,
      "outputs": [
        {
          "output_type": "execute_result",
          "data": {
            "text/plain": [
              "0.8761263356544452"
            ]
          },
          "metadata": {},
          "execution_count": 18
        }
      ]
    },
    {
      "cell_type": "markdown",
      "metadata": {
        "id": "killing-partnership"
      },
      "source": [
        "#### 4.3 Важность признаков"
      ],
      "id": "killing-partnership"
    },
    {
      "cell_type": "markdown",
      "metadata": {
        "id": "stunning-lightweight"
      },
      "source": [
        "Как и решающие деревья, случайный лес позволяет оценивать важность признаков."
      ],
      "id": "stunning-lightweight"
    },
    {
      "cell_type": "code",
      "metadata": {
        "id": "threatened-rating"
      },
      "source": [
        "from sklearn.datasets import load_boston\n",
        "data = load_boston()"
      ],
      "id": "threatened-rating",
      "execution_count": 19,
      "outputs": []
    },
    {
      "cell_type": "code",
      "metadata": {
        "id": "genuine-swedish",
        "colab": {
          "base_uri": "https://localhost:8080/",
          "height": 428
        },
        "outputId": "214b12de-7999-4c08-e561-de730ebccaa4"
      },
      "source": [
        "plt.figure(figsize = (10, 7))\n",
        "plt.bar(data['feature_names'], rf.feature_importances_);"
      ],
      "id": "genuine-swedish",
      "execution_count": 20,
      "outputs": [
        {
          "output_type": "display_data",
          "data": {
            "image/png": "[encoded data removed]",
            "text/plain": [
              "<Figure size 720x504 with 1 Axes>"
            ]
          },
          "metadata": {
            "needs_background": "light"
          }
        }
      ]
    },
    {
      "cell_type": "markdown",
      "metadata": {
        "id": "human-writer"
      },
      "source": [
        "Будьте осторожны с сильно коррелирующими признаками. Посмотрим, что произойдёт с важностью, если добавить в выборку линейно зависимый признак."
      ],
      "id": "human-writer"
    },
    {
      "cell_type": "code",
      "metadata": {
        "id": "covered-booth"
      },
      "source": [
        "RM_mc = (X_train[:, 5] * 2 + 3).reshape(-1, 1)\n",
        "X_train_new = np.hstack((X_train, RM_mc))"
      ],
      "id": "covered-booth",
      "execution_count": 21,
      "outputs": []
    },
    {
      "cell_type": "code",
      "metadata": {
        "id": "romantic-opportunity",
        "colab": {
          "base_uri": "https://localhost:8080/"
        },
        "outputId": "a69ee6ff-61c4-4bdb-ac3e-40cd405fa271"
      },
      "source": [
        "rf.fit(X_train_new, y_train)"
      ],
      "id": "romantic-opportunity",
      "execution_count": 22,
      "outputs": [
        {
          "output_type": "execute_result",
          "data": {
            "text/plain": [
              "RandomForestRegressor(bootstrap=True, ccp_alpha=0.0, criterion='mse',\n",
              "                      max_depth=None, max_features='auto', max_leaf_nodes=None,\n",
              "                      max_samples=None, min_impurity_decrease=0.0,\n",
              "                      min_impurity_split=None, min_samples_leaf=1,\n",
              "                      min_samples_split=2, min_weight_fraction_leaf=0.0,\n",
              "                      n_estimators=100, n_jobs=None, oob_score=True,\n",
              "                      random_state=123, verbose=0, warm_start=False)"
            ]
          },
          "metadata": {},
          "execution_count": 22
        }
      ]
    },
    {
      "cell_type": "code",
      "metadata": {
        "id": "technical-glenn",
        "colab": {
          "base_uri": "https://localhost:8080/",
          "height": 429
        },
        "outputId": "1753486b-deb7-4dd6-d7fa-b1e08dddca53"
      },
      "source": [
        "plt.figure(figsize = (10, 7))\n",
        "names = list(data['feature_names'])\n",
        "names.append('RM_mc')\n",
        "plt.bar(names, rf.feature_importances_);"
      ],
      "id": "technical-glenn",
      "execution_count": 23,
      "outputs": [
        {
          "output_type": "display_data",
          "data": {
            "image/png": "[encoded data removed]",
            "text/plain": [
              "<Figure size 720x504 with 1 Axes>"
            ]
          },
          "metadata": {
            "needs_background": "light"
          }
        }
      ]
    },
    {
      "cell_type": "markdown",
      "metadata": {
        "id": "polyphonic-swing"
      },
      "source": [
        "Важности перераспределились между линейной зависимыми признаками `RM` и `RM_mc`. Не забывайте учитывать корреляции между признаками, если вы используете этот метод для отбора признаков. Также обратите внимание на предупреждение в документации `sklearn`: не стоит использовать этот метод и для признаков, в которых есть много уникальных значений (например, категориальные признаки с небольшим числом категорий). "
      ],
      "id": "polyphonic-swing"
    },
    {
      "cell_type": "markdown",
      "metadata": {
        "id": "awful-motel"
      },
      "source": [
        "### 5. Тестирование случайного леса на разных данных"
      ],
      "id": "awful-motel"
    },
    {
      "cell_type": "markdown",
      "metadata": {
        "id": "loving-circumstances"
      },
      "source": [
        "Ниже представлены шаблоны для сравнения случайного леса и других моделей на данных разных типов. Проведите побольше экспериментов, используя разные модели и метрики. Попробуйте подобрать гиперпараметры случайного леса так, чтобы достичь какого-нибудь порога качества. \n",
        "\n",
        "**Внимание:** в этой части вам предстоит скачивать объёмные наборы данных. Не забудьте удалить их после семинара, если не планируете использовать их в дальнейшем, чтобы они не занимали лишнее место на вашем компьютере.\n",
        "\n",
        "**! Случайный лес может обучаться достаточно долго.**"
      ],
      "id": "loving-circumstances"
    },
    {
      "cell_type": "markdown",
      "metadata": {
        "id": "found-scheme"
      },
      "source": [
        "#### 5.1 Бинарная классификация на примере [Kaggle Predicting a Biological Response](https://www.kaggle.com/c/bioresponse/data?select=train.csv)"
      ],
      "id": "found-scheme"
    },
    {
      "cell_type": "code",
      "metadata": {
        "id": "western-office"
      },
      "source": [
        "# Загрузка данных\n",
        "!wget  -O 'kaggle_response.csv' -q 'https://www.dropbox.com/s/uha70sej5ugcrur/_train_sem09.csv?dl=1'"
      ],
      "id": "western-office",
      "execution_count": 24,
      "outputs": []
    },
    {
      "cell_type": "code",
      "metadata": {
        "id": "colonial-calculation"
      },
      "source": [
        "data = pd.read_csv('kaggle_response.csv')\n",
        "X = data.iloc[:, 1:].values\n",
        "y = data.iloc[:, 0].values\n",
        "X_train, X_test, y_train, y_test = train_test_split(X, y, test_size = 0.3, random_state = 123)"
      ],
      "id": "colonial-calculation",
      "execution_count": 25,
      "outputs": []
    },
    {
      "cell_type": "code",
      "metadata": {
        "id": "educated-think",
        "colab": {
          "base_uri": "https://localhost:8080/"
        },
        "outputId": "4b273103-e2ed-425c-ece7-ea2bd263d75b"
      },
      "source": [
        "from sklearn.linear_model import LogisticRegression\n",
        "from sklearn.ensemble import RandomForestClassifier\n",
        "from sklearn.metrics import roc_auc_score\n",
        "\n",
        "# TODO: обучите логистическую регрессию и случайный лес с дефолтными параметрами\n",
        "# Сравните их AUC ROC на тестовой выборке"
      ],
      "id": "educated-think",
      "execution_count": 26,
      "outputs": [
        {
          "output_type": "stream",
          "name": "stderr",
          "text": [
            "/usr/local/lib/python3.7/dist-packages/sklearn/linear_model/_logistic.py:940: ConvergenceWarning: lbfgs failed to converge (status=1):\n",
            "STOP: TOTAL NO. of ITERATIONS REACHED LIMIT.\n",
            "\n",
            "Increase the number of iterations (max_iter) or scale the data as shown in:\n",
            "    https://scikit-learn.org/stable/modules/preprocessing.html\n",
            "Please also refer to the documentation for alternative solver options:\n",
            "    https://scikit-learn.org/stable/modules/linear_model.html#logistic-regression\n",
            "  extra_warning_msg=_LOGISTIC_SOLVER_CONVERGENCE_MSG)\n"
          ]
        }
      ]
    },
    {
      "cell_type": "markdown",
      "metadata": {
        "id": "apparent-colon"
      },
      "source": [
        "#### 5.2 Изображения на примере [Fashion MNIST](https://github.com/zalandoresearch/fashion-mnist)"
      ],
      "id": "apparent-colon"
    },
    {
      "cell_type": "code",
      "metadata": {
        "id": "furnished-indian",
        "colab": {
          "base_uri": "https://localhost:8080/",
          "height": 477,
          "referenced_widgets": [
            "ec9bd427d9ee42359df0c1f99e8ef8ce",
            "afe74050a51f4b438bd007f057b4f86c",
            "c66fa338856c414387ec248417caf59d",
            "2ea46636f877413b83d6a6bcc485a692",
            "296a7b6a8e8e4cae8c976886e74e7bee",
            "de54934f8f7e4d95939a296e5403dcee",
            "613284d6e3d444849399b9c7d3393b50",
            "de24b9e5f112427980136500eb7c5a0b",
            "9b49cf363b1f43e089e7895efcc45699",
            "64db2474fe0444358c20ab411ffe377a",
            "9870aa59b04c44a4a62c53deec309ee9",
            "a8f06bd9d74d4261bf173fb6d4df2316",
            "a987da72ae5f44c9882f09ea964b22d1",
            "dfb5f51579e045dfad331b1926d553ab",
            "19fc225fa79e40e6ae63244466abb4bf",
            "e9ca36d117624853b59966eb6b42763e",
            "5d2cbaa14138455ba04ba2ae4ccfd8c3",
            "a92999f57c674474bc989c08798d9a7e",
            "6f442d0780bf48298d8fe247254ad2de",
            "b143d0bd6e8a4a4c885f64c6a2f80f0c",
            "425e7f8c714d4382b1e128964d7b8791",
            "3190b8a9405f41e4ab80de63babd25ac",
            "0a4783e4268d4f18b1bae0641eba5f4a",
            "39626dd0f7cc4bd8ba51327f3a729065",
            "6ea27d8d75f34318ab3eac632276be0b",
            "9c835b53e2f343d08f473bbe19b06b95",
            "ec86c50824854f72abc175bb40885d13",
            "1fe032d66bea4f029cfc716f4a0c8103",
            "a969957545d94a9aab02deb067606ece",
            "90c69bcad96f48e8a9f4332dd3a9abc8",
            "60bf9fdd05934169825fa9238a7066a1",
            "bd5028e366a04ee48b692da558f7cf7f",
            "95c7bf61064b491a8b1bf0273b7cd75f",
            "62347cac903745dd95612ca60c26b0d8",
            "3a0667813336475fbfc12baf6c2c921d",
            "6c40f6c2310c453194d585aaa2ae16e9",
            "5b00d602029d4c5ab099ffe530fb539b",
            "fab43ad5dc7d47fd8eb89a0ae24d5621",
            "a5f29285b1f6425b962af8b902372f99",
            "e41c49113fa74b40911982d86528ba70",
            "1f43d0d10e5f4526a57aa5e20c98417e",
            "4990ca7b4bc6457f85bd2525b6290b6d",
            "b9e8ef5a535f472998675e483953f1ec",
            "4605a05c0f77418cad7ac33420f63316"
          ]
        },
        "outputId": "c5918be2-71db-436d-fe05-e6945c3f4e4d"
      },
      "source": [
        "# Загрузка данных\n",
        "import torchvision\n",
        "\n",
        "fmnist = torchvision.datasets.FashionMNIST('./', download = True)\n",
        "X = fmnist.data.numpy().reshape(-1, 28 * 28)\n",
        "y = fmnist.targets.numpy()"
      ],
      "id": "furnished-indian",
      "execution_count": 29,
      "outputs": [
        {
          "output_type": "stream",
          "name": "stdout",
          "text": [
            "Downloading http://fashion-mnist.s3-website.eu-central-1.amazonaws.com/train-images-idx3-ubyte.gz\n",
            "Downloading http://fashion-mnist.s3-website.eu-central-1.amazonaws.com/train-images-idx3-ubyte.gz to ./FashionMNIST/raw/train-images-idx3-ubyte.gz\n"
          ]
        },
        {
          "output_type": "display_data",
          "data": {
            "application/vnd.jupyter.widget-view+json": {
              "model_id": "ec9bd427d9ee42359df0c1f99e8ef8ce",
              "version_minor": 0,
              "version_major": 2
            },
            "text/plain": [
              "  0%|          | 0/26421880 [00:00<?, ?it/s]"
            ]
          },
          "metadata": {}
        },
        {
          "output_type": "stream",
          "name": "stdout",
          "text": [
            "Extracting ./FashionMNIST/raw/train-images-idx3-ubyte.gz to ./FashionMNIST/raw\n",
            "\n",
            "Downloading http://fashion-mnist.s3-website.eu-central-1.amazonaws.com/train-labels-idx1-ubyte.gz\n",
            "Downloading http://fashion-mnist.s3-website.eu-central-1.amazonaws.com/train-labels-idx1-ubyte.gz to ./FashionMNIST/raw/train-labels-idx1-ubyte.gz\n"
          ]
        },
        {
          "output_type": "display_data",
          "data": {
            "application/vnd.jupyter.widget-view+json": {
              "model_id": "a8f06bd9d74d4261bf173fb6d4df2316",
              "version_minor": 0,
              "version_major": 2
            },
            "text/plain": [
              "  0%|          | 0/29515 [00:00<?, ?it/s]"
            ]
          },
          "metadata": {}
        },
        {
          "output_type": "stream",
          "name": "stdout",
          "text": [
            "Extracting ./FashionMNIST/raw/train-labels-idx1-ubyte.gz to ./FashionMNIST/raw\n",
            "\n",
            "Downloading http://fashion-mnist.s3-website.eu-central-1.amazonaws.com/t10k-images-idx3-ubyte.gz\n",
            "Downloading http://fashion-mnist.s3-website.eu-central-1.amazonaws.com/t10k-images-idx3-ubyte.gz to ./FashionMNIST/raw/t10k-images-idx3-ubyte.gz\n"
          ]
        },
        {
          "output_type": "display_data",
          "data": {
            "application/vnd.jupyter.widget-view+json": {
              "model_id": "0a4783e4268d4f18b1bae0641eba5f4a",
              "version_minor": 0,
              "version_major": 2
            },
            "text/plain": [
              "  0%|          | 0/4422102 [00:00<?, ?it/s]"
            ]
          },
          "metadata": {}
        },
        {
          "output_type": "stream",
          "name": "stdout",
          "text": [
            "Extracting ./FashionMNIST/raw/t10k-images-idx3-ubyte.gz to ./FashionMNIST/raw\n",
            "\n",
            "Downloading http://fashion-mnist.s3-website.eu-central-1.amazonaws.com/t10k-labels-idx1-ubyte.gz\n",
            "Downloading http://fashion-mnist.s3-website.eu-central-1.amazonaws.com/t10k-labels-idx1-ubyte.gz to ./FashionMNIST/raw/t10k-labels-idx1-ubyte.gz\n"
          ]
        },
        {
          "output_type": "display_data",
          "data": {
            "application/vnd.jupyter.widget-view+json": {
              "model_id": "62347cac903745dd95612ca60c26b0d8",
              "version_minor": 0,
              "version_major": 2
            },
            "text/plain": [
              "  0%|          | 0/5148 [00:00<?, ?it/s]"
            ]
          },
          "metadata": {}
        },
        {
          "output_type": "stream",
          "name": "stdout",
          "text": [
            "Extracting ./FashionMNIST/raw/t10k-labels-idx1-ubyte.gz to ./FashionMNIST/raw\n",
            "\n"
          ]
        },
        {
          "output_type": "stream",
          "name": "stderr",
          "text": [
            "/usr/local/lib/python3.7/dist-packages/torchvision/datasets/mnist.py:498: UserWarning: The given NumPy array is not writeable, and PyTorch does not support non-writeable tensors. This means you can write to the underlying (supposedly non-writeable) NumPy array using the tensor. You may want to copy the array to protect its data or make it writeable before converting it to a tensor. This type of warning will be suppressed for the rest of this program. (Triggered internally at  /pytorch/torch/csrc/utils/tensor_numpy.cpp:180.)\n",
            "  return torch.from_numpy(parsed.astype(m[2], copy=False)).view(*s)\n"
          ]
        }
      ]
    },
    {
      "cell_type": "code",
      "metadata": {
        "id": "isolated-celebrity",
        "colab": {
          "base_uri": "https://localhost:8080/",
          "height": 283
        },
        "outputId": "3825ab88-f8a6-4a0e-db9d-8a9955395afa"
      },
      "source": [
        "plt.imshow(X[0, :].reshape(28, 28))"
      ],
      "id": "isolated-celebrity",
      "execution_count": 31,
      "outputs": [
        {
          "output_type": "execute_result",
          "data": {
            "text/plain": [
              "<matplotlib.image.AxesImage at 0x7fddb1f52e50>"
            ]
          },
          "metadata": {},
          "execution_count": 31
        },
        {
          "output_type": "display_data",
          "data": {
            "image/png": "[encoded data removed]",
            "text/plain": [
              "<Figure size 432x288 with 1 Axes>"
            ]
          },
          "metadata": {
            "needs_background": "light"
          }
        }
      ]
    },
    {
      "cell_type": "code",
      "metadata": {
        "id": "magnetic-moscow"
      },
      "source": [
        "X_train, X_test, y_train, y_test = train_test_split(X, y, test_size = 0.3, random_state = 123)"
      ],
      "id": "magnetic-moscow",
      "execution_count": 32,
      "outputs": []
    },
    {
      "cell_type": "code",
      "metadata": {
        "id": "together-diesel"
      },
      "source": [
        "from sklearn.neighbors import KNeighborsClassifier\n",
        "from sklearn.metrics import accuracy_score\n",
        "\n",
        "# TODO: обучите случайный лес и kNN с дефолтными параметрами\n",
        "# Сравните их доли правильных ответов на тестовой выборке"
      ],
      "id": "together-diesel",
      "execution_count": null,
      "outputs": []
    },
    {
      "cell_type": "markdown",
      "metadata": {
        "id": "activated-nepal"
      },
      "source": [
        "#### 5.3 Тексты на примере бинарной классификации твитов\n",
        "\n",
        "Скачиваем куски датасета ([источник](http://study.mokoron.com/)): [положительные](https://www.dropbox.com/s/fnpq3z4bcnoktiv/positive.csv?dl=0), [отрицательные](https://www.dropbox.com/s/r6u59ljhhjdg6j0/negative.csv)."
      ],
      "id": "activated-nepal"
    },
    {
      "cell_type": "code",
      "metadata": {
        "id": "biblical-volume"
      },
      "source": [
        "from sklearn.feature_extraction.text import CountVectorizer\n",
        "from sklearn.preprocessing import MaxAbsScaler\n",
        "\n",
        "# Предобработка\n",
        "positive = pd.read_csv('positive.csv', sep=';', usecols=[3], names=['text'])\n",
        "positive['label'] = 'positive'\n",
        "negative = pd.read_csv('negative.csv', sep=';', usecols=[3], names=['text'])\n",
        "negative['label'] = 'negative'\n",
        "df = positive.append(negative)\n",
        "\n",
        "X_train, X_test, y_train, y_test = train_test_split(df.text, df.label, random_state=13)\n",
        "\n",
        "vec = CountVectorizer(ngram_range=(1, 1))\n",
        "bow = vec.fit_transform(X_train)\n",
        "bow_test = vec.transform(X_test)\n",
        "\n",
        "scaler = MaxAbsScaler()\n",
        "bow = scaler.fit_transform(bow)\n",
        "bow_test = scaler.transform(bow_test)\n",
        "\n",
        "X_train = bow\n",
        "X_test = bow_test"
      ],
      "id": "biblical-volume",
      "execution_count": null,
      "outputs": []
    },
    {
      "cell_type": "code",
      "metadata": {
        "id": "excessive-difference"
      },
      "source": [
        "from sklearn.tree import DecisionTreeClassifier\n",
        "\n",
        "# TODO: обучите случайный лес с числом деревьев 100 и макс. глубиной дерева 20 \n",
        "# и решающее дерево с макс. глубиной 20\n",
        "# Сравните их доли правильных ответов на тестовой выборке"
      ],
      "id": "excessive-difference",
      "execution_count": null,
      "outputs": []
    }
  ]
}